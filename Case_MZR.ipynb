{
  "nbformat": 4,
  "nbformat_minor": 0,
  "metadata": {
    "colab": {
      "name": "Case - MZR",
      "provenance": [],
      "include_colab_link": true
    },
    "kernelspec": {
      "name": "python3",
      "display_name": "Python 3"
    },
    "language_info": {
      "name": "python"
    }
  },
  "cells": [
    {
      "cell_type": "markdown",
      "metadata": {
        "id": "view-in-github",
        "colab_type": "text"
      },
      "source": [
        "<a href=\"https://colab.research.google.com/github/SamuelSousaFerreira/Mercado-Financeiro/blob/main/Case_MZR.ipynb\" target=\"_parent\"><img src=\"https://colab.research.google.com/assets/colab-badge.svg\" alt=\"Open In Colab\"/></a>"
      ]
    },
    {
      "cell_type": "markdown",
      "metadata": {
        "id": "CmWhXYki4Wd-"
      },
      "source": [
        "# **Carregando os dados**"
      ]
    },
    {
      "cell_type": "code",
      "metadata": {
        "id": "v0CQk0FV5Jn8",
        "colab": {
          "base_uri": "https://localhost:8080/"
        },
        "outputId": "a66fb4c4-2e10-4110-9bc3-65af09210b89"
      },
      "source": [
        "import pandas as pd #operações com tabelas\n",
        "import numpy as np #operações matemáticas\n",
        "!pip install xlsxwriter #gerar o excel com várias abas de clientes\n",
        "import calendar # operações com data\n",
        "import datetime #operações com data"
      ],
      "execution_count": null,
      "outputs": [
        {
          "output_type": "stream",
          "text": [
            "Collecting xlsxwriter\n",
            "\u001b[?25l  Downloading https://files.pythonhosted.org/packages/2c/ce/74fd8d638a5b82ea0c6f08a5978f741c2655a38c3d6e82f73a0f084377e6/XlsxWriter-1.4.3-py2.py3-none-any.whl (149kB)\n",
            "\r\u001b[K     |██▏                             | 10kB 16.5MB/s eta 0:00:01\r\u001b[K     |████▍                           | 20kB 5.1MB/s eta 0:00:01\r\u001b[K     |██████▋                         | 30kB 4.3MB/s eta 0:00:01\r\u001b[K     |████████▊                       | 40kB 4.1MB/s eta 0:00:01\r\u001b[K     |███████████                     | 51kB 2.1MB/s eta 0:00:01\r\u001b[K     |█████████████▏                  | 61kB 2.3MB/s eta 0:00:01\r\u001b[K     |███████████████▍                | 71kB 2.5MB/s eta 0:00:01\r\u001b[K     |█████████████████▌              | 81kB 2.5MB/s eta 0:00:01\r\u001b[K     |███████████████████▊            | 92kB 2.7MB/s eta 0:00:01\r\u001b[K     |██████████████████████          | 102kB 2.9MB/s eta 0:00:01\r\u001b[K     |████████████████████████▏       | 112kB 2.9MB/s eta 0:00:01\r\u001b[K     |██████████████████████████▎     | 122kB 2.9MB/s eta 0:00:01\r\u001b[K     |████████████████████████████▌   | 133kB 2.9MB/s eta 0:00:01\r\u001b[K     |██████████████████████████████▊ | 143kB 2.9MB/s eta 0:00:01\r\u001b[K     |████████████████████████████████| 153kB 2.9MB/s \n",
            "\u001b[?25hInstalling collected packages: xlsxwriter\n",
            "Successfully installed xlsxwriter-1.4.3\n"
          ],
          "name": "stdout"
        }
      ]
    },
    {
      "cell_type": "code",
      "metadata": {
        "colab": {
          "base_uri": "https://localhost:8080/",
          "height": 204
        },
        "id": "B5PnrqJG5Wqm",
        "outputId": "180c1376-87f4-42d5-bcb6-d58102171dea"
      },
      "source": [
        "arquivo_excel = pd.ExcelFile(\"/content/drive/MyDrive/Portfólio/Case da MZR/Desafio VBA.xlsx\") #Carrego o excel\n",
        "\n",
        "operações = pd.read_excel(arquivo_excel, sheet_name='Trade Output', header=1)# index_col= 'Date & Time' # coloco em um DataFrame as abas desejadas\n",
        "desafio = operações.copy()\n",
        "desafio.head()"
      ],
      "execution_count": null,
      "outputs": [
        {
          "output_type": "execute_result",
          "data": {
            "text/html": [
              "<div>\n",
              "<style scoped>\n",
              "    .dataframe tbody tr th:only-of-type {\n",
              "        vertical-align: middle;\n",
              "    }\n",
              "\n",
              "    .dataframe tbody tr th {\n",
              "        vertical-align: top;\n",
              "    }\n",
              "\n",
              "    .dataframe thead th {\n",
              "        text-align: right;\n",
              "    }\n",
              "</style>\n",
              "<table border=\"1\" class=\"dataframe\">\n",
              "  <thead>\n",
              "    <tr style=\"text-align: right;\">\n",
              "      <th></th>\n",
              "      <th>Unnamed: 0</th>\n",
              "      <th>Date &amp; Time</th>\n",
              "      <th>Stock</th>\n",
              "      <th>B/S</th>\n",
              "      <th>Amount</th>\n",
              "      <th>Client</th>\n",
              "      <th>Price</th>\n",
              "    </tr>\n",
              "  </thead>\n",
              "  <tbody>\n",
              "    <tr>\n",
              "      <th>0</th>\n",
              "      <td>NaN</td>\n",
              "      <td>2021-05-07 13:32:31.350</td>\n",
              "      <td>BBDC3</td>\n",
              "      <td>B</td>\n",
              "      <td>5</td>\n",
              "      <td>1040</td>\n",
              "      <td>20.82</td>\n",
              "    </tr>\n",
              "    <tr>\n",
              "      <th>1</th>\n",
              "      <td>NaN</td>\n",
              "      <td>2021-05-07 13:32:32.214</td>\n",
              "      <td>PETR4</td>\n",
              "      <td>S</td>\n",
              "      <td>5</td>\n",
              "      <td>1040</td>\n",
              "      <td>25.19</td>\n",
              "    </tr>\n",
              "    <tr>\n",
              "      <th>2</th>\n",
              "      <td>NaN</td>\n",
              "      <td>2021-05-07 13:32:33.078</td>\n",
              "      <td>SANB11</td>\n",
              "      <td>S</td>\n",
              "      <td>20</td>\n",
              "      <td>Mesa</td>\n",
              "      <td>38.91</td>\n",
              "    </tr>\n",
              "    <tr>\n",
              "      <th>3</th>\n",
              "      <td>NaN</td>\n",
              "      <td>2021-05-07 13:32:33.942</td>\n",
              "      <td>PETR4</td>\n",
              "      <td>S</td>\n",
              "      <td>10</td>\n",
              "      <td>2806</td>\n",
              "      <td>23.54</td>\n",
              "    </tr>\n",
              "    <tr>\n",
              "      <th>4</th>\n",
              "      <td>NaN</td>\n",
              "      <td>2021-05-07 13:32:34.806</td>\n",
              "      <td>BBDC3</td>\n",
              "      <td>B</td>\n",
              "      <td>10</td>\n",
              "      <td>2030</td>\n",
              "      <td>21.11</td>\n",
              "    </tr>\n",
              "  </tbody>\n",
              "</table>\n",
              "</div>"
            ],
            "text/plain": [
              "   Unnamed: 0             Date & Time   Stock B/S  Amount Client  Price\n",
              "0         NaN 2021-05-07 13:32:31.350   BBDC3   B       5   1040  20.82\n",
              "1         NaN 2021-05-07 13:32:32.214   PETR4   S       5   1040  25.19\n",
              "2         NaN 2021-05-07 13:32:33.078  SANB11   S      20   Mesa  38.91\n",
              "3         NaN 2021-05-07 13:32:33.942   PETR4   S      10   2806  23.54\n",
              "4         NaN 2021-05-07 13:32:34.806   BBDC3   B      10   2030  21.11"
            ]
          },
          "metadata": {
            "tags": []
          },
          "execution_count": 142
        }
      ]
    },
    {
      "cell_type": "code",
      "metadata": {
        "colab": {
          "base_uri": "https://localhost:8080/",
          "height": 204
        },
        "id": "f1_HhkKB5z6N",
        "outputId": "28aa7647-cec2-4f77-b9d8-a61dcd085fd1"
      },
      "source": [
        "desafio.drop(columns='Unnamed: 0', inplace=True) #excluindo a coluna em branco\n",
        "desafio.head() #conferindo"
      ],
      "execution_count": null,
      "outputs": [
        {
          "output_type": "execute_result",
          "data": {
            "text/html": [
              "<div>\n",
              "<style scoped>\n",
              "    .dataframe tbody tr th:only-of-type {\n",
              "        vertical-align: middle;\n",
              "    }\n",
              "\n",
              "    .dataframe tbody tr th {\n",
              "        vertical-align: top;\n",
              "    }\n",
              "\n",
              "    .dataframe thead th {\n",
              "        text-align: right;\n",
              "    }\n",
              "</style>\n",
              "<table border=\"1\" class=\"dataframe\">\n",
              "  <thead>\n",
              "    <tr style=\"text-align: right;\">\n",
              "      <th></th>\n",
              "      <th>Date &amp; Time</th>\n",
              "      <th>Stock</th>\n",
              "      <th>B/S</th>\n",
              "      <th>Amount</th>\n",
              "      <th>Client</th>\n",
              "      <th>Price</th>\n",
              "    </tr>\n",
              "  </thead>\n",
              "  <tbody>\n",
              "    <tr>\n",
              "      <th>0</th>\n",
              "      <td>2021-05-07 13:32:31.350</td>\n",
              "      <td>BBDC3</td>\n",
              "      <td>B</td>\n",
              "      <td>5</td>\n",
              "      <td>1040</td>\n",
              "      <td>20.82</td>\n",
              "    </tr>\n",
              "    <tr>\n",
              "      <th>1</th>\n",
              "      <td>2021-05-07 13:32:32.214</td>\n",
              "      <td>PETR4</td>\n",
              "      <td>S</td>\n",
              "      <td>5</td>\n",
              "      <td>1040</td>\n",
              "      <td>25.19</td>\n",
              "    </tr>\n",
              "    <tr>\n",
              "      <th>2</th>\n",
              "      <td>2021-05-07 13:32:33.078</td>\n",
              "      <td>SANB11</td>\n",
              "      <td>S</td>\n",
              "      <td>20</td>\n",
              "      <td>Mesa</td>\n",
              "      <td>38.91</td>\n",
              "    </tr>\n",
              "    <tr>\n",
              "      <th>3</th>\n",
              "      <td>2021-05-07 13:32:33.942</td>\n",
              "      <td>PETR4</td>\n",
              "      <td>S</td>\n",
              "      <td>10</td>\n",
              "      <td>2806</td>\n",
              "      <td>23.54</td>\n",
              "    </tr>\n",
              "    <tr>\n",
              "      <th>4</th>\n",
              "      <td>2021-05-07 13:32:34.806</td>\n",
              "      <td>BBDC3</td>\n",
              "      <td>B</td>\n",
              "      <td>10</td>\n",
              "      <td>2030</td>\n",
              "      <td>21.11</td>\n",
              "    </tr>\n",
              "  </tbody>\n",
              "</table>\n",
              "</div>"
            ],
            "text/plain": [
              "              Date & Time   Stock B/S  Amount Client  Price\n",
              "0 2021-05-07 13:32:31.350   BBDC3   B       5   1040  20.82\n",
              "1 2021-05-07 13:32:32.214   PETR4   S       5   1040  25.19\n",
              "2 2021-05-07 13:32:33.078  SANB11   S      20   Mesa  38.91\n",
              "3 2021-05-07 13:32:33.942   PETR4   S      10   2806  23.54\n",
              "4 2021-05-07 13:32:34.806   BBDC3   B      10   2030  21.11"
            ]
          },
          "metadata": {
            "tags": []
          },
          "execution_count": 143
        }
      ]
    },
    {
      "cell_type": "code",
      "metadata": {
        "colab": {
          "base_uri": "https://localhost:8080/"
        },
        "id": "q9ivefQF6sCh",
        "outputId": "bb1df8ac-d8fe-4587-dc57-902c7937bdf6"
      },
      "source": [
        "desafio.info()\n",
        "#Verificando os dados e a tipagem\n",
        "#não há dados faltantes e nem nulos nas 1000 linhas\n",
        "#tipagem feita corretamente, portanto não é necessário alterar nada."
      ],
      "execution_count": null,
      "outputs": [
        {
          "output_type": "stream",
          "text": [
            "<class 'pandas.core.frame.DataFrame'>\n",
            "RangeIndex: 1000 entries, 0 to 999\n",
            "Data columns (total 6 columns):\n",
            " #   Column       Non-Null Count  Dtype         \n",
            "---  ------       --------------  -----         \n",
            " 0   Date & Time  1000 non-null   datetime64[ns]\n",
            " 1   Stock        1000 non-null   object        \n",
            " 2   B/S          1000 non-null   object        \n",
            " 3   Amount       1000 non-null   int64         \n",
            " 4   Client       1000 non-null   object        \n",
            " 5   Price        1000 non-null   float64       \n",
            "dtypes: datetime64[ns](1), float64(1), int64(1), object(3)\n",
            "memory usage: 47.0+ KB\n"
          ],
          "name": "stdout"
        }
      ]
    },
    {
      "cell_type": "code",
      "metadata": {
        "colab": {
          "base_uri": "https://localhost:8080/",
          "height": 204
        },
        "id": "fIOqPmeVD2r1",
        "outputId": "442b1364-9345-4cda-8313-8ef190a191e9"
      },
      "source": [
        "#A coluna B/S, significa B=Buy e S=Sell, então substituiremos B por 1 e S por -1.\n",
        "compra_venda = {'B':1,'S':-1}\n",
        "desafio['B/S'] = desafio['B/S'].map(compra_venda)\n",
        "#esafio['Compra/Venda'] = desafio['B/S'].map(compra_venda) ou criar uma nova coluna\n",
        "desafio.head()"
      ],
      "execution_count": null,
      "outputs": [
        {
          "output_type": "execute_result",
          "data": {
            "text/html": [
              "<div>\n",
              "<style scoped>\n",
              "    .dataframe tbody tr th:only-of-type {\n",
              "        vertical-align: middle;\n",
              "    }\n",
              "\n",
              "    .dataframe tbody tr th {\n",
              "        vertical-align: top;\n",
              "    }\n",
              "\n",
              "    .dataframe thead th {\n",
              "        text-align: right;\n",
              "    }\n",
              "</style>\n",
              "<table border=\"1\" class=\"dataframe\">\n",
              "  <thead>\n",
              "    <tr style=\"text-align: right;\">\n",
              "      <th></th>\n",
              "      <th>Date &amp; Time</th>\n",
              "      <th>Stock</th>\n",
              "      <th>B/S</th>\n",
              "      <th>Amount</th>\n",
              "      <th>Client</th>\n",
              "      <th>Price</th>\n",
              "    </tr>\n",
              "  </thead>\n",
              "  <tbody>\n",
              "    <tr>\n",
              "      <th>0</th>\n",
              "      <td>2021-05-07 13:32:31.350</td>\n",
              "      <td>BBDC3</td>\n",
              "      <td>1</td>\n",
              "      <td>5</td>\n",
              "      <td>1040</td>\n",
              "      <td>20.82</td>\n",
              "    </tr>\n",
              "    <tr>\n",
              "      <th>1</th>\n",
              "      <td>2021-05-07 13:32:32.214</td>\n",
              "      <td>PETR4</td>\n",
              "      <td>-1</td>\n",
              "      <td>5</td>\n",
              "      <td>1040</td>\n",
              "      <td>25.19</td>\n",
              "    </tr>\n",
              "    <tr>\n",
              "      <th>2</th>\n",
              "      <td>2021-05-07 13:32:33.078</td>\n",
              "      <td>SANB11</td>\n",
              "      <td>-1</td>\n",
              "      <td>20</td>\n",
              "      <td>Mesa</td>\n",
              "      <td>38.91</td>\n",
              "    </tr>\n",
              "    <tr>\n",
              "      <th>3</th>\n",
              "      <td>2021-05-07 13:32:33.942</td>\n",
              "      <td>PETR4</td>\n",
              "      <td>-1</td>\n",
              "      <td>10</td>\n",
              "      <td>2806</td>\n",
              "      <td>23.54</td>\n",
              "    </tr>\n",
              "    <tr>\n",
              "      <th>4</th>\n",
              "      <td>2021-05-07 13:32:34.806</td>\n",
              "      <td>BBDC3</td>\n",
              "      <td>1</td>\n",
              "      <td>10</td>\n",
              "      <td>2030</td>\n",
              "      <td>21.11</td>\n",
              "    </tr>\n",
              "  </tbody>\n",
              "</table>\n",
              "</div>"
            ],
            "text/plain": [
              "              Date & Time   Stock  B/S  Amount Client  Price\n",
              "0 2021-05-07 13:32:31.350   BBDC3    1       5   1040  20.82\n",
              "1 2021-05-07 13:32:32.214   PETR4   -1       5   1040  25.19\n",
              "2 2021-05-07 13:32:33.078  SANB11   -1      20   Mesa  38.91\n",
              "3 2021-05-07 13:32:33.942   PETR4   -1      10   2806  23.54\n",
              "4 2021-05-07 13:32:34.806   BBDC3    1      10   2030  21.11"
            ]
          },
          "metadata": {
            "tags": []
          },
          "execution_count": 145
        }
      ]
    },
    {
      "cell_type": "code",
      "metadata": {
        "id": "xpVCrM60HUEm",
        "colab": {
          "base_uri": "https://localhost:8080/",
          "height": 204
        },
        "outputId": "3654c8cf-2e86-4e79-fd77-b0d6129d2045"
      },
      "source": [
        "#Regra:Posições vendidas devem entrar com sinal negativo nas carteiras.\n",
        "#Tanto as quantidades quanto o preço receberão o sinal negativo quando a operaçõe for de venda\n",
        "desafio['Amount'] = desafio['B/S'] * desafio.Amount\n",
        "desafio['Price'] = desafio['B/S'] * desafio.Price\n",
        "desafio.head()"
      ],
      "execution_count": null,
      "outputs": [
        {
          "output_type": "execute_result",
          "data": {
            "text/html": [
              "<div>\n",
              "<style scoped>\n",
              "    .dataframe tbody tr th:only-of-type {\n",
              "        vertical-align: middle;\n",
              "    }\n",
              "\n",
              "    .dataframe tbody tr th {\n",
              "        vertical-align: top;\n",
              "    }\n",
              "\n",
              "    .dataframe thead th {\n",
              "        text-align: right;\n",
              "    }\n",
              "</style>\n",
              "<table border=\"1\" class=\"dataframe\">\n",
              "  <thead>\n",
              "    <tr style=\"text-align: right;\">\n",
              "      <th></th>\n",
              "      <th>Date &amp; Time</th>\n",
              "      <th>Stock</th>\n",
              "      <th>B/S</th>\n",
              "      <th>Amount</th>\n",
              "      <th>Client</th>\n",
              "      <th>Price</th>\n",
              "    </tr>\n",
              "  </thead>\n",
              "  <tbody>\n",
              "    <tr>\n",
              "      <th>0</th>\n",
              "      <td>2021-05-07 13:32:31.350</td>\n",
              "      <td>BBDC3</td>\n",
              "      <td>1</td>\n",
              "      <td>5</td>\n",
              "      <td>1040</td>\n",
              "      <td>20.82</td>\n",
              "    </tr>\n",
              "    <tr>\n",
              "      <th>1</th>\n",
              "      <td>2021-05-07 13:32:32.214</td>\n",
              "      <td>PETR4</td>\n",
              "      <td>-1</td>\n",
              "      <td>-5</td>\n",
              "      <td>1040</td>\n",
              "      <td>-25.19</td>\n",
              "    </tr>\n",
              "    <tr>\n",
              "      <th>2</th>\n",
              "      <td>2021-05-07 13:32:33.078</td>\n",
              "      <td>SANB11</td>\n",
              "      <td>-1</td>\n",
              "      <td>-20</td>\n",
              "      <td>Mesa</td>\n",
              "      <td>-38.91</td>\n",
              "    </tr>\n",
              "    <tr>\n",
              "      <th>3</th>\n",
              "      <td>2021-05-07 13:32:33.942</td>\n",
              "      <td>PETR4</td>\n",
              "      <td>-1</td>\n",
              "      <td>-10</td>\n",
              "      <td>2806</td>\n",
              "      <td>-23.54</td>\n",
              "    </tr>\n",
              "    <tr>\n",
              "      <th>4</th>\n",
              "      <td>2021-05-07 13:32:34.806</td>\n",
              "      <td>BBDC3</td>\n",
              "      <td>1</td>\n",
              "      <td>10</td>\n",
              "      <td>2030</td>\n",
              "      <td>21.11</td>\n",
              "    </tr>\n",
              "  </tbody>\n",
              "</table>\n",
              "</div>"
            ],
            "text/plain": [
              "              Date & Time   Stock  B/S  Amount Client  Price\n",
              "0 2021-05-07 13:32:31.350   BBDC3    1       5   1040  20.82\n",
              "1 2021-05-07 13:32:32.214   PETR4   -1      -5   1040 -25.19\n",
              "2 2021-05-07 13:32:33.078  SANB11   -1     -20   Mesa -38.91\n",
              "3 2021-05-07 13:32:33.942   PETR4   -1     -10   2806 -23.54\n",
              "4 2021-05-07 13:32:34.806   BBDC3    1      10   2030  21.11"
            ]
          },
          "metadata": {
            "tags": []
          },
          "execution_count": 146
        }
      ]
    },
    {
      "cell_type": "code",
      "metadata": {
        "colab": {
          "base_uri": "https://localhost:8080/"
        },
        "id": "G2MQIkYK7Vx9",
        "outputId": "289d5169-d1db-4f41-c427-e921655a5eda"
      },
      "source": [
        "# Criando uma lista de Clientes da base para posterior agrupamento\n",
        "clientes = list(desafio.Client.unique()) \n",
        "clientes"
      ],
      "execution_count": null,
      "outputs": [
        {
          "output_type": "execute_result",
          "data": {
            "text/plain": [
              "[1040, 'Mesa', 2806, 2030, 1917, 1150, 3018]"
            ]
          },
          "metadata": {
            "tags": []
          },
          "execution_count": 147
        }
      ]
    },
    {
      "cell_type": "markdown",
      "metadata": {
        "id": "0vjkUejM-IZe"
      },
      "source": [
        "# **Mesa**\n",
        "As boletas registradas sob o operador “Mesa” devem ser especificadas para TODOS os clientes de forma equânime, ou seja, com o mesmo preço médio de forma que não haja seleção de preço por cliente (Fair Dealing).  "
      ]
    },
    {
      "cell_type": "code",
      "metadata": {
        "colab": {
          "base_uri": "https://localhost:8080/",
          "height": 204
        },
        "id": "8GL9YCuW-ll4",
        "outputId": "e91bffc2-54c9-43d9-a190-afb1bf2bc7e3"
      },
      "source": [
        "#filtrando as operações da Mesa\n",
        "mesa = desafio.loc[desafio.Client == 'Mesa']\n",
        "mesa.head()"
      ],
      "execution_count": null,
      "outputs": [
        {
          "output_type": "execute_result",
          "data": {
            "text/html": [
              "<div>\n",
              "<style scoped>\n",
              "    .dataframe tbody tr th:only-of-type {\n",
              "        vertical-align: middle;\n",
              "    }\n",
              "\n",
              "    .dataframe tbody tr th {\n",
              "        vertical-align: top;\n",
              "    }\n",
              "\n",
              "    .dataframe thead th {\n",
              "        text-align: right;\n",
              "    }\n",
              "</style>\n",
              "<table border=\"1\" class=\"dataframe\">\n",
              "  <thead>\n",
              "    <tr style=\"text-align: right;\">\n",
              "      <th></th>\n",
              "      <th>Date &amp; Time</th>\n",
              "      <th>Stock</th>\n",
              "      <th>B/S</th>\n",
              "      <th>Amount</th>\n",
              "      <th>Client</th>\n",
              "      <th>Price</th>\n",
              "    </tr>\n",
              "  </thead>\n",
              "  <tbody>\n",
              "    <tr>\n",
              "      <th>2</th>\n",
              "      <td>2021-05-07 13:32:33.078</td>\n",
              "      <td>SANB11</td>\n",
              "      <td>-1</td>\n",
              "      <td>-20</td>\n",
              "      <td>Mesa</td>\n",
              "      <td>-38.91</td>\n",
              "    </tr>\n",
              "    <tr>\n",
              "      <th>8</th>\n",
              "      <td>2021-05-07 13:32:38.262</td>\n",
              "      <td>ITUB4</td>\n",
              "      <td>1</td>\n",
              "      <td>15</td>\n",
              "      <td>Mesa</td>\n",
              "      <td>29.43</td>\n",
              "    </tr>\n",
              "    <tr>\n",
              "      <th>41</th>\n",
              "      <td>2021-05-07 13:33:06.774</td>\n",
              "      <td>BBDC3</td>\n",
              "      <td>1</td>\n",
              "      <td>5</td>\n",
              "      <td>Mesa</td>\n",
              "      <td>22.97</td>\n",
              "    </tr>\n",
              "    <tr>\n",
              "      <th>43</th>\n",
              "      <td>2021-05-07 13:33:08.502</td>\n",
              "      <td>BPAC11</td>\n",
              "      <td>1</td>\n",
              "      <td>5</td>\n",
              "      <td>Mesa</td>\n",
              "      <td>112.02</td>\n",
              "    </tr>\n",
              "    <tr>\n",
              "      <th>49</th>\n",
              "      <td>2021-05-07 13:33:13.686</td>\n",
              "      <td>MGLU3</td>\n",
              "      <td>1</td>\n",
              "      <td>15</td>\n",
              "      <td>Mesa</td>\n",
              "      <td>20.80</td>\n",
              "    </tr>\n",
              "  </tbody>\n",
              "</table>\n",
              "</div>"
            ],
            "text/plain": [
              "               Date & Time   Stock  B/S  Amount Client   Price\n",
              "2  2021-05-07 13:32:33.078  SANB11   -1     -20   Mesa  -38.91\n",
              "8  2021-05-07 13:32:38.262   ITUB4    1      15   Mesa   29.43\n",
              "41 2021-05-07 13:33:06.774   BBDC3    1       5   Mesa   22.97\n",
              "43 2021-05-07 13:33:08.502  BPAC11    1       5   Mesa  112.02\n",
              "49 2021-05-07 13:33:13.686   MGLU3    1      15   Mesa   20.80"
            ]
          },
          "metadata": {
            "tags": []
          },
          "execution_count": 157
        }
      ]
    },
    {
      "cell_type": "markdown",
      "metadata": {
        "id": "kumhiwGAOXhR"
      },
      "source": [
        "## Compra Mesa"
      ]
    },
    {
      "cell_type": "code",
      "metadata": {
        "colab": {
          "base_uri": "https://localhost:8080/",
          "height": 204
        },
        "id": "tYry-_XIAs85",
        "outputId": "149f898f-7936-49bd-db96-fc9e2ba8b7ae"
      },
      "source": [
        "#Quantidade de Ações compradas\n",
        "mesa_compr = mesa.loc[mesa['B/S'] == 1]\n",
        "mesa_compr.head()"
      ],
      "execution_count": null,
      "outputs": [
        {
          "output_type": "execute_result",
          "data": {
            "text/html": [
              "<div>\n",
              "<style scoped>\n",
              "    .dataframe tbody tr th:only-of-type {\n",
              "        vertical-align: middle;\n",
              "    }\n",
              "\n",
              "    .dataframe tbody tr th {\n",
              "        vertical-align: top;\n",
              "    }\n",
              "\n",
              "    .dataframe thead th {\n",
              "        text-align: right;\n",
              "    }\n",
              "</style>\n",
              "<table border=\"1\" class=\"dataframe\">\n",
              "  <thead>\n",
              "    <tr style=\"text-align: right;\">\n",
              "      <th></th>\n",
              "      <th>Date &amp; Time</th>\n",
              "      <th>Stock</th>\n",
              "      <th>B/S</th>\n",
              "      <th>Amount</th>\n",
              "      <th>Client</th>\n",
              "      <th>Price</th>\n",
              "    </tr>\n",
              "  </thead>\n",
              "  <tbody>\n",
              "    <tr>\n",
              "      <th>8</th>\n",
              "      <td>2021-05-07 13:32:38.262</td>\n",
              "      <td>ITUB4</td>\n",
              "      <td>1</td>\n",
              "      <td>15</td>\n",
              "      <td>Mesa</td>\n",
              "      <td>29.43</td>\n",
              "    </tr>\n",
              "    <tr>\n",
              "      <th>41</th>\n",
              "      <td>2021-05-07 13:33:06.774</td>\n",
              "      <td>BBDC3</td>\n",
              "      <td>1</td>\n",
              "      <td>5</td>\n",
              "      <td>Mesa</td>\n",
              "      <td>22.97</td>\n",
              "    </tr>\n",
              "    <tr>\n",
              "      <th>43</th>\n",
              "      <td>2021-05-07 13:33:08.502</td>\n",
              "      <td>BPAC11</td>\n",
              "      <td>1</td>\n",
              "      <td>5</td>\n",
              "      <td>Mesa</td>\n",
              "      <td>112.02</td>\n",
              "    </tr>\n",
              "    <tr>\n",
              "      <th>49</th>\n",
              "      <td>2021-05-07 13:33:13.686</td>\n",
              "      <td>MGLU3</td>\n",
              "      <td>1</td>\n",
              "      <td>15</td>\n",
              "      <td>Mesa</td>\n",
              "      <td>20.80</td>\n",
              "    </tr>\n",
              "    <tr>\n",
              "      <th>52</th>\n",
              "      <td>2021-05-07 13:33:16.278</td>\n",
              "      <td>ITUB4</td>\n",
              "      <td>1</td>\n",
              "      <td>10</td>\n",
              "      <td>Mesa</td>\n",
              "      <td>28.68</td>\n",
              "    </tr>\n",
              "  </tbody>\n",
              "</table>\n",
              "</div>"
            ],
            "text/plain": [
              "               Date & Time   Stock  B/S  Amount Client   Price\n",
              "8  2021-05-07 13:32:38.262   ITUB4    1      15   Mesa   29.43\n",
              "41 2021-05-07 13:33:06.774   BBDC3    1       5   Mesa   22.97\n",
              "43 2021-05-07 13:33:08.502  BPAC11    1       5   Mesa  112.02\n",
              "49 2021-05-07 13:33:13.686   MGLU3    1      15   Mesa   20.80\n",
              "52 2021-05-07 13:33:16.278   ITUB4    1      10   Mesa   28.68"
            ]
          },
          "metadata": {
            "tags": []
          },
          "execution_count": 158
        }
      ]
    },
    {
      "cell_type": "code",
      "metadata": {
        "colab": {
          "base_uri": "https://localhost:8080/"
        },
        "id": "1oonH-JzBT2z",
        "outputId": "e836d8db-fbc3-4c56-ddb8-ff16bbe7176d"
      },
      "source": [
        "#lista de ações mesa\n",
        "stock_mesa = list(mesa.Stock.unique())\n",
        "stock_mesa"
      ],
      "execution_count": null,
      "outputs": [
        {
          "output_type": "execute_result",
          "data": {
            "text/plain": [
              "['SANB11', 'ITUB4', 'BBDC3', 'BPAC11', 'MGLU3', 'PETR4']"
            ]
          },
          "metadata": {
            "tags": []
          },
          "execution_count": 159
        }
      ]
    },
    {
      "cell_type": "code",
      "metadata": {
        "colab": {
          "base_uri": "https://localhost:8080/",
          "height": 49
        },
        "id": "a2fE-KGaXD6U",
        "outputId": "f5491cf0-f315-4e3d-c6bf-62e8f541d963"
      },
      "source": [
        "#Criando um Data Frame para armazenar os Resultados\n",
        "neg_mesa = pd.DataFrame(columns=['Stock','Amount','Price'])\n",
        "neg_mesa"
      ],
      "execution_count": null,
      "outputs": [
        {
          "output_type": "execute_result",
          "data": {
            "text/html": [
              "<div>\n",
              "<style scoped>\n",
              "    .dataframe tbody tr th:only-of-type {\n",
              "        vertical-align: middle;\n",
              "    }\n",
              "\n",
              "    .dataframe tbody tr th {\n",
              "        vertical-align: top;\n",
              "    }\n",
              "\n",
              "    .dataframe thead th {\n",
              "        text-align: right;\n",
              "    }\n",
              "</style>\n",
              "<table border=\"1\" class=\"dataframe\">\n",
              "  <thead>\n",
              "    <tr style=\"text-align: right;\">\n",
              "      <th></th>\n",
              "      <th>Stock</th>\n",
              "      <th>Amount</th>\n",
              "      <th>Price</th>\n",
              "    </tr>\n",
              "  </thead>\n",
              "  <tbody>\n",
              "  </tbody>\n",
              "</table>\n",
              "</div>"
            ],
            "text/plain": [
              "Empty DataFrame\n",
              "Columns: [Stock, Amount, Price]\n",
              "Index: []"
            ]
          },
          "metadata": {
            "tags": []
          },
          "execution_count": 160
        }
      ]
    },
    {
      "cell_type": "code",
      "metadata": {
        "id": "dbLQrhn_SBGK"
      },
      "source": [
        "#Calculando a média por ação e armazeando no DF\n",
        "for x in stock_mesa:\n",
        "  acoes_x = mesa_compr.loc[mesa_compr.Stock == x]\n",
        "  negociadas = acoes_x.Amount.sum()\n",
        "  preco_medio = (np.average(acoes_x.Price,weights=acoes_x.Amount)).round(2) #media ponderada arredondando para 2 casas decimais\n",
        "  neg_mesa = neg_mesa.append({\"Stock\":x,\"Amount\":negociadas,'Price':preco_medio}, ignore_index=True)\n"
      ],
      "execution_count": null,
      "outputs": []
    },
    {
      "cell_type": "code",
      "metadata": {
        "colab": {
          "base_uri": "https://localhost:8080/",
          "height": 235
        },
        "id": "oi-PU9Z_YJPd",
        "outputId": "a9e469e6-cdd4-4e2c-bb84-ba9a075d121f"
      },
      "source": [
        "neg_mesa"
      ],
      "execution_count": null,
      "outputs": [
        {
          "output_type": "execute_result",
          "data": {
            "text/html": [
              "<div>\n",
              "<style scoped>\n",
              "    .dataframe tbody tr th:only-of-type {\n",
              "        vertical-align: middle;\n",
              "    }\n",
              "\n",
              "    .dataframe tbody tr th {\n",
              "        vertical-align: top;\n",
              "    }\n",
              "\n",
              "    .dataframe thead th {\n",
              "        text-align: right;\n",
              "    }\n",
              "</style>\n",
              "<table border=\"1\" class=\"dataframe\">\n",
              "  <thead>\n",
              "    <tr style=\"text-align: right;\">\n",
              "      <th></th>\n",
              "      <th>Stock</th>\n",
              "      <th>Amount</th>\n",
              "      <th>Price</th>\n",
              "    </tr>\n",
              "  </thead>\n",
              "  <tbody>\n",
              "    <tr>\n",
              "      <th>0</th>\n",
              "      <td>SANB11</td>\n",
              "      <td>170</td>\n",
              "      <td>39.91</td>\n",
              "    </tr>\n",
              "    <tr>\n",
              "      <th>1</th>\n",
              "      <td>ITUB4</td>\n",
              "      <td>150</td>\n",
              "      <td>27.99</td>\n",
              "    </tr>\n",
              "    <tr>\n",
              "      <th>2</th>\n",
              "      <td>BBDC3</td>\n",
              "      <td>130</td>\n",
              "      <td>21.34</td>\n",
              "    </tr>\n",
              "    <tr>\n",
              "      <th>3</th>\n",
              "      <td>BPAC11</td>\n",
              "      <td>195</td>\n",
              "      <td>111.75</td>\n",
              "    </tr>\n",
              "    <tr>\n",
              "      <th>4</th>\n",
              "      <td>MGLU3</td>\n",
              "      <td>205</td>\n",
              "      <td>20.20</td>\n",
              "    </tr>\n",
              "    <tr>\n",
              "      <th>5</th>\n",
              "      <td>PETR4</td>\n",
              "      <td>220</td>\n",
              "      <td>24.93</td>\n",
              "    </tr>\n",
              "  </tbody>\n",
              "</table>\n",
              "</div>"
            ],
            "text/plain": [
              "    Stock Amount   Price\n",
              "0  SANB11    170   39.91\n",
              "1   ITUB4    150   27.99\n",
              "2   BBDC3    130   21.34\n",
              "3  BPAC11    195  111.75\n",
              "4   MGLU3    205   20.20\n",
              "5   PETR4    220   24.93"
            ]
          },
          "metadata": {
            "tags": []
          },
          "execution_count": 162
        }
      ]
    },
    {
      "cell_type": "markdown",
      "metadata": {
        "id": "3RLH2M_zZNdW"
      },
      "source": [
        "## Venda Mesa"
      ]
    },
    {
      "cell_type": "code",
      "metadata": {
        "id": "sf3cK-roZPxk"
      },
      "source": [
        "#Ações Vendidas\n",
        "mesa_vend = mesa.loc[mesa['B/S'] == -1]\n",
        "mesa_vend.head()\n",
        "\n",
        "for x in stock_mesa:\n",
        "  acoes_x = mesa_vend.loc[mesa_vend.Stock == x]\n",
        "  negociadas = acoes_x.Amount.sum()\n",
        "  preco_medio = (np.average(acoes_x.Price,weights=acoes_x.Amount)).round(2)  #media ponderada arredondando para 2 casas decimais\n",
        "  neg_mesa = neg_mesa.append({\"Stock\":x,\"Amount\":negociadas,'Price':preco_medio}, ignore_index=True)\n",
        "\n",
        "#Criando uma planilha xlsx para armazenar nas abas as posições de cada cliente\n",
        "operacoes_mesa = pd.ExcelWriter('operacoes_mesa.xlsx', engine='xlsxwriter') \n",
        "\n",
        "#adicionando as operações em abas do xlsx\n",
        "neg_mesa.to_excel(operacoes_mesa, sheet_name= 'Operações Mesa') "
      ],
      "execution_count": null,
      "outputs": []
    },
    {
      "cell_type": "markdown",
      "metadata": {
        "id": "lMKx0-ExbhhJ"
      },
      "source": [
        "## Resultado da Carteira Mesa"
      ]
    },
    {
      "cell_type": "code",
      "metadata": {
        "colab": {
          "base_uri": "https://localhost:8080/",
          "height": 421
        },
        "id": "RopK9iULZ1Dw",
        "outputId": "a9f09663-8a02-49ac-c761-dd2fcc1a3830"
      },
      "source": [
        "#tirar o sinal negativo de price e nao alterar o registro principal\n",
        "neg_mesa_1 =neg_mesa.copy()\n",
        "neg_mesa_1['Price'] = abs(neg_mesa_1['Price'])\n",
        "neg_mesa_1"
      ],
      "execution_count": null,
      "outputs": [
        {
          "output_type": "execute_result",
          "data": {
            "text/html": [
              "<div>\n",
              "<style scoped>\n",
              "    .dataframe tbody tr th:only-of-type {\n",
              "        vertical-align: middle;\n",
              "    }\n",
              "\n",
              "    .dataframe tbody tr th {\n",
              "        vertical-align: top;\n",
              "    }\n",
              "\n",
              "    .dataframe thead th {\n",
              "        text-align: right;\n",
              "    }\n",
              "</style>\n",
              "<table border=\"1\" class=\"dataframe\">\n",
              "  <thead>\n",
              "    <tr style=\"text-align: right;\">\n",
              "      <th></th>\n",
              "      <th>Stock</th>\n",
              "      <th>Amount</th>\n",
              "      <th>Price</th>\n",
              "    </tr>\n",
              "  </thead>\n",
              "  <tbody>\n",
              "    <tr>\n",
              "      <th>0</th>\n",
              "      <td>SANB11</td>\n",
              "      <td>170</td>\n",
              "      <td>39.91</td>\n",
              "    </tr>\n",
              "    <tr>\n",
              "      <th>1</th>\n",
              "      <td>ITUB4</td>\n",
              "      <td>150</td>\n",
              "      <td>27.99</td>\n",
              "    </tr>\n",
              "    <tr>\n",
              "      <th>2</th>\n",
              "      <td>BBDC3</td>\n",
              "      <td>130</td>\n",
              "      <td>21.34</td>\n",
              "    </tr>\n",
              "    <tr>\n",
              "      <th>3</th>\n",
              "      <td>BPAC11</td>\n",
              "      <td>195</td>\n",
              "      <td>111.75</td>\n",
              "    </tr>\n",
              "    <tr>\n",
              "      <th>4</th>\n",
              "      <td>MGLU3</td>\n",
              "      <td>205</td>\n",
              "      <td>20.20</td>\n",
              "    </tr>\n",
              "    <tr>\n",
              "      <th>5</th>\n",
              "      <td>PETR4</td>\n",
              "      <td>220</td>\n",
              "      <td>24.93</td>\n",
              "    </tr>\n",
              "    <tr>\n",
              "      <th>6</th>\n",
              "      <td>SANB11</td>\n",
              "      <td>-185</td>\n",
              "      <td>39.71</td>\n",
              "    </tr>\n",
              "    <tr>\n",
              "      <th>7</th>\n",
              "      <td>ITUB4</td>\n",
              "      <td>-125</td>\n",
              "      <td>28.36</td>\n",
              "    </tr>\n",
              "    <tr>\n",
              "      <th>8</th>\n",
              "      <td>BBDC3</td>\n",
              "      <td>-75</td>\n",
              "      <td>20.51</td>\n",
              "    </tr>\n",
              "    <tr>\n",
              "      <th>9</th>\n",
              "      <td>BPAC11</td>\n",
              "      <td>-190</td>\n",
              "      <td>111.97</td>\n",
              "    </tr>\n",
              "    <tr>\n",
              "      <th>10</th>\n",
              "      <td>MGLU3</td>\n",
              "      <td>-115</td>\n",
              "      <td>19.41</td>\n",
              "    </tr>\n",
              "    <tr>\n",
              "      <th>11</th>\n",
              "      <td>PETR4</td>\n",
              "      <td>-245</td>\n",
              "      <td>25.34</td>\n",
              "    </tr>\n",
              "  </tbody>\n",
              "</table>\n",
              "</div>"
            ],
            "text/plain": [
              "     Stock Amount   Price\n",
              "0   SANB11    170   39.91\n",
              "1    ITUB4    150   27.99\n",
              "2    BBDC3    130   21.34\n",
              "3   BPAC11    195  111.75\n",
              "4    MGLU3    205   20.20\n",
              "5    PETR4    220   24.93\n",
              "6   SANB11   -185   39.71\n",
              "7    ITUB4   -125   28.36\n",
              "8    BBDC3    -75   20.51\n",
              "9   BPAC11   -190  111.97\n",
              "10   MGLU3   -115   19.41\n",
              "11   PETR4   -245   25.34"
            ]
          },
          "metadata": {
            "tags": []
          },
          "execution_count": 164
        }
      ]
    },
    {
      "cell_type": "code",
      "metadata": {
        "colab": {
          "base_uri": "https://localhost:8080/",
          "height": 266
        },
        "id": "xQeBqNF-bkEn",
        "outputId": "5b102dc1-3433-4104-c8e5-0681d8964e79"
      },
      "source": [
        "#agrupando por ação e calculando a média. Considerei para a média aritmética dos preços de venda e compra.\n",
        "posição_mesa = neg_mesa_1.groupby('Stock').agg({'Amount':'sum',\n",
        "                               'Price': 'mean'})\n",
        "\n",
        "posição_mesa.to_excel(operacoes_mesa, sheet_name= 'Posição Mesa')\n",
        "\n",
        "operacoes_mesa.save()\n",
        "\n",
        "posição_mesa"
      ],
      "execution_count": null,
      "outputs": [
        {
          "output_type": "execute_result",
          "data": {
            "text/html": [
              "<div>\n",
              "<style scoped>\n",
              "    .dataframe tbody tr th:only-of-type {\n",
              "        vertical-align: middle;\n",
              "    }\n",
              "\n",
              "    .dataframe tbody tr th {\n",
              "        vertical-align: top;\n",
              "    }\n",
              "\n",
              "    .dataframe thead th {\n",
              "        text-align: right;\n",
              "    }\n",
              "</style>\n",
              "<table border=\"1\" class=\"dataframe\">\n",
              "  <thead>\n",
              "    <tr style=\"text-align: right;\">\n",
              "      <th></th>\n",
              "      <th>Amount</th>\n",
              "      <th>Price</th>\n",
              "    </tr>\n",
              "    <tr>\n",
              "      <th>Stock</th>\n",
              "      <th></th>\n",
              "      <th></th>\n",
              "    </tr>\n",
              "  </thead>\n",
              "  <tbody>\n",
              "    <tr>\n",
              "      <th>BBDC3</th>\n",
              "      <td>55</td>\n",
              "      <td>20.925</td>\n",
              "    </tr>\n",
              "    <tr>\n",
              "      <th>BPAC11</th>\n",
              "      <td>5</td>\n",
              "      <td>111.860</td>\n",
              "    </tr>\n",
              "    <tr>\n",
              "      <th>ITUB4</th>\n",
              "      <td>25</td>\n",
              "      <td>28.175</td>\n",
              "    </tr>\n",
              "    <tr>\n",
              "      <th>MGLU3</th>\n",
              "      <td>90</td>\n",
              "      <td>19.805</td>\n",
              "    </tr>\n",
              "    <tr>\n",
              "      <th>PETR4</th>\n",
              "      <td>-25</td>\n",
              "      <td>25.135</td>\n",
              "    </tr>\n",
              "    <tr>\n",
              "      <th>SANB11</th>\n",
              "      <td>-15</td>\n",
              "      <td>39.810</td>\n",
              "    </tr>\n",
              "  </tbody>\n",
              "</table>\n",
              "</div>"
            ],
            "text/plain": [
              "        Amount    Price\n",
              "Stock                  \n",
              "BBDC3       55   20.925\n",
              "BPAC11       5  111.860\n",
              "ITUB4       25   28.175\n",
              "MGLU3       90   19.805\n",
              "PETR4      -25   25.135\n",
              "SANB11     -15   39.810"
            ]
          },
          "metadata": {
            "tags": []
          },
          "execution_count": 165
        }
      ]
    },
    {
      "cell_type": "markdown",
      "metadata": {
        "id": "KUezi118c393"
      },
      "source": [
        "## Tudo Junto"
      ]
    },
    {
      "cell_type": "code",
      "metadata": {
        "colab": {
          "base_uri": "https://localhost:8080/",
          "height": 266
        },
        "id": "Uiq1Xrupc6xC",
        "outputId": "05821720-c931-4ded-aa10-b39e697dad6d"
      },
      "source": [
        "#filtrando as operações da Mesa\n",
        "mesa = desafio.loc[desafio.Client == 'Mesa']\n",
        "\n",
        "#lista de ações mesa\n",
        "stock_mesa = list(mesa.Stock.unique())\n",
        "\n",
        "#Criando um Data Frame para armazenar os Resultados\n",
        "neg_mesa = pd.DataFrame(columns=['Stock','Amount','Price'])\n",
        "neg_mesa\n",
        "\n",
        "#Ações compradas\n",
        "mesa_compr = mesa.loc[mesa['B/S'] == 1]\n",
        "mesa_compr.head()\n",
        "\n",
        "#Ações Vendidas\n",
        "mesa_vend = mesa.loc[mesa['B/S'] == -1]\n",
        "mesa_vend.head()\n",
        "\n",
        "#Calculando a média por ação e armazeando no DF\n",
        "for x in stock_mesa:\n",
        "  acoes_x = mesa_compr.loc[mesa_compr.Stock == x]\n",
        "  negociadas = acoes_x.Amount.sum()\n",
        "  preco_medio = (np.average(acoes_x.Price,weights=acoes_x.Amount)).round(2) #media ponderada arredondando para 2 casas decimais\n",
        "  neg_mesa = neg_mesa.append({\"Stock\":x,\"Amount\":negociadas,'Price':preco_medio}, ignore_index=True)\n",
        "\n",
        "\n",
        "for x in stock_mesa:\n",
        "  acoes_x = mesa_vend.loc[mesa_vend.Stock == x]\n",
        "  negociadas = acoes_x.Amount.sum()\n",
        "  preco_medio = (np.average(acoes_x.Price,weights=acoes_x.Amount)).round(2)  #media ponderada arredondando para 2 casas decimais\n",
        "  neg_mesa = neg_mesa.append({\"Stock\":x,\"Amount\":negociadas,'Price':preco_medio}, ignore_index=True)\n",
        "\n",
        "#Criando uma planilha xlsx para armazenar nas abas as posições de cada cliente\n",
        "operacoes_mesa = pd.ExcelWriter('operacoes_mesa.xlsx', engine='xlsxwriter') \n",
        "\n",
        "#adicionando as operações em abas do xlsx\n",
        "neg_mesa.to_excel(operacoes_mesa, sheet_name= 'Operações Mesa') \n",
        "\n",
        "#tirar o sinal negativo de price e nao alterar o registro principal\n",
        "neg_mesa_1 =neg_mesa.copy()\n",
        "neg_mesa_1['Price'] = abs(neg_mesa_1['Price'])\n",
        "neg_mesa_1\n",
        "\n",
        "#agrupando por ação e calculando a média. Considerei para a média aritmética dos preços de venda e compra.\n",
        "posição_mesa = neg_mesa_1.groupby('Stock').agg({'Amount':'sum',\n",
        "                               'Price': 'mean'})\n",
        "\n",
        "posição_mesa.to_excel(operacoes_mesa, sheet_name= 'Posição Mesa')\n",
        "\n",
        "operacoes_mesa.save()\n",
        "\n",
        "posição_mesa\n"
      ],
      "execution_count": null,
      "outputs": [
        {
          "output_type": "execute_result",
          "data": {
            "text/html": [
              "<div>\n",
              "<style scoped>\n",
              "    .dataframe tbody tr th:only-of-type {\n",
              "        vertical-align: middle;\n",
              "    }\n",
              "\n",
              "    .dataframe tbody tr th {\n",
              "        vertical-align: top;\n",
              "    }\n",
              "\n",
              "    .dataframe thead th {\n",
              "        text-align: right;\n",
              "    }\n",
              "</style>\n",
              "<table border=\"1\" class=\"dataframe\">\n",
              "  <thead>\n",
              "    <tr style=\"text-align: right;\">\n",
              "      <th></th>\n",
              "      <th>Amount</th>\n",
              "      <th>Price</th>\n",
              "    </tr>\n",
              "    <tr>\n",
              "      <th>Stock</th>\n",
              "      <th></th>\n",
              "      <th></th>\n",
              "    </tr>\n",
              "  </thead>\n",
              "  <tbody>\n",
              "    <tr>\n",
              "      <th>BBDC3</th>\n",
              "      <td>55</td>\n",
              "      <td>20.925</td>\n",
              "    </tr>\n",
              "    <tr>\n",
              "      <th>BPAC11</th>\n",
              "      <td>5</td>\n",
              "      <td>111.860</td>\n",
              "    </tr>\n",
              "    <tr>\n",
              "      <th>ITUB4</th>\n",
              "      <td>25</td>\n",
              "      <td>28.175</td>\n",
              "    </tr>\n",
              "    <tr>\n",
              "      <th>MGLU3</th>\n",
              "      <td>90</td>\n",
              "      <td>19.805</td>\n",
              "    </tr>\n",
              "    <tr>\n",
              "      <th>PETR4</th>\n",
              "      <td>-25</td>\n",
              "      <td>25.135</td>\n",
              "    </tr>\n",
              "    <tr>\n",
              "      <th>SANB11</th>\n",
              "      <td>-15</td>\n",
              "      <td>39.810</td>\n",
              "    </tr>\n",
              "  </tbody>\n",
              "</table>\n",
              "</div>"
            ],
            "text/plain": [
              "        Amount    Price\n",
              "Stock                  \n",
              "BBDC3       55   20.925\n",
              "BPAC11       5  111.860\n",
              "ITUB4       25   28.175\n",
              "MGLU3       90   19.805\n",
              "PETR4      -25   25.135\n",
              "SANB11     -15   39.810"
            ]
          },
          "metadata": {
            "tags": []
          },
          "execution_count": 167
        }
      ]
    },
    {
      "cell_type": "markdown",
      "metadata": {
        "id": "878ahOETCODu"
      },
      "source": [
        "# **Para Qualquer Cliente**"
      ]
    },
    {
      "cell_type": "code",
      "metadata": {
        "colab": {
          "base_uri": "https://localhost:8080/"
        },
        "id": "hc5snefdCRd2",
        "outputId": "1433bff5-1156-4116-e4a1-c7274bc879a3"
      },
      "source": [
        "clientes"
      ],
      "execution_count": null,
      "outputs": [
        {
          "output_type": "execute_result",
          "data": {
            "text/plain": [
              "[1040, 'Mesa', 2806, 2030, 1917, 1150, 3018]"
            ]
          },
          "metadata": {
            "tags": []
          },
          "execution_count": 168
        }
      ]
    },
    {
      "cell_type": "code",
      "metadata": {
        "id": "x65PStQKG4p4",
        "colab": {
          "base_uri": "https://localhost:8080/",
          "height": 1000
        },
        "outputId": "382d1eeb-3ab0-479a-8ed5-b228bdf4779b"
      },
      "source": [
        "#Criando uma planilha xlsx para armazenar nas abas as posições de cada cliente\n",
        "posicoes_clientes = pd.ExcelWriter('posicoes_clientes.xlsx', engine='xlsxwriter') \n",
        "\n",
        "for y in clientes:\n",
        "  a = desafio.loc[desafio.Client == y] #armazena todas as posições do cliente y\n",
        "  nome_cliente = 'Client - '+ str(y) \n",
        " \n",
        "  #lista de ações do cliente y\n",
        "  stock_client = list(a.Stock.unique()) \n",
        "\n",
        "  #Criando um Data Frame vazio para armazenar os Resultados, ele é limpado a cada iteração\n",
        "  neg_client = pd.DataFrame(columns=['Stock','Amount','Price'])  \n",
        "\n",
        "  #Ações compradas do cliente y\n",
        "  a_compr = a.loc[a['B/S'] == 1]  \n",
        "\n",
        "  #Ações Vendidas do cliente y\n",
        "  a_vend = a.loc[a['B/S'] == -1]\n",
        "  \n",
        "  #Calculando a média ponderada por ação comprada e armazeando no DataFrame\n",
        "  for x in stock_client:\n",
        "    acoes_x = a_compr.loc[a_compr.Stock == x]\n",
        "    negociadas = acoes_x['Amount'].sum()\n",
        "    preco_medio = (np.average(acoes_x.Price,weights=acoes_x.Amount)).round(2)  #media ponderada arredondando para 2 casas decimais\n",
        "    #print(volume_x, negociadas, preco_medio)\n",
        "    neg_client = neg_client.append({\"Stock\":x,\"Amount\":negociadas,'Price':preco_medio}, ignore_index=True)\n",
        "     \n",
        "  #Calculando a média ponderada por ação vendida e armazeando no DataFrame\n",
        "  for x in stock_client:\n",
        "    acoes_x = a_vend.loc[a.Stock == x]\n",
        "    negociadas = acoes_x['Amount'].sum()\n",
        "    preco_medio = (np.average(acoes_x.Price,weights=acoes_x.Amount)).round(2)  #media ponderada arredondando para 2 casas decimais  \n",
        "    neg_client = neg_client.append({\"Stock\":x,\"Amount\":negociadas,'Price':preco_medio}, ignore_index=True)\n",
        "\n",
        "  #posição final do cliente\n",
        "  neg_client['Price'] = abs(neg_client['Price']) #deixando todos os valores positivos para calcular a média\n",
        "  neg_client = neg_client.groupby('Stock').agg({'Amount':'sum','Price':'mean'})\n",
        "  \n",
        "  #Regra para eliminar, caso tenha, linhas com posições igual a zero\n",
        "  neg_client.drop(list(neg_client[neg_client.Amount == 0].index), inplace=True)\n",
        "\n",
        "  #organizando em ordem alfabética\n",
        "  neg_client.sort_values(by='Stock', ascending=True, inplace=True) \n",
        "\n",
        "  # colocando a coluna Stock como índice\n",
        "  #neg_client.set_index('Stock', inplace=True) \n",
        "\n",
        "  neg_client.to_excel(posicoes_clientes, sheet_name= nome_cliente) #adiciona as operações em abas do xlsx\n",
        "\n",
        "  display(nome_cliente, neg_client) #exibindo as posições de cada cliente no período\n",
        "\n",
        "posicoes_clientes.save()  #salvando o xlsx \n",
        "  "
      ],
      "execution_count": null,
      "outputs": [
        {
          "output_type": "display_data",
          "data": {
            "application/vnd.google.colaboratory.intrinsic+json": {
              "type": "string"
            },
            "text/plain": [
              "'Client - 1040'"
            ]
          },
          "metadata": {
            "tags": []
          }
        },
        {
          "output_type": "display_data",
          "data": {
            "text/html": [
              "<div>\n",
              "<style scoped>\n",
              "    .dataframe tbody tr th:only-of-type {\n",
              "        vertical-align: middle;\n",
              "    }\n",
              "\n",
              "    .dataframe tbody tr th {\n",
              "        vertical-align: top;\n",
              "    }\n",
              "\n",
              "    .dataframe thead th {\n",
              "        text-align: right;\n",
              "    }\n",
              "</style>\n",
              "<table border=\"1\" class=\"dataframe\">\n",
              "  <thead>\n",
              "    <tr style=\"text-align: right;\">\n",
              "      <th></th>\n",
              "      <th>Amount</th>\n",
              "      <th>Price</th>\n",
              "    </tr>\n",
              "    <tr>\n",
              "      <th>Stock</th>\n",
              "      <th></th>\n",
              "      <th></th>\n",
              "    </tr>\n",
              "  </thead>\n",
              "  <tbody>\n",
              "    <tr>\n",
              "      <th>BBDC3</th>\n",
              "      <td>-115</td>\n",
              "      <td>20.395</td>\n",
              "    </tr>\n",
              "    <tr>\n",
              "      <th>BPAC11</th>\n",
              "      <td>60</td>\n",
              "      <td>111.955</td>\n",
              "    </tr>\n",
              "    <tr>\n",
              "      <th>ITUB4</th>\n",
              "      <td>205</td>\n",
              "      <td>27.790</td>\n",
              "    </tr>\n",
              "    <tr>\n",
              "      <th>MGLU3</th>\n",
              "      <td>-40</td>\n",
              "      <td>19.685</td>\n",
              "    </tr>\n",
              "    <tr>\n",
              "      <th>PETR4</th>\n",
              "      <td>170</td>\n",
              "      <td>25.340</td>\n",
              "    </tr>\n",
              "    <tr>\n",
              "      <th>SANB11</th>\n",
              "      <td>55</td>\n",
              "      <td>39.690</td>\n",
              "    </tr>\n",
              "  </tbody>\n",
              "</table>\n",
              "</div>"
            ],
            "text/plain": [
              "        Amount    Price\n",
              "Stock                  \n",
              "BBDC3     -115   20.395\n",
              "BPAC11      60  111.955\n",
              "ITUB4      205   27.790\n",
              "MGLU3      -40   19.685\n",
              "PETR4      170   25.340\n",
              "SANB11      55   39.690"
            ]
          },
          "metadata": {
            "tags": []
          }
        },
        {
          "output_type": "display_data",
          "data": {
            "application/vnd.google.colaboratory.intrinsic+json": {
              "type": "string"
            },
            "text/plain": [
              "'Client - Mesa'"
            ]
          },
          "metadata": {
            "tags": []
          }
        },
        {
          "output_type": "display_data",
          "data": {
            "text/html": [
              "<div>\n",
              "<style scoped>\n",
              "    .dataframe tbody tr th:only-of-type {\n",
              "        vertical-align: middle;\n",
              "    }\n",
              "\n",
              "    .dataframe tbody tr th {\n",
              "        vertical-align: top;\n",
              "    }\n",
              "\n",
              "    .dataframe thead th {\n",
              "        text-align: right;\n",
              "    }\n",
              "</style>\n",
              "<table border=\"1\" class=\"dataframe\">\n",
              "  <thead>\n",
              "    <tr style=\"text-align: right;\">\n",
              "      <th></th>\n",
              "      <th>Amount</th>\n",
              "      <th>Price</th>\n",
              "    </tr>\n",
              "    <tr>\n",
              "      <th>Stock</th>\n",
              "      <th></th>\n",
              "      <th></th>\n",
              "    </tr>\n",
              "  </thead>\n",
              "  <tbody>\n",
              "    <tr>\n",
              "      <th>BBDC3</th>\n",
              "      <td>55</td>\n",
              "      <td>20.925</td>\n",
              "    </tr>\n",
              "    <tr>\n",
              "      <th>BPAC11</th>\n",
              "      <td>5</td>\n",
              "      <td>111.860</td>\n",
              "    </tr>\n",
              "    <tr>\n",
              "      <th>ITUB4</th>\n",
              "      <td>25</td>\n",
              "      <td>28.175</td>\n",
              "    </tr>\n",
              "    <tr>\n",
              "      <th>MGLU3</th>\n",
              "      <td>90</td>\n",
              "      <td>19.805</td>\n",
              "    </tr>\n",
              "    <tr>\n",
              "      <th>PETR4</th>\n",
              "      <td>-25</td>\n",
              "      <td>25.135</td>\n",
              "    </tr>\n",
              "    <tr>\n",
              "      <th>SANB11</th>\n",
              "      <td>-15</td>\n",
              "      <td>39.810</td>\n",
              "    </tr>\n",
              "  </tbody>\n",
              "</table>\n",
              "</div>"
            ],
            "text/plain": [
              "        Amount    Price\n",
              "Stock                  \n",
              "BBDC3       55   20.925\n",
              "BPAC11       5  111.860\n",
              "ITUB4       25   28.175\n",
              "MGLU3       90   19.805\n",
              "PETR4      -25   25.135\n",
              "SANB11     -15   39.810"
            ]
          },
          "metadata": {
            "tags": []
          }
        },
        {
          "output_type": "display_data",
          "data": {
            "application/vnd.google.colaboratory.intrinsic+json": {
              "type": "string"
            },
            "text/plain": [
              "'Client - 2806'"
            ]
          },
          "metadata": {
            "tags": []
          }
        },
        {
          "output_type": "display_data",
          "data": {
            "text/html": [
              "<div>\n",
              "<style scoped>\n",
              "    .dataframe tbody tr th:only-of-type {\n",
              "        vertical-align: middle;\n",
              "    }\n",
              "\n",
              "    .dataframe tbody tr th {\n",
              "        vertical-align: top;\n",
              "    }\n",
              "\n",
              "    .dataframe thead th {\n",
              "        text-align: right;\n",
              "    }\n",
              "</style>\n",
              "<table border=\"1\" class=\"dataframe\">\n",
              "  <thead>\n",
              "    <tr style=\"text-align: right;\">\n",
              "      <th></th>\n",
              "      <th>Amount</th>\n",
              "      <th>Price</th>\n",
              "    </tr>\n",
              "    <tr>\n",
              "      <th>Stock</th>\n",
              "      <th></th>\n",
              "      <th></th>\n",
              "    </tr>\n",
              "  </thead>\n",
              "  <tbody>\n",
              "    <tr>\n",
              "      <th>BBDC3</th>\n",
              "      <td>10</td>\n",
              "      <td>21.030</td>\n",
              "    </tr>\n",
              "    <tr>\n",
              "      <th>BPAC11</th>\n",
              "      <td>25</td>\n",
              "      <td>112.625</td>\n",
              "    </tr>\n",
              "    <tr>\n",
              "      <th>MGLU3</th>\n",
              "      <td>-45</td>\n",
              "      <td>19.920</td>\n",
              "    </tr>\n",
              "    <tr>\n",
              "      <th>PETR4</th>\n",
              "      <td>-110</td>\n",
              "      <td>24.790</td>\n",
              "    </tr>\n",
              "    <tr>\n",
              "      <th>SANB11</th>\n",
              "      <td>-135</td>\n",
              "      <td>39.630</td>\n",
              "    </tr>\n",
              "  </tbody>\n",
              "</table>\n",
              "</div>"
            ],
            "text/plain": [
              "        Amount    Price\n",
              "Stock                  \n",
              "BBDC3       10   21.030\n",
              "BPAC11      25  112.625\n",
              "MGLU3      -45   19.920\n",
              "PETR4     -110   24.790\n",
              "SANB11    -135   39.630"
            ]
          },
          "metadata": {
            "tags": []
          }
        },
        {
          "output_type": "display_data",
          "data": {
            "application/vnd.google.colaboratory.intrinsic+json": {
              "type": "string"
            },
            "text/plain": [
              "'Client - 2030'"
            ]
          },
          "metadata": {
            "tags": []
          }
        },
        {
          "output_type": "display_data",
          "data": {
            "text/html": [
              "<div>\n",
              "<style scoped>\n",
              "    .dataframe tbody tr th:only-of-type {\n",
              "        vertical-align: middle;\n",
              "    }\n",
              "\n",
              "    .dataframe tbody tr th {\n",
              "        vertical-align: top;\n",
              "    }\n",
              "\n",
              "    .dataframe thead th {\n",
              "        text-align: right;\n",
              "    }\n",
              "</style>\n",
              "<table border=\"1\" class=\"dataframe\">\n",
              "  <thead>\n",
              "    <tr style=\"text-align: right;\">\n",
              "      <th></th>\n",
              "      <th>Amount</th>\n",
              "      <th>Price</th>\n",
              "    </tr>\n",
              "    <tr>\n",
              "      <th>Stock</th>\n",
              "      <th></th>\n",
              "      <th></th>\n",
              "    </tr>\n",
              "  </thead>\n",
              "  <tbody>\n",
              "    <tr>\n",
              "      <th>BBDC3</th>\n",
              "      <td>230</td>\n",
              "      <td>21.400</td>\n",
              "    </tr>\n",
              "    <tr>\n",
              "      <th>BPAC11</th>\n",
              "      <td>130</td>\n",
              "      <td>111.760</td>\n",
              "    </tr>\n",
              "    <tr>\n",
              "      <th>ITUB4</th>\n",
              "      <td>-30</td>\n",
              "      <td>27.685</td>\n",
              "    </tr>\n",
              "    <tr>\n",
              "      <th>MGLU3</th>\n",
              "      <td>135</td>\n",
              "      <td>20.195</td>\n",
              "    </tr>\n",
              "    <tr>\n",
              "      <th>PETR4</th>\n",
              "      <td>-45</td>\n",
              "      <td>25.120</td>\n",
              "    </tr>\n",
              "    <tr>\n",
              "      <th>SANB11</th>\n",
              "      <td>160</td>\n",
              "      <td>39.795</td>\n",
              "    </tr>\n",
              "  </tbody>\n",
              "</table>\n",
              "</div>"
            ],
            "text/plain": [
              "        Amount    Price\n",
              "Stock                  \n",
              "BBDC3      230   21.400\n",
              "BPAC11     130  111.760\n",
              "ITUB4      -30   27.685\n",
              "MGLU3      135   20.195\n",
              "PETR4      -45   25.120\n",
              "SANB11     160   39.795"
            ]
          },
          "metadata": {
            "tags": []
          }
        },
        {
          "output_type": "display_data",
          "data": {
            "application/vnd.google.colaboratory.intrinsic+json": {
              "type": "string"
            },
            "text/plain": [
              "'Client - 1917'"
            ]
          },
          "metadata": {
            "tags": []
          }
        },
        {
          "output_type": "display_data",
          "data": {
            "text/html": [
              "<div>\n",
              "<style scoped>\n",
              "    .dataframe tbody tr th:only-of-type {\n",
              "        vertical-align: middle;\n",
              "    }\n",
              "\n",
              "    .dataframe tbody tr th {\n",
              "        vertical-align: top;\n",
              "    }\n",
              "\n",
              "    .dataframe thead th {\n",
              "        text-align: right;\n",
              "    }\n",
              "</style>\n",
              "<table border=\"1\" class=\"dataframe\">\n",
              "  <thead>\n",
              "    <tr style=\"text-align: right;\">\n",
              "      <th></th>\n",
              "      <th>Amount</th>\n",
              "      <th>Price</th>\n",
              "    </tr>\n",
              "    <tr>\n",
              "      <th>Stock</th>\n",
              "      <th></th>\n",
              "      <th></th>\n",
              "    </tr>\n",
              "  </thead>\n",
              "  <tbody>\n",
              "    <tr>\n",
              "      <th>BBDC3</th>\n",
              "      <td>20</td>\n",
              "      <td>20.615</td>\n",
              "    </tr>\n",
              "    <tr>\n",
              "      <th>BPAC11</th>\n",
              "      <td>30</td>\n",
              "      <td>111.485</td>\n",
              "    </tr>\n",
              "    <tr>\n",
              "      <th>ITUB4</th>\n",
              "      <td>-70</td>\n",
              "      <td>28.050</td>\n",
              "    </tr>\n",
              "    <tr>\n",
              "      <th>MGLU3</th>\n",
              "      <td>-145</td>\n",
              "      <td>20.610</td>\n",
              "    </tr>\n",
              "    <tr>\n",
              "      <th>PETR4</th>\n",
              "      <td>140</td>\n",
              "      <td>25.280</td>\n",
              "    </tr>\n",
              "    <tr>\n",
              "      <th>SANB11</th>\n",
              "      <td>-25</td>\n",
              "      <td>40.060</td>\n",
              "    </tr>\n",
              "  </tbody>\n",
              "</table>\n",
              "</div>"
            ],
            "text/plain": [
              "        Amount    Price\n",
              "Stock                  \n",
              "BBDC3       20   20.615\n",
              "BPAC11      30  111.485\n",
              "ITUB4      -70   28.050\n",
              "MGLU3     -145   20.610\n",
              "PETR4      140   25.280\n",
              "SANB11     -25   40.060"
            ]
          },
          "metadata": {
            "tags": []
          }
        },
        {
          "output_type": "display_data",
          "data": {
            "application/vnd.google.colaboratory.intrinsic+json": {
              "type": "string"
            },
            "text/plain": [
              "'Client - 1150'"
            ]
          },
          "metadata": {
            "tags": []
          }
        },
        {
          "output_type": "display_data",
          "data": {
            "text/html": [
              "<div>\n",
              "<style scoped>\n",
              "    .dataframe tbody tr th:only-of-type {\n",
              "        vertical-align: middle;\n",
              "    }\n",
              "\n",
              "    .dataframe tbody tr th {\n",
              "        vertical-align: top;\n",
              "    }\n",
              "\n",
              "    .dataframe thead th {\n",
              "        text-align: right;\n",
              "    }\n",
              "</style>\n",
              "<table border=\"1\" class=\"dataframe\">\n",
              "  <thead>\n",
              "    <tr style=\"text-align: right;\">\n",
              "      <th></th>\n",
              "      <th>Amount</th>\n",
              "      <th>Price</th>\n",
              "    </tr>\n",
              "    <tr>\n",
              "      <th>Stock</th>\n",
              "      <th></th>\n",
              "      <th></th>\n",
              "    </tr>\n",
              "  </thead>\n",
              "  <tbody>\n",
              "    <tr>\n",
              "      <th>BBDC3</th>\n",
              "      <td>35</td>\n",
              "      <td>21.410</td>\n",
              "    </tr>\n",
              "    <tr>\n",
              "      <th>BPAC11</th>\n",
              "      <td>40</td>\n",
              "      <td>112.145</td>\n",
              "    </tr>\n",
              "    <tr>\n",
              "      <th>ITUB4</th>\n",
              "      <td>10</td>\n",
              "      <td>28.035</td>\n",
              "    </tr>\n",
              "    <tr>\n",
              "      <th>MGLU3</th>\n",
              "      <td>25</td>\n",
              "      <td>20.365</td>\n",
              "    </tr>\n",
              "    <tr>\n",
              "      <th>PETR4</th>\n",
              "      <td>30</td>\n",
              "      <td>25.180</td>\n",
              "    </tr>\n",
              "    <tr>\n",
              "      <th>SANB11</th>\n",
              "      <td>185</td>\n",
              "      <td>40.560</td>\n",
              "    </tr>\n",
              "  </tbody>\n",
              "</table>\n",
              "</div>"
            ],
            "text/plain": [
              "        Amount    Price\n",
              "Stock                  \n",
              "BBDC3       35   21.410\n",
              "BPAC11      40  112.145\n",
              "ITUB4       10   28.035\n",
              "MGLU3       25   20.365\n",
              "PETR4       30   25.180\n",
              "SANB11     185   40.560"
            ]
          },
          "metadata": {
            "tags": []
          }
        },
        {
          "output_type": "display_data",
          "data": {
            "application/vnd.google.colaboratory.intrinsic+json": {
              "type": "string"
            },
            "text/plain": [
              "'Client - 3018'"
            ]
          },
          "metadata": {
            "tags": []
          }
        },
        {
          "output_type": "display_data",
          "data": {
            "text/html": [
              "<div>\n",
              "<style scoped>\n",
              "    .dataframe tbody tr th:only-of-type {\n",
              "        vertical-align: middle;\n",
              "    }\n",
              "\n",
              "    .dataframe tbody tr th {\n",
              "        vertical-align: top;\n",
              "    }\n",
              "\n",
              "    .dataframe thead th {\n",
              "        text-align: right;\n",
              "    }\n",
              "</style>\n",
              "<table border=\"1\" class=\"dataframe\">\n",
              "  <thead>\n",
              "    <tr style=\"text-align: right;\">\n",
              "      <th></th>\n",
              "      <th>Amount</th>\n",
              "      <th>Price</th>\n",
              "    </tr>\n",
              "    <tr>\n",
              "      <th>Stock</th>\n",
              "      <th></th>\n",
              "      <th></th>\n",
              "    </tr>\n",
              "  </thead>\n",
              "  <tbody>\n",
              "    <tr>\n",
              "      <th>BBDC3</th>\n",
              "      <td>-35</td>\n",
              "      <td>21.225</td>\n",
              "    </tr>\n",
              "    <tr>\n",
              "      <th>BPAC11</th>\n",
              "      <td>5</td>\n",
              "      <td>112.065</td>\n",
              "    </tr>\n",
              "    <tr>\n",
              "      <th>ITUB4</th>\n",
              "      <td>95</td>\n",
              "      <td>27.800</td>\n",
              "    </tr>\n",
              "    <tr>\n",
              "      <th>MGLU3</th>\n",
              "      <td>-80</td>\n",
              "      <td>19.775</td>\n",
              "    </tr>\n",
              "    <tr>\n",
              "      <th>PETR4</th>\n",
              "      <td>-90</td>\n",
              "      <td>25.380</td>\n",
              "    </tr>\n",
              "    <tr>\n",
              "      <th>SANB11</th>\n",
              "      <td>20</td>\n",
              "      <td>40.085</td>\n",
              "    </tr>\n",
              "  </tbody>\n",
              "</table>\n",
              "</div>"
            ],
            "text/plain": [
              "        Amount    Price\n",
              "Stock                  \n",
              "BBDC3      -35   21.225\n",
              "BPAC11       5  112.065\n",
              "ITUB4       95   27.800\n",
              "MGLU3      -80   19.775\n",
              "PETR4      -90   25.380\n",
              "SANB11      20   40.085"
            ]
          },
          "metadata": {
            "tags": []
          }
        }
      ]
    },
    {
      "cell_type": "markdown",
      "metadata": {
        "id": "WJApCwqnrfj0"
      },
      "source": [
        "# **Desafio Adicional**\n",
        "\n",
        "Desafio adicional:\n",
        "Uma carteira já possui posições prévias, então a macro deve ser capaz de calcular o novo preço médio considerando as posições já detidas pelo cliente.\n",
        "Se o cliente por acaso zerar uma posição que tenha na carteira, exclua a linha deste ativo.\n"
      ]
    },
    {
      "cell_type": "code",
      "metadata": {
        "colab": {
          "base_uri": "https://localhost:8080/",
          "height": 235
        },
        "id": "4mm_h6T0rnOA",
        "outputId": "f8566abb-07f5-4b6d-92e8-9c1ae874208c"
      },
      "source": [
        "#Carregando o arquivo da carteira prévia\n",
        "arquivo_excel_2 = pd.ExcelFile(\"/content/drive/MyDrive/Portfólio/Case da MZR/Desafio VBA.xlsx\") #Carrego o excel\n",
        "\n",
        "Cliente = pd.read_excel(arquivo_excel_2, sheet_name='Client - 1150', header=3)# index_col= 'Date & Time' # coloco em um DataFrame as abas desejadas\n",
        "cliente_1150 = Cliente.copy()\n",
        "cliente_1150.drop(columns='Unnamed: 0', inplace= True)\n",
        "cliente_1150"
      ],
      "execution_count": null,
      "outputs": [
        {
          "output_type": "execute_result",
          "data": {
            "text/html": [
              "<div>\n",
              "<style scoped>\n",
              "    .dataframe tbody tr th:only-of-type {\n",
              "        vertical-align: middle;\n",
              "    }\n",
              "\n",
              "    .dataframe tbody tr th {\n",
              "        vertical-align: top;\n",
              "    }\n",
              "\n",
              "    .dataframe thead th {\n",
              "        text-align: right;\n",
              "    }\n",
              "</style>\n",
              "<table border=\"1\" class=\"dataframe\">\n",
              "  <thead>\n",
              "    <tr style=\"text-align: right;\">\n",
              "      <th></th>\n",
              "      <th>Ticker</th>\n",
              "      <th>Amount</th>\n",
              "      <th>Price</th>\n",
              "      <th>Sector</th>\n",
              "    </tr>\n",
              "  </thead>\n",
              "  <tbody>\n",
              "    <tr>\n",
              "      <th>0</th>\n",
              "      <td>BBDC3</td>\n",
              "      <td>20</td>\n",
              "      <td>20.82</td>\n",
              "      <td>Banking</td>\n",
              "    </tr>\n",
              "    <tr>\n",
              "      <th>1</th>\n",
              "      <td>PETR4</td>\n",
              "      <td>10</td>\n",
              "      <td>25.19</td>\n",
              "      <td>Oil and Gas</td>\n",
              "    </tr>\n",
              "    <tr>\n",
              "      <th>2</th>\n",
              "      <td>SANB11</td>\n",
              "      <td>5</td>\n",
              "      <td>38.91</td>\n",
              "      <td>Banking</td>\n",
              "    </tr>\n",
              "    <tr>\n",
              "      <th>3</th>\n",
              "      <td>MGLU3</td>\n",
              "      <td>5</td>\n",
              "      <td>18.48</td>\n",
              "      <td>Retail</td>\n",
              "    </tr>\n",
              "    <tr>\n",
              "      <th>4</th>\n",
              "      <td>ITUB4</td>\n",
              "      <td>10</td>\n",
              "      <td>28.07</td>\n",
              "      <td>Banking</td>\n",
              "    </tr>\n",
              "    <tr>\n",
              "      <th>5</th>\n",
              "      <td>BPAC11</td>\n",
              "      <td>5</td>\n",
              "      <td>110.50</td>\n",
              "      <td>Banking</td>\n",
              "    </tr>\n",
              "  </tbody>\n",
              "</table>\n",
              "</div>"
            ],
            "text/plain": [
              "   Ticker  Amount   Price       Sector\n",
              "0   BBDC3      20   20.82      Banking\n",
              "1   PETR4      10   25.19  Oil and Gas\n",
              "2  SANB11       5   38.91      Banking\n",
              "3   MGLU3       5   18.48       Retail\n",
              "4   ITUB4      10   28.07      Banking\n",
              "5  BPAC11       5  110.50      Banking"
            ]
          },
          "metadata": {
            "tags": []
          },
          "execution_count": 180
        }
      ]
    },
    {
      "cell_type": "code",
      "metadata": {
        "id": "nFYZ3NYOI85U"
      },
      "source": [
        "#separando os setores para juntá-los no final\n",
        "# setores = dict(zip(ações,setor))\n",
        "setores = {\"BBDC3\":\"Banking\",'PETR4':'Oil and Gas','SANB11':'Banking','MGLU3':'Retail','ITUB4':'Banking', 'BPAC11':'Banking' }\n",
        "#setores"
      ],
      "execution_count": null,
      "outputs": []
    },
    {
      "cell_type": "code",
      "metadata": {
        "colab": {
          "base_uri": "https://localhost:8080/",
          "height": 419
        },
        "id": "7DW1bCMPtjCe",
        "outputId": "36534673-aad0-435e-bb69-60043fd90784"
      },
      "source": [
        "#carregando o arquivo com todas as negociações do cliente do arquivo desafio\n",
        "\n",
        "cliente_1150_2 = desafio[desafio.Client == 1150][['Stock','Amount','Price']] #escolho somente as 3 colunas para juntar com os dados da carteira\n",
        "cliente_1150_2"
      ],
      "execution_count": null,
      "outputs": [
        {
          "output_type": "execute_result",
          "data": {
            "text/html": [
              "<div>\n",
              "<style scoped>\n",
              "    .dataframe tbody tr th:only-of-type {\n",
              "        vertical-align: middle;\n",
              "    }\n",
              "\n",
              "    .dataframe tbody tr th {\n",
              "        vertical-align: top;\n",
              "    }\n",
              "\n",
              "    .dataframe thead th {\n",
              "        text-align: right;\n",
              "    }\n",
              "</style>\n",
              "<table border=\"1\" class=\"dataframe\">\n",
              "  <thead>\n",
              "    <tr style=\"text-align: right;\">\n",
              "      <th></th>\n",
              "      <th>Stock</th>\n",
              "      <th>Amount</th>\n",
              "      <th>Price</th>\n",
              "    </tr>\n",
              "  </thead>\n",
              "  <tbody>\n",
              "    <tr>\n",
              "      <th>11</th>\n",
              "      <td>SANB11</td>\n",
              "      <td>-5</td>\n",
              "      <td>-40.24</td>\n",
              "    </tr>\n",
              "    <tr>\n",
              "      <th>13</th>\n",
              "      <td>BPAC11</td>\n",
              "      <td>-10</td>\n",
              "      <td>-110.50</td>\n",
              "    </tr>\n",
              "    <tr>\n",
              "      <th>14</th>\n",
              "      <td>ITUB4</td>\n",
              "      <td>-5</td>\n",
              "      <td>-27.33</td>\n",
              "    </tr>\n",
              "    <tr>\n",
              "      <th>19</th>\n",
              "      <td>PETR4</td>\n",
              "      <td>15</td>\n",
              "      <td>24.45</td>\n",
              "    </tr>\n",
              "    <tr>\n",
              "      <th>24</th>\n",
              "      <td>BBDC3</td>\n",
              "      <td>-25</td>\n",
              "      <td>-22.32</td>\n",
              "    </tr>\n",
              "    <tr>\n",
              "      <th>...</th>\n",
              "      <td>...</td>\n",
              "      <td>...</td>\n",
              "      <td>...</td>\n",
              "    </tr>\n",
              "    <tr>\n",
              "      <th>971</th>\n",
              "      <td>BPAC11</td>\n",
              "      <td>-20</td>\n",
              "      <td>-112.29</td>\n",
              "    </tr>\n",
              "    <tr>\n",
              "      <th>974</th>\n",
              "      <td>PETR4</td>\n",
              "      <td>5</td>\n",
              "      <td>26.65</td>\n",
              "    </tr>\n",
              "    <tr>\n",
              "      <th>976</th>\n",
              "      <td>PETR4</td>\n",
              "      <td>-10</td>\n",
              "      <td>-23.05</td>\n",
              "    </tr>\n",
              "    <tr>\n",
              "      <th>984</th>\n",
              "      <td>BPAC11</td>\n",
              "      <td>15</td>\n",
              "      <td>112.08</td>\n",
              "    </tr>\n",
              "    <tr>\n",
              "      <th>996</th>\n",
              "      <td>SANB11</td>\n",
              "      <td>-20</td>\n",
              "      <td>-41.16</td>\n",
              "    </tr>\n",
              "  </tbody>\n",
              "</table>\n",
              "<p>150 rows × 3 columns</p>\n",
              "</div>"
            ],
            "text/plain": [
              "      Stock  Amount   Price\n",
              "11   SANB11      -5  -40.24\n",
              "13   BPAC11     -10 -110.50\n",
              "14    ITUB4      -5  -27.33\n",
              "19    PETR4      15   24.45\n",
              "24    BBDC3     -25  -22.32\n",
              "..      ...     ...     ...\n",
              "971  BPAC11     -20 -112.29\n",
              "974   PETR4       5   26.65\n",
              "976   PETR4     -10  -23.05\n",
              "984  BPAC11      15  112.08\n",
              "996  SANB11     -20  -41.16\n",
              "\n",
              "[150 rows x 3 columns]"
            ]
          },
          "metadata": {
            "tags": []
          },
          "execution_count": 182
        }
      ]
    },
    {
      "cell_type": "code",
      "metadata": {
        "colab": {
          "base_uri": "https://localhost:8080/",
          "height": 419
        },
        "id": "xuebxpk3wk4Q",
        "outputId": "654d7205-a593-4549-b0e9-e88dd14f6732"
      },
      "source": [
        "#renomeando a coluna stock para poder juntar as duas tabelas\n",
        "cliente_1150_2.rename(columns={'Stock':'Ticker'}, inplace=True)\n",
        "\n",
        "#juntando as tabelas\n",
        "cliente_1150_posições = pd.concat([cliente_1150_2,cliente_1150], axis=0)\n",
        "\n",
        "#excluindo a coluna Setor, mas não é obrigatório\n",
        "cliente_1150_posições.drop(columns=['Sector'], inplace=True)\n",
        "                                  \n",
        "cliente_1150_posições"
      ],
      "execution_count": null,
      "outputs": [
        {
          "output_type": "execute_result",
          "data": {
            "text/html": [
              "<div>\n",
              "<style scoped>\n",
              "    .dataframe tbody tr th:only-of-type {\n",
              "        vertical-align: middle;\n",
              "    }\n",
              "\n",
              "    .dataframe tbody tr th {\n",
              "        vertical-align: top;\n",
              "    }\n",
              "\n",
              "    .dataframe thead th {\n",
              "        text-align: right;\n",
              "    }\n",
              "</style>\n",
              "<table border=\"1\" class=\"dataframe\">\n",
              "  <thead>\n",
              "    <tr style=\"text-align: right;\">\n",
              "      <th></th>\n",
              "      <th>Ticker</th>\n",
              "      <th>Amount</th>\n",
              "      <th>Price</th>\n",
              "    </tr>\n",
              "  </thead>\n",
              "  <tbody>\n",
              "    <tr>\n",
              "      <th>11</th>\n",
              "      <td>SANB11</td>\n",
              "      <td>-5</td>\n",
              "      <td>-40.24</td>\n",
              "    </tr>\n",
              "    <tr>\n",
              "      <th>13</th>\n",
              "      <td>BPAC11</td>\n",
              "      <td>-10</td>\n",
              "      <td>-110.50</td>\n",
              "    </tr>\n",
              "    <tr>\n",
              "      <th>14</th>\n",
              "      <td>ITUB4</td>\n",
              "      <td>-5</td>\n",
              "      <td>-27.33</td>\n",
              "    </tr>\n",
              "    <tr>\n",
              "      <th>19</th>\n",
              "      <td>PETR4</td>\n",
              "      <td>15</td>\n",
              "      <td>24.45</td>\n",
              "    </tr>\n",
              "    <tr>\n",
              "      <th>24</th>\n",
              "      <td>BBDC3</td>\n",
              "      <td>-25</td>\n",
              "      <td>-22.32</td>\n",
              "    </tr>\n",
              "    <tr>\n",
              "      <th>...</th>\n",
              "      <td>...</td>\n",
              "      <td>...</td>\n",
              "      <td>...</td>\n",
              "    </tr>\n",
              "    <tr>\n",
              "      <th>1</th>\n",
              "      <td>PETR4</td>\n",
              "      <td>10</td>\n",
              "      <td>25.19</td>\n",
              "    </tr>\n",
              "    <tr>\n",
              "      <th>2</th>\n",
              "      <td>SANB11</td>\n",
              "      <td>5</td>\n",
              "      <td>38.91</td>\n",
              "    </tr>\n",
              "    <tr>\n",
              "      <th>3</th>\n",
              "      <td>MGLU3</td>\n",
              "      <td>5</td>\n",
              "      <td>18.48</td>\n",
              "    </tr>\n",
              "    <tr>\n",
              "      <th>4</th>\n",
              "      <td>ITUB4</td>\n",
              "      <td>10</td>\n",
              "      <td>28.07</td>\n",
              "    </tr>\n",
              "    <tr>\n",
              "      <th>5</th>\n",
              "      <td>BPAC11</td>\n",
              "      <td>5</td>\n",
              "      <td>110.50</td>\n",
              "    </tr>\n",
              "  </tbody>\n",
              "</table>\n",
              "<p>156 rows × 3 columns</p>\n",
              "</div>"
            ],
            "text/plain": [
              "    Ticker  Amount   Price\n",
              "11  SANB11      -5  -40.24\n",
              "13  BPAC11     -10 -110.50\n",
              "14   ITUB4      -5  -27.33\n",
              "19   PETR4      15   24.45\n",
              "24   BBDC3     -25  -22.32\n",
              "..     ...     ...     ...\n",
              "1    PETR4      10   25.19\n",
              "2   SANB11       5   38.91\n",
              "3    MGLU3       5   18.48\n",
              "4    ITUB4      10   28.07\n",
              "5   BPAC11       5  110.50\n",
              "\n",
              "[156 rows x 3 columns]"
            ]
          },
          "metadata": {
            "tags": []
          },
          "execution_count": 183
        }
      ]
    },
    {
      "cell_type": "code",
      "metadata": {
        "colab": {
          "base_uri": "https://localhost:8080/"
        },
        "id": "2Y-XwESA55Vd",
        "outputId": "73093e1d-dde2-4281-c726-0491a31f261f"
      },
      "source": [
        "#ações presentes na carteira\n",
        "stock_client = list(cliente_1150_posições.Ticker.unique())\n",
        "stock_client"
      ],
      "execution_count": null,
      "outputs": [
        {
          "output_type": "execute_result",
          "data": {
            "text/plain": [
              "['SANB11', 'BPAC11', 'ITUB4', 'PETR4', 'BBDC3', 'MGLU3']"
            ]
          },
          "metadata": {
            "tags": []
          },
          "execution_count": 184
        }
      ]
    },
    {
      "cell_type": "code",
      "metadata": {
        "colab": {
          "base_uri": "https://localhost:8080/",
          "height": 49
        },
        "id": "xLHVQhgy5z6i",
        "outputId": "eb2d9f37-1e9e-4c26-d6ea-c3d679e6793b"
      },
      "source": [
        "neg_client = pd.DataFrame(columns=['Ticker','Amount','Price'])  \n",
        "neg_client"
      ],
      "execution_count": null,
      "outputs": [
        {
          "output_type": "execute_result",
          "data": {
            "text/html": [
              "<div>\n",
              "<style scoped>\n",
              "    .dataframe tbody tr th:only-of-type {\n",
              "        vertical-align: middle;\n",
              "    }\n",
              "\n",
              "    .dataframe tbody tr th {\n",
              "        vertical-align: top;\n",
              "    }\n",
              "\n",
              "    .dataframe thead th {\n",
              "        text-align: right;\n",
              "    }\n",
              "</style>\n",
              "<table border=\"1\" class=\"dataframe\">\n",
              "  <thead>\n",
              "    <tr style=\"text-align: right;\">\n",
              "      <th></th>\n",
              "      <th>Ticker</th>\n",
              "      <th>Amount</th>\n",
              "      <th>Price</th>\n",
              "    </tr>\n",
              "  </thead>\n",
              "  <tbody>\n",
              "  </tbody>\n",
              "</table>\n",
              "</div>"
            ],
            "text/plain": [
              "Empty DataFrame\n",
              "Columns: [Ticker, Amount, Price]\n",
              "Index: []"
            ]
          },
          "metadata": {
            "tags": []
          },
          "execution_count": 187
        }
      ]
    },
    {
      "cell_type": "code",
      "metadata": {
        "id": "kVdnIwMSxE0q"
      },
      "source": [
        "#ações compradas\n",
        "a_compr = cliente_1150_posições[cliente_1150_posições.Amount > 0]\n",
        "\n",
        "for x in stock_client:\n",
        "    acoes_x = a_compr.loc[a_compr.Ticker == x]\n",
        "    negociadas = acoes_x['Amount'].sum()\n",
        "    preco_medio = (np.average(acoes_x.Price,weights=acoes_x.Amount)).round(2)  #media ponderada arredondando para 2 casas decimais   \n",
        "    neg_client = neg_client.append({\"Ticker\":x,\"Amount\":negociadas,'Price':preco_medio}, ignore_index=True)\n",
        "\n",
        "#ações vendidas\n",
        "a_vend = cliente_1150_posições[cliente_1150_posições.Amount < 0]\n",
        "\n",
        "for x in stock_client:\n",
        "    acoes_x = a_vend.loc[a_vend.Ticker == x]\n",
        "    negociadas = acoes_x['Amount'].sum()\n",
        "    preco_medio = (np.average(acoes_x.Price,weights=acoes_x.Amount)).round(2)  #media ponderada arredondando para 2 casas decimais)\n",
        "    neg_client = neg_client.append({\"Ticker\":x,\"Amount\":negociadas,'Price':preco_medio}, ignore_index=True)"
      ],
      "execution_count": null,
      "outputs": []
    },
    {
      "cell_type": "code",
      "metadata": {
        "colab": {
          "base_uri": "https://localhost:8080/",
          "height": 421
        },
        "id": "lKkYjnduKRA8",
        "outputId": "6a10d8f6-6247-4ca4-8fe8-5444543f2796"
      },
      "source": [
        "neg_client"
      ],
      "execution_count": null,
      "outputs": [
        {
          "output_type": "execute_result",
          "data": {
            "text/html": [
              "<div>\n",
              "<style scoped>\n",
              "    .dataframe tbody tr th:only-of-type {\n",
              "        vertical-align: middle;\n",
              "    }\n",
              "\n",
              "    .dataframe tbody tr th {\n",
              "        vertical-align: top;\n",
              "    }\n",
              "\n",
              "    .dataframe thead th {\n",
              "        text-align: right;\n",
              "    }\n",
              "</style>\n",
              "<table border=\"1\" class=\"dataframe\">\n",
              "  <thead>\n",
              "    <tr style=\"text-align: right;\">\n",
              "      <th></th>\n",
              "      <th>Ticker</th>\n",
              "      <th>Amount</th>\n",
              "      <th>Price</th>\n",
              "    </tr>\n",
              "  </thead>\n",
              "  <tbody>\n",
              "    <tr>\n",
              "      <th>0</th>\n",
              "      <td>SANB11</td>\n",
              "      <td>270</td>\n",
              "      <td>39.96</td>\n",
              "    </tr>\n",
              "    <tr>\n",
              "      <th>1</th>\n",
              "      <td>BPAC11</td>\n",
              "      <td>185</td>\n",
              "      <td>112.18</td>\n",
              "    </tr>\n",
              "    <tr>\n",
              "      <th>2</th>\n",
              "      <td>ITUB4</td>\n",
              "      <td>205</td>\n",
              "      <td>28.18</td>\n",
              "    </tr>\n",
              "    <tr>\n",
              "      <th>3</th>\n",
              "      <td>PETR4</td>\n",
              "      <td>245</td>\n",
              "      <td>25.28</td>\n",
              "    </tr>\n",
              "    <tr>\n",
              "      <th>4</th>\n",
              "      <td>BBDC3</td>\n",
              "      <td>270</td>\n",
              "      <td>21.26</td>\n",
              "    </tr>\n",
              "    <tr>\n",
              "      <th>5</th>\n",
              "      <td>MGLU3</td>\n",
              "      <td>150</td>\n",
              "      <td>19.77</td>\n",
              "    </tr>\n",
              "    <tr>\n",
              "      <th>6</th>\n",
              "      <td>SANB11</td>\n",
              "      <td>-80</td>\n",
              "      <td>-41.14</td>\n",
              "    </tr>\n",
              "    <tr>\n",
              "      <th>7</th>\n",
              "      <td>BPAC11</td>\n",
              "      <td>-140</td>\n",
              "      <td>-112.06</td>\n",
              "    </tr>\n",
              "    <tr>\n",
              "      <th>8</th>\n",
              "      <td>ITUB4</td>\n",
              "      <td>-185</td>\n",
              "      <td>-27.89</td>\n",
              "    </tr>\n",
              "    <tr>\n",
              "      <th>9</th>\n",
              "      <td>PETR4</td>\n",
              "      <td>-205</td>\n",
              "      <td>-25.07</td>\n",
              "    </tr>\n",
              "    <tr>\n",
              "      <th>10</th>\n",
              "      <td>BBDC3</td>\n",
              "      <td>-215</td>\n",
              "      <td>-21.53</td>\n",
              "    </tr>\n",
              "    <tr>\n",
              "      <th>11</th>\n",
              "      <td>MGLU3</td>\n",
              "      <td>-120</td>\n",
              "      <td>-20.91</td>\n",
              "    </tr>\n",
              "  </tbody>\n",
              "</table>\n",
              "</div>"
            ],
            "text/plain": [
              "    Ticker Amount   Price\n",
              "0   SANB11    270   39.96\n",
              "1   BPAC11    185  112.18\n",
              "2    ITUB4    205   28.18\n",
              "3    PETR4    245   25.28\n",
              "4    BBDC3    270   21.26\n",
              "5    MGLU3    150   19.77\n",
              "6   SANB11    -80  -41.14\n",
              "7   BPAC11   -140 -112.06\n",
              "8    ITUB4   -185  -27.89\n",
              "9    PETR4   -205  -25.07\n",
              "10   BBDC3   -215  -21.53\n",
              "11   MGLU3   -120  -20.91"
            ]
          },
          "metadata": {
            "tags": []
          },
          "execution_count": 189
        }
      ]
    },
    {
      "cell_type": "code",
      "metadata": {
        "colab": {
          "base_uri": "https://localhost:8080/",
          "height": 421
        },
        "id": "4yl4HOkZGJ-P",
        "outputId": "e5c7e65a-8199-47ac-db51-102f64366cfa"
      },
      "source": [
        "# Aqui considerei colocar o preço médio entre as ações vendidas e compradas para calcular o calor final\n",
        "#por isso deixei todos os valores positivos\n",
        "neg_client['Price'] = abs(neg_client.Price)\n",
        "neg_client.sort_values(by='Ticker')"
      ],
      "execution_count": null,
      "outputs": [
        {
          "output_type": "execute_result",
          "data": {
            "text/html": [
              "<div>\n",
              "<style scoped>\n",
              "    .dataframe tbody tr th:only-of-type {\n",
              "        vertical-align: middle;\n",
              "    }\n",
              "\n",
              "    .dataframe tbody tr th {\n",
              "        vertical-align: top;\n",
              "    }\n",
              "\n",
              "    .dataframe thead th {\n",
              "        text-align: right;\n",
              "    }\n",
              "</style>\n",
              "<table border=\"1\" class=\"dataframe\">\n",
              "  <thead>\n",
              "    <tr style=\"text-align: right;\">\n",
              "      <th></th>\n",
              "      <th>Ticker</th>\n",
              "      <th>Amount</th>\n",
              "      <th>Price</th>\n",
              "    </tr>\n",
              "  </thead>\n",
              "  <tbody>\n",
              "    <tr>\n",
              "      <th>4</th>\n",
              "      <td>BBDC3</td>\n",
              "      <td>270</td>\n",
              "      <td>21.26</td>\n",
              "    </tr>\n",
              "    <tr>\n",
              "      <th>10</th>\n",
              "      <td>BBDC3</td>\n",
              "      <td>-215</td>\n",
              "      <td>21.53</td>\n",
              "    </tr>\n",
              "    <tr>\n",
              "      <th>1</th>\n",
              "      <td>BPAC11</td>\n",
              "      <td>185</td>\n",
              "      <td>112.18</td>\n",
              "    </tr>\n",
              "    <tr>\n",
              "      <th>7</th>\n",
              "      <td>BPAC11</td>\n",
              "      <td>-140</td>\n",
              "      <td>112.06</td>\n",
              "    </tr>\n",
              "    <tr>\n",
              "      <th>2</th>\n",
              "      <td>ITUB4</td>\n",
              "      <td>205</td>\n",
              "      <td>28.18</td>\n",
              "    </tr>\n",
              "    <tr>\n",
              "      <th>8</th>\n",
              "      <td>ITUB4</td>\n",
              "      <td>-185</td>\n",
              "      <td>27.89</td>\n",
              "    </tr>\n",
              "    <tr>\n",
              "      <th>5</th>\n",
              "      <td>MGLU3</td>\n",
              "      <td>150</td>\n",
              "      <td>19.77</td>\n",
              "    </tr>\n",
              "    <tr>\n",
              "      <th>11</th>\n",
              "      <td>MGLU3</td>\n",
              "      <td>-120</td>\n",
              "      <td>20.91</td>\n",
              "    </tr>\n",
              "    <tr>\n",
              "      <th>3</th>\n",
              "      <td>PETR4</td>\n",
              "      <td>245</td>\n",
              "      <td>25.28</td>\n",
              "    </tr>\n",
              "    <tr>\n",
              "      <th>9</th>\n",
              "      <td>PETR4</td>\n",
              "      <td>-205</td>\n",
              "      <td>25.07</td>\n",
              "    </tr>\n",
              "    <tr>\n",
              "      <th>0</th>\n",
              "      <td>SANB11</td>\n",
              "      <td>270</td>\n",
              "      <td>39.96</td>\n",
              "    </tr>\n",
              "    <tr>\n",
              "      <th>6</th>\n",
              "      <td>SANB11</td>\n",
              "      <td>-80</td>\n",
              "      <td>41.14</td>\n",
              "    </tr>\n",
              "  </tbody>\n",
              "</table>\n",
              "</div>"
            ],
            "text/plain": [
              "    Ticker Amount   Price\n",
              "4    BBDC3    270   21.26\n",
              "10   BBDC3   -215   21.53\n",
              "1   BPAC11    185  112.18\n",
              "7   BPAC11   -140  112.06\n",
              "2    ITUB4    205   28.18\n",
              "8    ITUB4   -185   27.89\n",
              "5    MGLU3    150   19.77\n",
              "11   MGLU3   -120   20.91\n",
              "3    PETR4    245   25.28\n",
              "9    PETR4   -205   25.07\n",
              "0   SANB11    270   39.96\n",
              "6   SANB11    -80   41.14"
            ]
          },
          "metadata": {
            "tags": []
          },
          "execution_count": 190
        }
      ]
    },
    {
      "cell_type": "code",
      "metadata": {
        "colab": {
          "base_uri": "https://localhost:8080/",
          "height": 266
        },
        "id": "gopd4gwl7J9V",
        "outputId": "9401206f-82d8-4c8b-9d2d-a19513a0997e"
      },
      "source": [
        "# calculando a posição final e média por ação\n",
        "neg_client = neg_client.groupby('Ticker').agg({'Amount':sum, 'Price': 'mean'})\n",
        "neg_client"
      ],
      "execution_count": null,
      "outputs": [
        {
          "output_type": "execute_result",
          "data": {
            "text/html": [
              "<div>\n",
              "<style scoped>\n",
              "    .dataframe tbody tr th:only-of-type {\n",
              "        vertical-align: middle;\n",
              "    }\n",
              "\n",
              "    .dataframe tbody tr th {\n",
              "        vertical-align: top;\n",
              "    }\n",
              "\n",
              "    .dataframe thead th {\n",
              "        text-align: right;\n",
              "    }\n",
              "</style>\n",
              "<table border=\"1\" class=\"dataframe\">\n",
              "  <thead>\n",
              "    <tr style=\"text-align: right;\">\n",
              "      <th></th>\n",
              "      <th>Amount</th>\n",
              "      <th>Price</th>\n",
              "    </tr>\n",
              "    <tr>\n",
              "      <th>Ticker</th>\n",
              "      <th></th>\n",
              "      <th></th>\n",
              "    </tr>\n",
              "  </thead>\n",
              "  <tbody>\n",
              "    <tr>\n",
              "      <th>BBDC3</th>\n",
              "      <td>55</td>\n",
              "      <td>21.395</td>\n",
              "    </tr>\n",
              "    <tr>\n",
              "      <th>BPAC11</th>\n",
              "      <td>45</td>\n",
              "      <td>112.120</td>\n",
              "    </tr>\n",
              "    <tr>\n",
              "      <th>ITUB4</th>\n",
              "      <td>20</td>\n",
              "      <td>28.035</td>\n",
              "    </tr>\n",
              "    <tr>\n",
              "      <th>MGLU3</th>\n",
              "      <td>30</td>\n",
              "      <td>20.340</td>\n",
              "    </tr>\n",
              "    <tr>\n",
              "      <th>PETR4</th>\n",
              "      <td>40</td>\n",
              "      <td>25.175</td>\n",
              "    </tr>\n",
              "    <tr>\n",
              "      <th>SANB11</th>\n",
              "      <td>190</td>\n",
              "      <td>40.550</td>\n",
              "    </tr>\n",
              "  </tbody>\n",
              "</table>\n",
              "</div>"
            ],
            "text/plain": [
              "        Amount    Price\n",
              "Ticker                 \n",
              "BBDC3       55   21.395\n",
              "BPAC11      45  112.120\n",
              "ITUB4       20   28.035\n",
              "MGLU3       30   20.340\n",
              "PETR4       40   25.175\n",
              "SANB11     190   40.550"
            ]
          },
          "metadata": {
            "tags": []
          },
          "execution_count": 191
        }
      ]
    },
    {
      "cell_type": "code",
      "metadata": {
        "colab": {
          "base_uri": "https://localhost:8080/",
          "height": 266
        },
        "id": "W5CyMfrd7vXc",
        "outputId": "15d90b85-01e2-498c-9ece-39a4947b7b15"
      },
      "source": [
        "#inserindo a coluna sector\n",
        "neg_client['Sector'] = neg_client.index.map(setores)\n",
        "neg_client"
      ],
      "execution_count": null,
      "outputs": [
        {
          "output_type": "execute_result",
          "data": {
            "text/html": [
              "<div>\n",
              "<style scoped>\n",
              "    .dataframe tbody tr th:only-of-type {\n",
              "        vertical-align: middle;\n",
              "    }\n",
              "\n",
              "    .dataframe tbody tr th {\n",
              "        vertical-align: top;\n",
              "    }\n",
              "\n",
              "    .dataframe thead th {\n",
              "        text-align: right;\n",
              "    }\n",
              "</style>\n",
              "<table border=\"1\" class=\"dataframe\">\n",
              "  <thead>\n",
              "    <tr style=\"text-align: right;\">\n",
              "      <th></th>\n",
              "      <th>Amount</th>\n",
              "      <th>Price</th>\n",
              "      <th>Sector</th>\n",
              "    </tr>\n",
              "    <tr>\n",
              "      <th>Ticker</th>\n",
              "      <th></th>\n",
              "      <th></th>\n",
              "      <th></th>\n",
              "    </tr>\n",
              "  </thead>\n",
              "  <tbody>\n",
              "    <tr>\n",
              "      <th>BBDC3</th>\n",
              "      <td>55</td>\n",
              "      <td>21.395</td>\n",
              "      <td>Banking</td>\n",
              "    </tr>\n",
              "    <tr>\n",
              "      <th>BPAC11</th>\n",
              "      <td>45</td>\n",
              "      <td>112.120</td>\n",
              "      <td>Banking</td>\n",
              "    </tr>\n",
              "    <tr>\n",
              "      <th>ITUB4</th>\n",
              "      <td>20</td>\n",
              "      <td>28.035</td>\n",
              "      <td>Banking</td>\n",
              "    </tr>\n",
              "    <tr>\n",
              "      <th>MGLU3</th>\n",
              "      <td>30</td>\n",
              "      <td>20.340</td>\n",
              "      <td>Retail</td>\n",
              "    </tr>\n",
              "    <tr>\n",
              "      <th>PETR4</th>\n",
              "      <td>40</td>\n",
              "      <td>25.175</td>\n",
              "      <td>Oil and Gas</td>\n",
              "    </tr>\n",
              "    <tr>\n",
              "      <th>SANB11</th>\n",
              "      <td>190</td>\n",
              "      <td>40.550</td>\n",
              "      <td>Banking</td>\n",
              "    </tr>\n",
              "  </tbody>\n",
              "</table>\n",
              "</div>"
            ],
            "text/plain": [
              "        Amount    Price       Sector\n",
              "Ticker                              \n",
              "BBDC3       55   21.395      Banking\n",
              "BPAC11      45  112.120      Banking\n",
              "ITUB4       20   28.035      Banking\n",
              "MGLU3       30   20.340       Retail\n",
              "PETR4       40   25.175  Oil and Gas\n",
              "SANB11     190   40.550      Banking"
            ]
          },
          "metadata": {
            "tags": []
          },
          "execution_count": 192
        }
      ]
    },
    {
      "cell_type": "code",
      "metadata": {
        "id": "IZ5ebLyGKl3v"
      },
      "source": [
        "#Salvando em arquivo excel\n",
        "#optei por salvar em um diferente mas poderia salvar no mesmo arquivo do tópico antetior \n",
        "posicoes_cliente_1150 = pd.ExcelWriter('posicoes_cliente_1150.xlsx', engine='xlsxwriter') \n",
        "\n",
        "neg_client.to_excel(posicoes_cliente_1150, sheet_name='Client - 1150')\n",
        "\n",
        "posicoes_cliente_1150.save()"
      ],
      "execution_count": null,
      "outputs": []
    }
  ]
}