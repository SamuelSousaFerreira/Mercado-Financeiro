{
  "nbformat": 4,
  "nbformat_minor": 0,
  "metadata": {
    "colab": {
      "name": "Case - MZR",
      "provenance": [],
      "collapsed_sections": [
        "3RLH2M_zZNdW",
        "lMKx0-ExbhhJ",
        "KUezi118c393"
      ],
      "include_colab_link": true
    },
    "kernelspec": {
      "name": "python3",
      "display_name": "Python 3"
    },
    "language_info": {
      "name": "python"
    }
  },
  "cells": [
    {
      "cell_type": "markdown",
      "metadata": {
        "id": "view-in-github",
        "colab_type": "text"
      },
      "source": [
        "<a href=\"https://colab.research.google.com/github/SamuelSousaFerreira/Mercado-Financeiro/blob/main/Case_MZR.ipynb\" target=\"_parent\"><img src=\"https://colab.research.google.com/assets/colab-badge.svg\" alt=\"Open In Colab\"/></a>"
      ]
    },
    {
      "cell_type": "markdown",
      "metadata": {
        "id": "CmWhXYki4Wd-"
      },
      "source": [
        "# **Carregando os dados**"
      ]
    },
    {
      "cell_type": "code",
      "metadata": {
        "id": "v0CQk0FV5Jn8",
        "colab": {
          "base_uri": "https://localhost:8080/"
        },
        "outputId": "528ee8d5-219f-497a-8fb7-cb836261b608"
      },
      "source": [
        "import pandas as pd #operações com tabelas\n",
        "import numpy as np #operações matemáticas\n",
        "!pip install xlsxwriter #gerar o excel com várias abas de clientes\n",
        "import calendar # operações com data\n",
        "import datetime #operações com data\n",
        "import matplotlib.pyplot as plt\n",
        "import seaborn as sns\n"
      ],
      "execution_count": 109,
      "outputs": [
        {
          "output_type": "stream",
          "text": [
            "Requirement already satisfied: xlsxwriter in /usr/local/lib/python3.7/dist-packages (1.4.3)\n"
          ],
          "name": "stdout"
        }
      ]
    },
    {
      "cell_type": "code",
      "metadata": {
        "colab": {
          "base_uri": "https://localhost:8080/",
          "height": 204
        },
        "id": "B5PnrqJG5Wqm",
        "outputId": "096d6d1c-4e0a-47e4-df28-9f09d89b0216"
      },
      "source": [
        "arquivo_excel = pd.ExcelFile(\"/content/drive/MyDrive/Portfólio/Case da MZR/Desafio VBA.xlsx\") #Carrego o excel\n",
        "\n",
        "operações = pd.read_excel(arquivo_excel, sheet_name='Trade Output', header=1)# index_col= 'Date & Time' # coloco em um DataFrame as abas desejadas\n",
        "desafio = operações.copy()\n",
        "desafio.head()"
      ],
      "execution_count": 110,
      "outputs": [
        {
          "output_type": "execute_result",
          "data": {
            "text/html": [
              "<div>\n",
              "<style scoped>\n",
              "    .dataframe tbody tr th:only-of-type {\n",
              "        vertical-align: middle;\n",
              "    }\n",
              "\n",
              "    .dataframe tbody tr th {\n",
              "        vertical-align: top;\n",
              "    }\n",
              "\n",
              "    .dataframe thead th {\n",
              "        text-align: right;\n",
              "    }\n",
              "</style>\n",
              "<table border=\"1\" class=\"dataframe\">\n",
              "  <thead>\n",
              "    <tr style=\"text-align: right;\">\n",
              "      <th></th>\n",
              "      <th>Unnamed: 0</th>\n",
              "      <th>Date &amp; Time</th>\n",
              "      <th>Stock</th>\n",
              "      <th>B/S</th>\n",
              "      <th>Amount</th>\n",
              "      <th>Client</th>\n",
              "      <th>Price</th>\n",
              "    </tr>\n",
              "  </thead>\n",
              "  <tbody>\n",
              "    <tr>\n",
              "      <th>0</th>\n",
              "      <td>NaN</td>\n",
              "      <td>2021-05-07 13:32:31.350</td>\n",
              "      <td>BBDC3</td>\n",
              "      <td>B</td>\n",
              "      <td>5</td>\n",
              "      <td>1040</td>\n",
              "      <td>20.82</td>\n",
              "    </tr>\n",
              "    <tr>\n",
              "      <th>1</th>\n",
              "      <td>NaN</td>\n",
              "      <td>2021-05-07 13:32:32.214</td>\n",
              "      <td>PETR4</td>\n",
              "      <td>S</td>\n",
              "      <td>5</td>\n",
              "      <td>1040</td>\n",
              "      <td>25.19</td>\n",
              "    </tr>\n",
              "    <tr>\n",
              "      <th>2</th>\n",
              "      <td>NaN</td>\n",
              "      <td>2021-05-07 13:32:33.078</td>\n",
              "      <td>SANB11</td>\n",
              "      <td>S</td>\n",
              "      <td>20</td>\n",
              "      <td>Mesa</td>\n",
              "      <td>38.91</td>\n",
              "    </tr>\n",
              "    <tr>\n",
              "      <th>3</th>\n",
              "      <td>NaN</td>\n",
              "      <td>2021-05-07 13:32:33.942</td>\n",
              "      <td>PETR4</td>\n",
              "      <td>S</td>\n",
              "      <td>10</td>\n",
              "      <td>2806</td>\n",
              "      <td>23.54</td>\n",
              "    </tr>\n",
              "    <tr>\n",
              "      <th>4</th>\n",
              "      <td>NaN</td>\n",
              "      <td>2021-05-07 13:32:34.806</td>\n",
              "      <td>BBDC3</td>\n",
              "      <td>B</td>\n",
              "      <td>10</td>\n",
              "      <td>2030</td>\n",
              "      <td>21.11</td>\n",
              "    </tr>\n",
              "  </tbody>\n",
              "</table>\n",
              "</div>"
            ],
            "text/plain": [
              "   Unnamed: 0             Date & Time   Stock B/S  Amount Client  Price\n",
              "0         NaN 2021-05-07 13:32:31.350   BBDC3   B       5   1040  20.82\n",
              "1         NaN 2021-05-07 13:32:32.214   PETR4   S       5   1040  25.19\n",
              "2         NaN 2021-05-07 13:32:33.078  SANB11   S      20   Mesa  38.91\n",
              "3         NaN 2021-05-07 13:32:33.942   PETR4   S      10   2806  23.54\n",
              "4         NaN 2021-05-07 13:32:34.806   BBDC3   B      10   2030  21.11"
            ]
          },
          "metadata": {
            "tags": []
          },
          "execution_count": 110
        }
      ]
    },
    {
      "cell_type": "code",
      "metadata": {
        "colab": {
          "base_uri": "https://localhost:8080/"
        },
        "id": "q9ivefQF6sCh",
        "outputId": "1baace99-4a7d-40a0-89ab-5cf2315aa68e"
      },
      "source": [
        "desafio.drop(columns='Unnamed: 0', inplace=True)\n",
        "desafio.info()\n",
        "#Verificando os dados e a tipagem\n",
        "#não há dados faltantes e nem nulos nas 1000 linhas\n",
        "#tipagem feita corretamente, portanto não é necessário alterar nada."
      ],
      "execution_count": 111,
      "outputs": [
        {
          "output_type": "stream",
          "text": [
            "<class 'pandas.core.frame.DataFrame'>\n",
            "RangeIndex: 1000 entries, 0 to 999\n",
            "Data columns (total 6 columns):\n",
            " #   Column       Non-Null Count  Dtype         \n",
            "---  ------       --------------  -----         \n",
            " 0   Date & Time  1000 non-null   datetime64[ns]\n",
            " 1   Stock        1000 non-null   object        \n",
            " 2   B/S          1000 non-null   object        \n",
            " 3   Amount       1000 non-null   int64         \n",
            " 4   Client       1000 non-null   object        \n",
            " 5   Price        1000 non-null   float64       \n",
            "dtypes: datetime64[ns](1), float64(1), int64(1), object(3)\n",
            "memory usage: 47.0+ KB\n"
          ],
          "name": "stdout"
        }
      ]
    },
    {
      "cell_type": "code",
      "metadata": {
        "colab": {
          "base_uri": "https://localhost:8080/",
          "height": 204
        },
        "id": "fIOqPmeVD2r1",
        "outputId": "794d70bc-7b1d-467b-abda-77cfba76df6c"
      },
      "source": [
        "#A coluna B/S, significa B=Buy e S=Sell, então substituiremos B por 1 e S por -1.\n",
        "compra_venda = {'B':1,'S':-1}\n",
        "desafio['B/S'] = desafio['B/S'].map(compra_venda)\n",
        "#esafio['Compra/Venda'] = desafio['B/S'].map(compra_venda) ou criar uma nova coluna\n",
        "desafio.head()"
      ],
      "execution_count": 112,
      "outputs": [
        {
          "output_type": "execute_result",
          "data": {
            "text/html": [
              "<div>\n",
              "<style scoped>\n",
              "    .dataframe tbody tr th:only-of-type {\n",
              "        vertical-align: middle;\n",
              "    }\n",
              "\n",
              "    .dataframe tbody tr th {\n",
              "        vertical-align: top;\n",
              "    }\n",
              "\n",
              "    .dataframe thead th {\n",
              "        text-align: right;\n",
              "    }\n",
              "</style>\n",
              "<table border=\"1\" class=\"dataframe\">\n",
              "  <thead>\n",
              "    <tr style=\"text-align: right;\">\n",
              "      <th></th>\n",
              "      <th>Date &amp; Time</th>\n",
              "      <th>Stock</th>\n",
              "      <th>B/S</th>\n",
              "      <th>Amount</th>\n",
              "      <th>Client</th>\n",
              "      <th>Price</th>\n",
              "    </tr>\n",
              "  </thead>\n",
              "  <tbody>\n",
              "    <tr>\n",
              "      <th>0</th>\n",
              "      <td>2021-05-07 13:32:31.350</td>\n",
              "      <td>BBDC3</td>\n",
              "      <td>1</td>\n",
              "      <td>5</td>\n",
              "      <td>1040</td>\n",
              "      <td>20.82</td>\n",
              "    </tr>\n",
              "    <tr>\n",
              "      <th>1</th>\n",
              "      <td>2021-05-07 13:32:32.214</td>\n",
              "      <td>PETR4</td>\n",
              "      <td>-1</td>\n",
              "      <td>5</td>\n",
              "      <td>1040</td>\n",
              "      <td>25.19</td>\n",
              "    </tr>\n",
              "    <tr>\n",
              "      <th>2</th>\n",
              "      <td>2021-05-07 13:32:33.078</td>\n",
              "      <td>SANB11</td>\n",
              "      <td>-1</td>\n",
              "      <td>20</td>\n",
              "      <td>Mesa</td>\n",
              "      <td>38.91</td>\n",
              "    </tr>\n",
              "    <tr>\n",
              "      <th>3</th>\n",
              "      <td>2021-05-07 13:32:33.942</td>\n",
              "      <td>PETR4</td>\n",
              "      <td>-1</td>\n",
              "      <td>10</td>\n",
              "      <td>2806</td>\n",
              "      <td>23.54</td>\n",
              "    </tr>\n",
              "    <tr>\n",
              "      <th>4</th>\n",
              "      <td>2021-05-07 13:32:34.806</td>\n",
              "      <td>BBDC3</td>\n",
              "      <td>1</td>\n",
              "      <td>10</td>\n",
              "      <td>2030</td>\n",
              "      <td>21.11</td>\n",
              "    </tr>\n",
              "  </tbody>\n",
              "</table>\n",
              "</div>"
            ],
            "text/plain": [
              "              Date & Time   Stock  B/S  Amount Client  Price\n",
              "0 2021-05-07 13:32:31.350   BBDC3    1       5   1040  20.82\n",
              "1 2021-05-07 13:32:32.214   PETR4   -1       5   1040  25.19\n",
              "2 2021-05-07 13:32:33.078  SANB11   -1      20   Mesa  38.91\n",
              "3 2021-05-07 13:32:33.942   PETR4   -1      10   2806  23.54\n",
              "4 2021-05-07 13:32:34.806   BBDC3    1      10   2030  21.11"
            ]
          },
          "metadata": {
            "tags": []
          },
          "execution_count": 112
        }
      ]
    },
    {
      "cell_type": "code",
      "metadata": {
        "id": "xpVCrM60HUEm",
        "colab": {
          "base_uri": "https://localhost:8080/",
          "height": 204
        },
        "outputId": "7a2a6e02-5c01-4067-87f1-382b2c135129"
      },
      "source": [
        "#Regra:Posições vendidas devem entrar com sinal negativo nas carteiras.\n",
        "#Tanto as quantidades quanto o preço receberão o sinal negativo quando a operaçõe for de venda\n",
        "desafio['Amount'] = desafio['B/S'] * desafio.Amount\n",
        "desafio['Price'] = desafio['B/S'] * desafio.Price\n",
        "desafio.head()"
      ],
      "execution_count": 113,
      "outputs": [
        {
          "output_type": "execute_result",
          "data": {
            "text/html": [
              "<div>\n",
              "<style scoped>\n",
              "    .dataframe tbody tr th:only-of-type {\n",
              "        vertical-align: middle;\n",
              "    }\n",
              "\n",
              "    .dataframe tbody tr th {\n",
              "        vertical-align: top;\n",
              "    }\n",
              "\n",
              "    .dataframe thead th {\n",
              "        text-align: right;\n",
              "    }\n",
              "</style>\n",
              "<table border=\"1\" class=\"dataframe\">\n",
              "  <thead>\n",
              "    <tr style=\"text-align: right;\">\n",
              "      <th></th>\n",
              "      <th>Date &amp; Time</th>\n",
              "      <th>Stock</th>\n",
              "      <th>B/S</th>\n",
              "      <th>Amount</th>\n",
              "      <th>Client</th>\n",
              "      <th>Price</th>\n",
              "    </tr>\n",
              "  </thead>\n",
              "  <tbody>\n",
              "    <tr>\n",
              "      <th>0</th>\n",
              "      <td>2021-05-07 13:32:31.350</td>\n",
              "      <td>BBDC3</td>\n",
              "      <td>1</td>\n",
              "      <td>5</td>\n",
              "      <td>1040</td>\n",
              "      <td>20.82</td>\n",
              "    </tr>\n",
              "    <tr>\n",
              "      <th>1</th>\n",
              "      <td>2021-05-07 13:32:32.214</td>\n",
              "      <td>PETR4</td>\n",
              "      <td>-1</td>\n",
              "      <td>-5</td>\n",
              "      <td>1040</td>\n",
              "      <td>-25.19</td>\n",
              "    </tr>\n",
              "    <tr>\n",
              "      <th>2</th>\n",
              "      <td>2021-05-07 13:32:33.078</td>\n",
              "      <td>SANB11</td>\n",
              "      <td>-1</td>\n",
              "      <td>-20</td>\n",
              "      <td>Mesa</td>\n",
              "      <td>-38.91</td>\n",
              "    </tr>\n",
              "    <tr>\n",
              "      <th>3</th>\n",
              "      <td>2021-05-07 13:32:33.942</td>\n",
              "      <td>PETR4</td>\n",
              "      <td>-1</td>\n",
              "      <td>-10</td>\n",
              "      <td>2806</td>\n",
              "      <td>-23.54</td>\n",
              "    </tr>\n",
              "    <tr>\n",
              "      <th>4</th>\n",
              "      <td>2021-05-07 13:32:34.806</td>\n",
              "      <td>BBDC3</td>\n",
              "      <td>1</td>\n",
              "      <td>10</td>\n",
              "      <td>2030</td>\n",
              "      <td>21.11</td>\n",
              "    </tr>\n",
              "  </tbody>\n",
              "</table>\n",
              "</div>"
            ],
            "text/plain": [
              "              Date & Time   Stock  B/S  Amount Client  Price\n",
              "0 2021-05-07 13:32:31.350   BBDC3    1       5   1040  20.82\n",
              "1 2021-05-07 13:32:32.214   PETR4   -1      -5   1040 -25.19\n",
              "2 2021-05-07 13:32:33.078  SANB11   -1     -20   Mesa -38.91\n",
              "3 2021-05-07 13:32:33.942   PETR4   -1     -10   2806 -23.54\n",
              "4 2021-05-07 13:32:34.806   BBDC3    1      10   2030  21.11"
            ]
          },
          "metadata": {
            "tags": []
          },
          "execution_count": 113
        }
      ]
    },
    {
      "cell_type": "code",
      "metadata": {
        "colab": {
          "base_uri": "https://localhost:8080/"
        },
        "id": "G2MQIkYK7Vx9",
        "outputId": "26122147-3425-499e-f316-174bc7d8d50f"
      },
      "source": [
        "# Criando uma lista de Clientes da base para posterior agrupamento\n",
        "clientes = list(desafio.Client.unique()) \n",
        "clientes.remove('Mesa') #removendo a Mesa que não é uma cliente.\n",
        "clientes"
      ],
      "execution_count": 114,
      "outputs": [
        {
          "output_type": "execute_result",
          "data": {
            "text/plain": [
              "[1040, 2806, 2030, 1917, 1150, 3018]"
            ]
          },
          "metadata": {
            "tags": []
          },
          "execution_count": 114
        }
      ]
    },
    {
      "cell_type": "markdown",
      "metadata": {
        "id": "0vjkUejM-IZe"
      },
      "source": [
        "# **Mesa**\n",
        "As boletas registradas sob o operador “Mesa” devem ser especificadas para TODOS os clientes de forma equânime, ou seja, com o mesmo preço médio de forma que não haja seleção de preço por cliente (Fair Dealing).  "
      ]
    },
    {
      "cell_type": "code",
      "metadata": {
        "colab": {
          "base_uri": "https://localhost:8080/",
          "height": 204
        },
        "id": "8GL9YCuW-ll4",
        "outputId": "7e9ae8ab-b18a-4382-dcbd-e393611ec208"
      },
      "source": [
        "#filtrando as operações da Mesa\n",
        "mesa = desafio.loc[desafio.Client == 'Mesa']\n",
        "mesa.head()"
      ],
      "execution_count": 9,
      "outputs": [
        {
          "output_type": "execute_result",
          "data": {
            "text/html": [
              "<div>\n",
              "<style scoped>\n",
              "    .dataframe tbody tr th:only-of-type {\n",
              "        vertical-align: middle;\n",
              "    }\n",
              "\n",
              "    .dataframe tbody tr th {\n",
              "        vertical-align: top;\n",
              "    }\n",
              "\n",
              "    .dataframe thead th {\n",
              "        text-align: right;\n",
              "    }\n",
              "</style>\n",
              "<table border=\"1\" class=\"dataframe\">\n",
              "  <thead>\n",
              "    <tr style=\"text-align: right;\">\n",
              "      <th></th>\n",
              "      <th>Date &amp; Time</th>\n",
              "      <th>Stock</th>\n",
              "      <th>B/S</th>\n",
              "      <th>Amount</th>\n",
              "      <th>Client</th>\n",
              "      <th>Price</th>\n",
              "    </tr>\n",
              "  </thead>\n",
              "  <tbody>\n",
              "    <tr>\n",
              "      <th>2</th>\n",
              "      <td>2021-05-07 13:32:33.078</td>\n",
              "      <td>SANB11</td>\n",
              "      <td>-1</td>\n",
              "      <td>-20</td>\n",
              "      <td>Mesa</td>\n",
              "      <td>-38.91</td>\n",
              "    </tr>\n",
              "    <tr>\n",
              "      <th>8</th>\n",
              "      <td>2021-05-07 13:32:38.262</td>\n",
              "      <td>ITUB4</td>\n",
              "      <td>1</td>\n",
              "      <td>15</td>\n",
              "      <td>Mesa</td>\n",
              "      <td>29.43</td>\n",
              "    </tr>\n",
              "    <tr>\n",
              "      <th>41</th>\n",
              "      <td>2021-05-07 13:33:06.774</td>\n",
              "      <td>BBDC3</td>\n",
              "      <td>1</td>\n",
              "      <td>5</td>\n",
              "      <td>Mesa</td>\n",
              "      <td>22.97</td>\n",
              "    </tr>\n",
              "    <tr>\n",
              "      <th>43</th>\n",
              "      <td>2021-05-07 13:33:08.502</td>\n",
              "      <td>BPAC11</td>\n",
              "      <td>1</td>\n",
              "      <td>5</td>\n",
              "      <td>Mesa</td>\n",
              "      <td>112.02</td>\n",
              "    </tr>\n",
              "    <tr>\n",
              "      <th>49</th>\n",
              "      <td>2021-05-07 13:33:13.686</td>\n",
              "      <td>MGLU3</td>\n",
              "      <td>1</td>\n",
              "      <td>15</td>\n",
              "      <td>Mesa</td>\n",
              "      <td>20.80</td>\n",
              "    </tr>\n",
              "  </tbody>\n",
              "</table>\n",
              "</div>"
            ],
            "text/plain": [
              "               Date & Time   Stock  B/S  Amount Client   Price\n",
              "2  2021-05-07 13:32:33.078  SANB11   -1     -20   Mesa  -38.91\n",
              "8  2021-05-07 13:32:38.262   ITUB4    1      15   Mesa   29.43\n",
              "41 2021-05-07 13:33:06.774   BBDC3    1       5   Mesa   22.97\n",
              "43 2021-05-07 13:33:08.502  BPAC11    1       5   Mesa  112.02\n",
              "49 2021-05-07 13:33:13.686   MGLU3    1      15   Mesa   20.80"
            ]
          },
          "metadata": {
            "tags": []
          },
          "execution_count": 9
        }
      ]
    },
    {
      "cell_type": "markdown",
      "metadata": {
        "id": "kumhiwGAOXhR"
      },
      "source": [
        "## Compra Mesa"
      ]
    },
    {
      "cell_type": "code",
      "metadata": {
        "colab": {
          "base_uri": "https://localhost:8080/",
          "height": 204
        },
        "id": "tYry-_XIAs85",
        "outputId": "d6fee200-b67e-42ca-d8be-23c59224fb92"
      },
      "source": [
        "#Quantidade de Ações compradas\n",
        "mesa_compr = mesa.loc[mesa['B/S'] == 1]\n",
        "mesa_compr.head()"
      ],
      "execution_count": 10,
      "outputs": [
        {
          "output_type": "execute_result",
          "data": {
            "text/html": [
              "<div>\n",
              "<style scoped>\n",
              "    .dataframe tbody tr th:only-of-type {\n",
              "        vertical-align: middle;\n",
              "    }\n",
              "\n",
              "    .dataframe tbody tr th {\n",
              "        vertical-align: top;\n",
              "    }\n",
              "\n",
              "    .dataframe thead th {\n",
              "        text-align: right;\n",
              "    }\n",
              "</style>\n",
              "<table border=\"1\" class=\"dataframe\">\n",
              "  <thead>\n",
              "    <tr style=\"text-align: right;\">\n",
              "      <th></th>\n",
              "      <th>Date &amp; Time</th>\n",
              "      <th>Stock</th>\n",
              "      <th>B/S</th>\n",
              "      <th>Amount</th>\n",
              "      <th>Client</th>\n",
              "      <th>Price</th>\n",
              "    </tr>\n",
              "  </thead>\n",
              "  <tbody>\n",
              "    <tr>\n",
              "      <th>8</th>\n",
              "      <td>2021-05-07 13:32:38.262</td>\n",
              "      <td>ITUB4</td>\n",
              "      <td>1</td>\n",
              "      <td>15</td>\n",
              "      <td>Mesa</td>\n",
              "      <td>29.43</td>\n",
              "    </tr>\n",
              "    <tr>\n",
              "      <th>41</th>\n",
              "      <td>2021-05-07 13:33:06.774</td>\n",
              "      <td>BBDC3</td>\n",
              "      <td>1</td>\n",
              "      <td>5</td>\n",
              "      <td>Mesa</td>\n",
              "      <td>22.97</td>\n",
              "    </tr>\n",
              "    <tr>\n",
              "      <th>43</th>\n",
              "      <td>2021-05-07 13:33:08.502</td>\n",
              "      <td>BPAC11</td>\n",
              "      <td>1</td>\n",
              "      <td>5</td>\n",
              "      <td>Mesa</td>\n",
              "      <td>112.02</td>\n",
              "    </tr>\n",
              "    <tr>\n",
              "      <th>49</th>\n",
              "      <td>2021-05-07 13:33:13.686</td>\n",
              "      <td>MGLU3</td>\n",
              "      <td>1</td>\n",
              "      <td>15</td>\n",
              "      <td>Mesa</td>\n",
              "      <td>20.80</td>\n",
              "    </tr>\n",
              "    <tr>\n",
              "      <th>52</th>\n",
              "      <td>2021-05-07 13:33:16.278</td>\n",
              "      <td>ITUB4</td>\n",
              "      <td>1</td>\n",
              "      <td>10</td>\n",
              "      <td>Mesa</td>\n",
              "      <td>28.68</td>\n",
              "    </tr>\n",
              "  </tbody>\n",
              "</table>\n",
              "</div>"
            ],
            "text/plain": [
              "               Date & Time   Stock  B/S  Amount Client   Price\n",
              "8  2021-05-07 13:32:38.262   ITUB4    1      15   Mesa   29.43\n",
              "41 2021-05-07 13:33:06.774   BBDC3    1       5   Mesa   22.97\n",
              "43 2021-05-07 13:33:08.502  BPAC11    1       5   Mesa  112.02\n",
              "49 2021-05-07 13:33:13.686   MGLU3    1      15   Mesa   20.80\n",
              "52 2021-05-07 13:33:16.278   ITUB4    1      10   Mesa   28.68"
            ]
          },
          "metadata": {
            "tags": []
          },
          "execution_count": 10
        }
      ]
    },
    {
      "cell_type": "code",
      "metadata": {
        "colab": {
          "base_uri": "https://localhost:8080/"
        },
        "id": "1oonH-JzBT2z",
        "outputId": "d36a26e9-c372-45b1-d8f7-6bdf28c45ade"
      },
      "source": [
        "#lista de ações mesa\n",
        "stock_mesa = list(mesa.Stock.unique())\n",
        "stock_mesa"
      ],
      "execution_count": 11,
      "outputs": [
        {
          "output_type": "execute_result",
          "data": {
            "text/plain": [
              "['SANB11', 'ITUB4', 'BBDC3', 'BPAC11', 'MGLU3', 'PETR4']"
            ]
          },
          "metadata": {
            "tags": []
          },
          "execution_count": 11
        }
      ]
    },
    {
      "cell_type": "code",
      "metadata": {
        "colab": {
          "base_uri": "https://localhost:8080/",
          "height": 49
        },
        "id": "a2fE-KGaXD6U",
        "outputId": "76e3837d-3a6e-4415-c8c2-bef0571a54b7"
      },
      "source": [
        "#Criando um Data Frame para armazenar os Resultados\n",
        "neg_mesa = pd.DataFrame(columns=['Stock','Amount','Price'])\n",
        "neg_mesa"
      ],
      "execution_count": 12,
      "outputs": [
        {
          "output_type": "execute_result",
          "data": {
            "text/html": [
              "<div>\n",
              "<style scoped>\n",
              "    .dataframe tbody tr th:only-of-type {\n",
              "        vertical-align: middle;\n",
              "    }\n",
              "\n",
              "    .dataframe tbody tr th {\n",
              "        vertical-align: top;\n",
              "    }\n",
              "\n",
              "    .dataframe thead th {\n",
              "        text-align: right;\n",
              "    }\n",
              "</style>\n",
              "<table border=\"1\" class=\"dataframe\">\n",
              "  <thead>\n",
              "    <tr style=\"text-align: right;\">\n",
              "      <th></th>\n",
              "      <th>Stock</th>\n",
              "      <th>Amount</th>\n",
              "      <th>Price</th>\n",
              "    </tr>\n",
              "  </thead>\n",
              "  <tbody>\n",
              "  </tbody>\n",
              "</table>\n",
              "</div>"
            ],
            "text/plain": [
              "Empty DataFrame\n",
              "Columns: [Stock, Amount, Price]\n",
              "Index: []"
            ]
          },
          "metadata": {
            "tags": []
          },
          "execution_count": 12
        }
      ]
    },
    {
      "cell_type": "code",
      "metadata": {
        "id": "dbLQrhn_SBGK"
      },
      "source": [
        "#Calculando a média por ação e armazeando no DF\n",
        "for x in stock_mesa:\n",
        "  acoes_x = mesa_compr.loc[mesa_compr.Stock == x]\n",
        "  negociadas = acoes_x.Amount.sum()\n",
        "  preco_medio = (np.average(acoes_x.Price,weights=acoes_x.Amount)).round(2) #media ponderada arredondando para 2 casas decimais\n",
        "  neg_mesa = neg_mesa.append({\"Stock\":x,\"Amount\":negociadas,'Price':preco_medio}, ignore_index=True)\n"
      ],
      "execution_count": 13,
      "outputs": []
    },
    {
      "cell_type": "code",
      "metadata": {
        "colab": {
          "base_uri": "https://localhost:8080/",
          "height": 235
        },
        "id": "oi-PU9Z_YJPd",
        "outputId": "d13deb4d-5810-43ac-9445-42c514279061"
      },
      "source": [
        "neg_mesa"
      ],
      "execution_count": 14,
      "outputs": [
        {
          "output_type": "execute_result",
          "data": {
            "text/html": [
              "<div>\n",
              "<style scoped>\n",
              "    .dataframe tbody tr th:only-of-type {\n",
              "        vertical-align: middle;\n",
              "    }\n",
              "\n",
              "    .dataframe tbody tr th {\n",
              "        vertical-align: top;\n",
              "    }\n",
              "\n",
              "    .dataframe thead th {\n",
              "        text-align: right;\n",
              "    }\n",
              "</style>\n",
              "<table border=\"1\" class=\"dataframe\">\n",
              "  <thead>\n",
              "    <tr style=\"text-align: right;\">\n",
              "      <th></th>\n",
              "      <th>Stock</th>\n",
              "      <th>Amount</th>\n",
              "      <th>Price</th>\n",
              "    </tr>\n",
              "  </thead>\n",
              "  <tbody>\n",
              "    <tr>\n",
              "      <th>0</th>\n",
              "      <td>SANB11</td>\n",
              "      <td>170</td>\n",
              "      <td>39.91</td>\n",
              "    </tr>\n",
              "    <tr>\n",
              "      <th>1</th>\n",
              "      <td>ITUB4</td>\n",
              "      <td>150</td>\n",
              "      <td>27.99</td>\n",
              "    </tr>\n",
              "    <tr>\n",
              "      <th>2</th>\n",
              "      <td>BBDC3</td>\n",
              "      <td>130</td>\n",
              "      <td>21.34</td>\n",
              "    </tr>\n",
              "    <tr>\n",
              "      <th>3</th>\n",
              "      <td>BPAC11</td>\n",
              "      <td>195</td>\n",
              "      <td>111.75</td>\n",
              "    </tr>\n",
              "    <tr>\n",
              "      <th>4</th>\n",
              "      <td>MGLU3</td>\n",
              "      <td>205</td>\n",
              "      <td>20.20</td>\n",
              "    </tr>\n",
              "    <tr>\n",
              "      <th>5</th>\n",
              "      <td>PETR4</td>\n",
              "      <td>220</td>\n",
              "      <td>24.93</td>\n",
              "    </tr>\n",
              "  </tbody>\n",
              "</table>\n",
              "</div>"
            ],
            "text/plain": [
              "    Stock Amount   Price\n",
              "0  SANB11    170   39.91\n",
              "1   ITUB4    150   27.99\n",
              "2   BBDC3    130   21.34\n",
              "3  BPAC11    195  111.75\n",
              "4   MGLU3    205   20.20\n",
              "5   PETR4    220   24.93"
            ]
          },
          "metadata": {
            "tags": []
          },
          "execution_count": 14
        }
      ]
    },
    {
      "cell_type": "markdown",
      "metadata": {
        "id": "3RLH2M_zZNdW"
      },
      "source": [
        "## Venda Mesa"
      ]
    },
    {
      "cell_type": "code",
      "metadata": {
        "id": "sf3cK-roZPxk"
      },
      "source": [
        "#Ações Vendidas\n",
        "mesa_vend = mesa.loc[mesa['B/S'] == -1]\n",
        "mesa_vend.head()\n",
        "\n",
        "for x in stock_mesa:\n",
        "  acoes_x = mesa_vend.loc[mesa_vend.Stock == x]\n",
        "  negociadas = acoes_x.Amount.sum()\n",
        "  preco_medio = (np.average(acoes_x.Price,weights=acoes_x.Amount)).round(2)  #media ponderada arredondando para 2 casas decimais\n",
        "  neg_mesa = neg_mesa.append({\"Stock\":x,\"Amount\":negociadas,'Price':preco_medio}, ignore_index=True)\n",
        "\n",
        "#Criando uma planilha xlsx para armazenar nas abas as posições de cada cliente\n",
        "operacoes_mesa = pd.ExcelWriter('operacoes_mesa.xlsx', engine='xlsxwriter') \n",
        "\n",
        "#adicionando as operações em abas do xlsx\n",
        "neg_mesa.to_excel(operacoes_mesa, sheet_name= 'Operações Mesa') "
      ],
      "execution_count": 15,
      "outputs": []
    },
    {
      "cell_type": "markdown",
      "metadata": {
        "id": "lMKx0-ExbhhJ"
      },
      "source": [
        "## Resultado da Carteira Mesa"
      ]
    },
    {
      "cell_type": "code",
      "metadata": {
        "colab": {
          "base_uri": "https://localhost:8080/",
          "height": 421
        },
        "id": "RopK9iULZ1Dw",
        "outputId": "3500aaf6-be74-4957-fe69-64e2d9ca28ef"
      },
      "source": [
        "#tirar o sinal negativo de price e nao alterar o registro principal\n",
        "neg_mesa_1 =neg_mesa.copy()\n",
        "neg_mesa_1['Price'] = abs(neg_mesa_1['Price'])\n",
        "neg_mesa_1"
      ],
      "execution_count": 16,
      "outputs": [
        {
          "output_type": "execute_result",
          "data": {
            "text/html": [
              "<div>\n",
              "<style scoped>\n",
              "    .dataframe tbody tr th:only-of-type {\n",
              "        vertical-align: middle;\n",
              "    }\n",
              "\n",
              "    .dataframe tbody tr th {\n",
              "        vertical-align: top;\n",
              "    }\n",
              "\n",
              "    .dataframe thead th {\n",
              "        text-align: right;\n",
              "    }\n",
              "</style>\n",
              "<table border=\"1\" class=\"dataframe\">\n",
              "  <thead>\n",
              "    <tr style=\"text-align: right;\">\n",
              "      <th></th>\n",
              "      <th>Stock</th>\n",
              "      <th>Amount</th>\n",
              "      <th>Price</th>\n",
              "    </tr>\n",
              "  </thead>\n",
              "  <tbody>\n",
              "    <tr>\n",
              "      <th>0</th>\n",
              "      <td>SANB11</td>\n",
              "      <td>170</td>\n",
              "      <td>39.91</td>\n",
              "    </tr>\n",
              "    <tr>\n",
              "      <th>1</th>\n",
              "      <td>ITUB4</td>\n",
              "      <td>150</td>\n",
              "      <td>27.99</td>\n",
              "    </tr>\n",
              "    <tr>\n",
              "      <th>2</th>\n",
              "      <td>BBDC3</td>\n",
              "      <td>130</td>\n",
              "      <td>21.34</td>\n",
              "    </tr>\n",
              "    <tr>\n",
              "      <th>3</th>\n",
              "      <td>BPAC11</td>\n",
              "      <td>195</td>\n",
              "      <td>111.75</td>\n",
              "    </tr>\n",
              "    <tr>\n",
              "      <th>4</th>\n",
              "      <td>MGLU3</td>\n",
              "      <td>205</td>\n",
              "      <td>20.20</td>\n",
              "    </tr>\n",
              "    <tr>\n",
              "      <th>5</th>\n",
              "      <td>PETR4</td>\n",
              "      <td>220</td>\n",
              "      <td>24.93</td>\n",
              "    </tr>\n",
              "    <tr>\n",
              "      <th>6</th>\n",
              "      <td>SANB11</td>\n",
              "      <td>-185</td>\n",
              "      <td>39.71</td>\n",
              "    </tr>\n",
              "    <tr>\n",
              "      <th>7</th>\n",
              "      <td>ITUB4</td>\n",
              "      <td>-125</td>\n",
              "      <td>28.36</td>\n",
              "    </tr>\n",
              "    <tr>\n",
              "      <th>8</th>\n",
              "      <td>BBDC3</td>\n",
              "      <td>-75</td>\n",
              "      <td>20.51</td>\n",
              "    </tr>\n",
              "    <tr>\n",
              "      <th>9</th>\n",
              "      <td>BPAC11</td>\n",
              "      <td>-190</td>\n",
              "      <td>111.97</td>\n",
              "    </tr>\n",
              "    <tr>\n",
              "      <th>10</th>\n",
              "      <td>MGLU3</td>\n",
              "      <td>-115</td>\n",
              "      <td>19.41</td>\n",
              "    </tr>\n",
              "    <tr>\n",
              "      <th>11</th>\n",
              "      <td>PETR4</td>\n",
              "      <td>-245</td>\n",
              "      <td>25.34</td>\n",
              "    </tr>\n",
              "  </tbody>\n",
              "</table>\n",
              "</div>"
            ],
            "text/plain": [
              "     Stock Amount   Price\n",
              "0   SANB11    170   39.91\n",
              "1    ITUB4    150   27.99\n",
              "2    BBDC3    130   21.34\n",
              "3   BPAC11    195  111.75\n",
              "4    MGLU3    205   20.20\n",
              "5    PETR4    220   24.93\n",
              "6   SANB11   -185   39.71\n",
              "7    ITUB4   -125   28.36\n",
              "8    BBDC3    -75   20.51\n",
              "9   BPAC11   -190  111.97\n",
              "10   MGLU3   -115   19.41\n",
              "11   PETR4   -245   25.34"
            ]
          },
          "metadata": {
            "tags": []
          },
          "execution_count": 16
        }
      ]
    },
    {
      "cell_type": "code",
      "metadata": {
        "colab": {
          "base_uri": "https://localhost:8080/",
          "height": 266
        },
        "id": "xQeBqNF-bkEn",
        "outputId": "766c7169-7cb9-47a7-fc88-8a3df885f606"
      },
      "source": [
        "#agrupando por ação e calculando a média. Considerei para a média aritmética dos preços de venda e compra.\n",
        "posição_mesa = neg_mesa_1.groupby('Stock').agg({'Amount':'sum',\n",
        "                               'Price': 'mean'})\n",
        "\n",
        "posição_mesa.to_excel(operacoes_mesa, sheet_name= 'Posição Mesa')\n",
        "\n",
        "operacoes_mesa.save()\n",
        "\n",
        "posição_mesa"
      ],
      "execution_count": 17,
      "outputs": [
        {
          "output_type": "execute_result",
          "data": {
            "text/html": [
              "<div>\n",
              "<style scoped>\n",
              "    .dataframe tbody tr th:only-of-type {\n",
              "        vertical-align: middle;\n",
              "    }\n",
              "\n",
              "    .dataframe tbody tr th {\n",
              "        vertical-align: top;\n",
              "    }\n",
              "\n",
              "    .dataframe thead th {\n",
              "        text-align: right;\n",
              "    }\n",
              "</style>\n",
              "<table border=\"1\" class=\"dataframe\">\n",
              "  <thead>\n",
              "    <tr style=\"text-align: right;\">\n",
              "      <th></th>\n",
              "      <th>Amount</th>\n",
              "      <th>Price</th>\n",
              "    </tr>\n",
              "    <tr>\n",
              "      <th>Stock</th>\n",
              "      <th></th>\n",
              "      <th></th>\n",
              "    </tr>\n",
              "  </thead>\n",
              "  <tbody>\n",
              "    <tr>\n",
              "      <th>BBDC3</th>\n",
              "      <td>55</td>\n",
              "      <td>20.925</td>\n",
              "    </tr>\n",
              "    <tr>\n",
              "      <th>BPAC11</th>\n",
              "      <td>5</td>\n",
              "      <td>111.860</td>\n",
              "    </tr>\n",
              "    <tr>\n",
              "      <th>ITUB4</th>\n",
              "      <td>25</td>\n",
              "      <td>28.175</td>\n",
              "    </tr>\n",
              "    <tr>\n",
              "      <th>MGLU3</th>\n",
              "      <td>90</td>\n",
              "      <td>19.805</td>\n",
              "    </tr>\n",
              "    <tr>\n",
              "      <th>PETR4</th>\n",
              "      <td>-25</td>\n",
              "      <td>25.135</td>\n",
              "    </tr>\n",
              "    <tr>\n",
              "      <th>SANB11</th>\n",
              "      <td>-15</td>\n",
              "      <td>39.810</td>\n",
              "    </tr>\n",
              "  </tbody>\n",
              "</table>\n",
              "</div>"
            ],
            "text/plain": [
              "        Amount    Price\n",
              "Stock                  \n",
              "BBDC3       55   20.925\n",
              "BPAC11       5  111.860\n",
              "ITUB4       25   28.175\n",
              "MGLU3       90   19.805\n",
              "PETR4      -25   25.135\n",
              "SANB11     -15   39.810"
            ]
          },
          "metadata": {
            "tags": []
          },
          "execution_count": 17
        }
      ]
    },
    {
      "cell_type": "markdown",
      "metadata": {
        "id": "IfuCFJve4LGk"
      },
      "source": [
        "Não entendi como seria a divisão equânime, se seria por peso ponderado de ações ou se divide igualmente entre os clientes ou outro critério.\n",
        "O que adotarei será dividir a carteira Mesa pelo número de clientes, mesa_fracionada, e adicionar a carteira de cada cliente para consolidar  a posição deste."
      ]
    },
    {
      "cell_type": "code",
      "metadata": {
        "id": "OTySXsYx46ev"
      },
      "source": [
        "mesa_fracionada = posição_mesa.copy()\n",
        "mesa_fracionada['Amount'] = mesa_fracionada['Amount']/ len(clientes) "
      ],
      "execution_count": 18,
      "outputs": []
    },
    {
      "cell_type": "markdown",
      "metadata": {
        "id": "KUezi118c393"
      },
      "source": [
        "## Tudo Junto"
      ]
    },
    {
      "cell_type": "markdown",
      "metadata": {
        "id": "Uiq1Xrupc6xC"
      },
      "source": [
        "#filtrando as operações da Mesa\n",
        "mesa = desafio.loc[desafio.Client == 'Mesa']\n",
        "\n",
        "#lista de ações mesa\n",
        "stock_mesa = list(mesa.Stock.unique())\n",
        "\n",
        "#Criando um Data Frame para armazenar os Resultados\n",
        "neg_mesa = pd.DataFrame(columns=['Stock','Amount','Price'])\n",
        "neg_mesa\n",
        "\n",
        "#Ações compradas\n",
        "mesa_compr = mesa.loc[mesa['B/S'] == 1]\n",
        "mesa_compr.head()\n",
        "\n",
        "#Ações Vendidas\n",
        "mesa_vend = mesa.loc[mesa['B/S'] == -1]\n",
        "mesa_vend.head()\n",
        "\n",
        "#Calculando a média por ação e armazeando no DF\n",
        "for x in stock_mesa:\n",
        "  acoes_x = mesa_compr.loc[mesa_compr.Stock == x]\n",
        "  negociadas = acoes_x.Amount.sum()\n",
        "  preco_medio = (np.average(acoes_x.Price,weights=acoes_x.Amount)).round(2) #media ponderada arredondando para 2 casas decimais\n",
        "  neg_mesa = neg_mesa.append({\"Stock\":x,\"Amount\":negociadas,'Price':preco_medio}, ignore_index=True)\n",
        "\n",
        "\n",
        "for x in stock_mesa:\n",
        "  acoes_x = mesa_vend.loc[mesa_vend.Stock == x]\n",
        "  negociadas = acoes_x.Amount.sum()\n",
        "  preco_medio = (np.average(acoes_x.Price,weights=acoes_x.Amount)).round(2)  #media ponderada arredondando para 2 casas decimais\n",
        "  neg_mesa = neg_mesa.append({\"Stock\":x,\"Amount\":negociadas,'Price':preco_medio}, ignore_index=True)\n",
        "\n",
        "#Criando uma planilha xlsx para armazenar nas abas as posições de cada cliente\n",
        "operacoes_mesa = pd.ExcelWriter('operacoes_mesa.xlsx', engine='xlsxwriter') \n",
        "\n",
        "#adicionando as operações em abas do xlsx\n",
        "neg_mesa.to_excel(operacoes_mesa, sheet_name= 'Operações Mesa') \n",
        "\n",
        "#tirar o sinal negativo de price e nao alterar o registro principal\n",
        "neg_mesa_1 =neg_mesa.copy()\n",
        "neg_mesa_1['Price'] = abs(neg_mesa_1['Price'])\n",
        "neg_mesa_1\n",
        "\n",
        "#agrupando por ação e calculando a média. Considerei para a média aritmética dos preços de venda e compra.\n",
        "posição_mesa = neg_mesa_1.groupby('Stock').agg({'Amount':'sum',\n",
        "                               'Price': 'mean'})\n",
        "\n",
        "posição_mesa.to_excel(operacoes_mesa, sheet_name= 'Posição Mesa')\n",
        "\n",
        "operacoes_mesa.save()\n",
        "\n",
        "posição_mesa\n"
      ]
    },
    {
      "cell_type": "markdown",
      "metadata": {
        "id": "878ahOETCODu"
      },
      "source": [
        "# **Para Qualquer Cliente**"
      ]
    },
    {
      "cell_type": "code",
      "metadata": {
        "colab": {
          "base_uri": "https://localhost:8080/"
        },
        "id": "hc5snefdCRd2",
        "outputId": "28bcbda6-e5af-4f79-8c96-c6f12bdb4752"
      },
      "source": [
        "clientes"
      ],
      "execution_count": 19,
      "outputs": [
        {
          "output_type": "execute_result",
          "data": {
            "text/plain": [
              "[1040, 2806, 2030, 1917, 1150, 3018]"
            ]
          },
          "metadata": {
            "tags": []
          },
          "execution_count": 19
        }
      ]
    },
    {
      "cell_type": "code",
      "metadata": {
        "id": "x65PStQKG4p4",
        "colab": {
          "base_uri": "https://localhost:8080/",
          "height": 1000
        },
        "outputId": "20d947ee-c428-469b-e3d0-c137fd03a173"
      },
      "source": [
        "#Criando uma planilha xlsx para armazenar nas abas as posições de cada cliente\n",
        "posicoes_clientes = pd.ExcelWriter('posicoes_clientes.xlsx', engine='xlsxwriter') \n",
        "\n",
        "for y in clientes:\n",
        "  a = desafio.loc[desafio.Client == y] #armazena todas as posições do cliente y\n",
        "  nome_cliente = 'Client - '+ str(y) \n",
        " \n",
        "  #lista de ações do cliente y\n",
        "  stock_client = list(a.Stock.unique()) \n",
        "\n",
        "  #Criando um Data Frame vazio para armazenar os Resultados, ele é limpado a cada iteração\n",
        "  neg_client = pd.DataFrame(columns=['Stock','Amount','Price'])  \n",
        "\n",
        "  #Ações compradas do cliente y\n",
        "  a_compr = a.loc[a['B/S'] == 1]  \n",
        "\n",
        "  #Ações Vendidas do cliente y\n",
        "  a_vend = a.loc[a['B/S'] == -1]\n",
        "  \n",
        "  #Calculando a média ponderada por ação comprada e armazeando no DataFrame\n",
        "  for x in stock_client:\n",
        "    acoes_x = a_compr.loc[a_compr.Stock == x]\n",
        "    negociadas = acoes_x['Amount'].sum()\n",
        "    preco_medio = (np.average(acoes_x.Price,weights=acoes_x.Amount)).round(2)  #media ponderada arredondando para 2 casas decimais\n",
        "    #print(volume_x, negociadas, preco_medio)\n",
        "    neg_client = neg_client.append({\"Stock\":x,\"Amount\":negociadas,'Price':preco_medio}, ignore_index=True)\n",
        "     \n",
        "  #Calculando a média ponderada por ação vendida e armazeando no DataFrame\n",
        "  for x in stock_client:\n",
        "    acoes_x = a_vend.loc[a.Stock == x]\n",
        "    negociadas = acoes_x['Amount'].sum()\n",
        "    preco_medio = (np.average(acoes_x.Price,weights=acoes_x.Amount)).round(2)  #media ponderada arredondando para 2 casas decimais  \n",
        "    neg_client = neg_client.append({\"Stock\":x,\"Amount\":negociadas,'Price':preco_medio}, ignore_index=True)\n",
        "\n",
        "  #acrescentando a posiçaõ de Mesa à carteira do cliente\n",
        "  neg_client.set_index('Stock', inplace=True)\n",
        "  neg_client = pd.concat([neg_client,mesa_fracionada], axis=0)\n",
        "     \n",
        "  #posição final do cliente\n",
        "  neg_client['Price'] = abs(neg_client['Price']) #deixando todos os valores positivos para calcular a média\n",
        "  neg_client = neg_client.groupby('Stock').agg({'Amount':'sum','Price':'mean'})\n",
        "  \n",
        "  #Regra para eliminar, caso tenha, linhas com posições igual a zero\n",
        "  neg_client.drop(list(neg_client[neg_client.Amount == 0].index), inplace=True)\n",
        "\n",
        "  #organizando em ordem alfabética\n",
        "  neg_client.sort_values(by='Stock', ascending=True, inplace=True) \n",
        "\n",
        "  # colocando a coluna Stock como índice\n",
        "  #neg_client.set_index('Stock', inplace=True) \n",
        "\n",
        "  neg_client.to_excel(posicoes_clientes, sheet_name= nome_cliente) #adiciona as operações em abas do xlsx\n",
        "\n",
        "  display(nome_cliente, neg_client) #exibindo as posições de cada cliente no período\n",
        "\n",
        "posicoes_clientes.save()  #salvando o xlsx \n",
        "  "
      ],
      "execution_count": 20,
      "outputs": [
        {
          "output_type": "display_data",
          "data": {
            "application/vnd.google.colaboratory.intrinsic+json": {
              "type": "string"
            },
            "text/plain": [
              "'Client - 1040'"
            ]
          },
          "metadata": {
            "tags": []
          }
        },
        {
          "output_type": "display_data",
          "data": {
            "text/html": [
              "<div>\n",
              "<style scoped>\n",
              "    .dataframe tbody tr th:only-of-type {\n",
              "        vertical-align: middle;\n",
              "    }\n",
              "\n",
              "    .dataframe tbody tr th {\n",
              "        vertical-align: top;\n",
              "    }\n",
              "\n",
              "    .dataframe thead th {\n",
              "        text-align: right;\n",
              "    }\n",
              "</style>\n",
              "<table border=\"1\" class=\"dataframe\">\n",
              "  <thead>\n",
              "    <tr style=\"text-align: right;\">\n",
              "      <th></th>\n",
              "      <th>Amount</th>\n",
              "      <th>Price</th>\n",
              "    </tr>\n",
              "    <tr>\n",
              "      <th>Stock</th>\n",
              "      <th></th>\n",
              "      <th></th>\n",
              "    </tr>\n",
              "  </thead>\n",
              "  <tbody>\n",
              "    <tr>\n",
              "      <th>BBDC3</th>\n",
              "      <td>-105.833333</td>\n",
              "      <td>20.571667</td>\n",
              "    </tr>\n",
              "    <tr>\n",
              "      <th>BPAC11</th>\n",
              "      <td>60.833333</td>\n",
              "      <td>111.923333</td>\n",
              "    </tr>\n",
              "    <tr>\n",
              "      <th>ITUB4</th>\n",
              "      <td>209.166667</td>\n",
              "      <td>27.918333</td>\n",
              "    </tr>\n",
              "    <tr>\n",
              "      <th>MGLU3</th>\n",
              "      <td>-25.000000</td>\n",
              "      <td>19.725000</td>\n",
              "    </tr>\n",
              "    <tr>\n",
              "      <th>PETR4</th>\n",
              "      <td>165.833333</td>\n",
              "      <td>25.271667</td>\n",
              "    </tr>\n",
              "    <tr>\n",
              "      <th>SANB11</th>\n",
              "      <td>52.500000</td>\n",
              "      <td>39.730000</td>\n",
              "    </tr>\n",
              "  </tbody>\n",
              "</table>\n",
              "</div>"
            ],
            "text/plain": [
              "            Amount       Price\n",
              "Stock                         \n",
              "BBDC3  -105.833333   20.571667\n",
              "BPAC11   60.833333  111.923333\n",
              "ITUB4   209.166667   27.918333\n",
              "MGLU3   -25.000000   19.725000\n",
              "PETR4   165.833333   25.271667\n",
              "SANB11   52.500000   39.730000"
            ]
          },
          "metadata": {
            "tags": []
          }
        },
        {
          "output_type": "display_data",
          "data": {
            "application/vnd.google.colaboratory.intrinsic+json": {
              "type": "string"
            },
            "text/plain": [
              "'Client - 2806'"
            ]
          },
          "metadata": {
            "tags": []
          }
        },
        {
          "output_type": "display_data",
          "data": {
            "text/html": [
              "<div>\n",
              "<style scoped>\n",
              "    .dataframe tbody tr th:only-of-type {\n",
              "        vertical-align: middle;\n",
              "    }\n",
              "\n",
              "    .dataframe tbody tr th {\n",
              "        vertical-align: top;\n",
              "    }\n",
              "\n",
              "    .dataframe thead th {\n",
              "        text-align: right;\n",
              "    }\n",
              "</style>\n",
              "<table border=\"1\" class=\"dataframe\">\n",
              "  <thead>\n",
              "    <tr style=\"text-align: right;\">\n",
              "      <th></th>\n",
              "      <th>Amount</th>\n",
              "      <th>Price</th>\n",
              "    </tr>\n",
              "    <tr>\n",
              "      <th>Stock</th>\n",
              "      <th></th>\n",
              "      <th></th>\n",
              "    </tr>\n",
              "  </thead>\n",
              "  <tbody>\n",
              "    <tr>\n",
              "      <th>BBDC3</th>\n",
              "      <td>19.166667</td>\n",
              "      <td>20.995000</td>\n",
              "    </tr>\n",
              "    <tr>\n",
              "      <th>BPAC11</th>\n",
              "      <td>25.833333</td>\n",
              "      <td>112.370000</td>\n",
              "    </tr>\n",
              "    <tr>\n",
              "      <th>ITUB4</th>\n",
              "      <td>4.166667</td>\n",
              "      <td>28.225000</td>\n",
              "    </tr>\n",
              "    <tr>\n",
              "      <th>MGLU3</th>\n",
              "      <td>-30.000000</td>\n",
              "      <td>19.881667</td>\n",
              "    </tr>\n",
              "    <tr>\n",
              "      <th>PETR4</th>\n",
              "      <td>-114.166667</td>\n",
              "      <td>24.905000</td>\n",
              "    </tr>\n",
              "    <tr>\n",
              "      <th>SANB11</th>\n",
              "      <td>-137.500000</td>\n",
              "      <td>39.690000</td>\n",
              "    </tr>\n",
              "  </tbody>\n",
              "</table>\n",
              "</div>"
            ],
            "text/plain": [
              "            Amount       Price\n",
              "Stock                         \n",
              "BBDC3    19.166667   20.995000\n",
              "BPAC11   25.833333  112.370000\n",
              "ITUB4     4.166667   28.225000\n",
              "MGLU3   -30.000000   19.881667\n",
              "PETR4  -114.166667   24.905000\n",
              "SANB11 -137.500000   39.690000"
            ]
          },
          "metadata": {
            "tags": []
          }
        },
        {
          "output_type": "display_data",
          "data": {
            "application/vnd.google.colaboratory.intrinsic+json": {
              "type": "string"
            },
            "text/plain": [
              "'Client - 2030'"
            ]
          },
          "metadata": {
            "tags": []
          }
        },
        {
          "output_type": "display_data",
          "data": {
            "text/html": [
              "<div>\n",
              "<style scoped>\n",
              "    .dataframe tbody tr th:only-of-type {\n",
              "        vertical-align: middle;\n",
              "    }\n",
              "\n",
              "    .dataframe tbody tr th {\n",
              "        vertical-align: top;\n",
              "    }\n",
              "\n",
              "    .dataframe thead th {\n",
              "        text-align: right;\n",
              "    }\n",
              "</style>\n",
              "<table border=\"1\" class=\"dataframe\">\n",
              "  <thead>\n",
              "    <tr style=\"text-align: right;\">\n",
              "      <th></th>\n",
              "      <th>Amount</th>\n",
              "      <th>Price</th>\n",
              "    </tr>\n",
              "    <tr>\n",
              "      <th>Stock</th>\n",
              "      <th></th>\n",
              "      <th></th>\n",
              "    </tr>\n",
              "  </thead>\n",
              "  <tbody>\n",
              "    <tr>\n",
              "      <th>BBDC3</th>\n",
              "      <td>239.166667</td>\n",
              "      <td>21.241667</td>\n",
              "    </tr>\n",
              "    <tr>\n",
              "      <th>BPAC11</th>\n",
              "      <td>130.833333</td>\n",
              "      <td>111.793333</td>\n",
              "    </tr>\n",
              "    <tr>\n",
              "      <th>ITUB4</th>\n",
              "      <td>-25.833333</td>\n",
              "      <td>27.848333</td>\n",
              "    </tr>\n",
              "    <tr>\n",
              "      <th>MGLU3</th>\n",
              "      <td>150.000000</td>\n",
              "      <td>20.065000</td>\n",
              "    </tr>\n",
              "    <tr>\n",
              "      <th>PETR4</th>\n",
              "      <td>-49.166667</td>\n",
              "      <td>25.125000</td>\n",
              "    </tr>\n",
              "    <tr>\n",
              "      <th>SANB11</th>\n",
              "      <td>157.500000</td>\n",
              "      <td>39.800000</td>\n",
              "    </tr>\n",
              "  </tbody>\n",
              "</table>\n",
              "</div>"
            ],
            "text/plain": [
              "            Amount       Price\n",
              "Stock                         \n",
              "BBDC3   239.166667   21.241667\n",
              "BPAC11  130.833333  111.793333\n",
              "ITUB4   -25.833333   27.848333\n",
              "MGLU3   150.000000   20.065000\n",
              "PETR4   -49.166667   25.125000\n",
              "SANB11  157.500000   39.800000"
            ]
          },
          "metadata": {
            "tags": []
          }
        },
        {
          "output_type": "display_data",
          "data": {
            "application/vnd.google.colaboratory.intrinsic+json": {
              "type": "string"
            },
            "text/plain": [
              "'Client - 1917'"
            ]
          },
          "metadata": {
            "tags": []
          }
        },
        {
          "output_type": "display_data",
          "data": {
            "text/html": [
              "<div>\n",
              "<style scoped>\n",
              "    .dataframe tbody tr th:only-of-type {\n",
              "        vertical-align: middle;\n",
              "    }\n",
              "\n",
              "    .dataframe tbody tr th {\n",
              "        vertical-align: top;\n",
              "    }\n",
              "\n",
              "    .dataframe thead th {\n",
              "        text-align: right;\n",
              "    }\n",
              "</style>\n",
              "<table border=\"1\" class=\"dataframe\">\n",
              "  <thead>\n",
              "    <tr style=\"text-align: right;\">\n",
              "      <th></th>\n",
              "      <th>Amount</th>\n",
              "      <th>Price</th>\n",
              "    </tr>\n",
              "    <tr>\n",
              "      <th>Stock</th>\n",
              "      <th></th>\n",
              "      <th></th>\n",
              "    </tr>\n",
              "  </thead>\n",
              "  <tbody>\n",
              "    <tr>\n",
              "      <th>BBDC3</th>\n",
              "      <td>29.166667</td>\n",
              "      <td>20.718333</td>\n",
              "    </tr>\n",
              "    <tr>\n",
              "      <th>BPAC11</th>\n",
              "      <td>30.833333</td>\n",
              "      <td>111.610000</td>\n",
              "    </tr>\n",
              "    <tr>\n",
              "      <th>ITUB4</th>\n",
              "      <td>-65.833333</td>\n",
              "      <td>28.091667</td>\n",
              "    </tr>\n",
              "    <tr>\n",
              "      <th>MGLU3</th>\n",
              "      <td>-130.000000</td>\n",
              "      <td>20.341667</td>\n",
              "    </tr>\n",
              "    <tr>\n",
              "      <th>PETR4</th>\n",
              "      <td>135.833333</td>\n",
              "      <td>25.231667</td>\n",
              "    </tr>\n",
              "    <tr>\n",
              "      <th>SANB11</th>\n",
              "      <td>-27.500000</td>\n",
              "      <td>39.976667</td>\n",
              "    </tr>\n",
              "  </tbody>\n",
              "</table>\n",
              "</div>"
            ],
            "text/plain": [
              "            Amount       Price\n",
              "Stock                         \n",
              "BBDC3    29.166667   20.718333\n",
              "BPAC11   30.833333  111.610000\n",
              "ITUB4   -65.833333   28.091667\n",
              "MGLU3  -130.000000   20.341667\n",
              "PETR4   135.833333   25.231667\n",
              "SANB11  -27.500000   39.976667"
            ]
          },
          "metadata": {
            "tags": []
          }
        },
        {
          "output_type": "display_data",
          "data": {
            "application/vnd.google.colaboratory.intrinsic+json": {
              "type": "string"
            },
            "text/plain": [
              "'Client - 1150'"
            ]
          },
          "metadata": {
            "tags": []
          }
        },
        {
          "output_type": "display_data",
          "data": {
            "text/html": [
              "<div>\n",
              "<style scoped>\n",
              "    .dataframe tbody tr th:only-of-type {\n",
              "        vertical-align: middle;\n",
              "    }\n",
              "\n",
              "    .dataframe tbody tr th {\n",
              "        vertical-align: top;\n",
              "    }\n",
              "\n",
              "    .dataframe thead th {\n",
              "        text-align: right;\n",
              "    }\n",
              "</style>\n",
              "<table border=\"1\" class=\"dataframe\">\n",
              "  <thead>\n",
              "    <tr style=\"text-align: right;\">\n",
              "      <th></th>\n",
              "      <th>Amount</th>\n",
              "      <th>Price</th>\n",
              "    </tr>\n",
              "    <tr>\n",
              "      <th>Stock</th>\n",
              "      <th></th>\n",
              "      <th></th>\n",
              "    </tr>\n",
              "  </thead>\n",
              "  <tbody>\n",
              "    <tr>\n",
              "      <th>BBDC3</th>\n",
              "      <td>44.166667</td>\n",
              "      <td>21.248333</td>\n",
              "    </tr>\n",
              "    <tr>\n",
              "      <th>BPAC11</th>\n",
              "      <td>40.833333</td>\n",
              "      <td>112.050000</td>\n",
              "    </tr>\n",
              "    <tr>\n",
              "      <th>ITUB4</th>\n",
              "      <td>14.166667</td>\n",
              "      <td>28.081667</td>\n",
              "    </tr>\n",
              "    <tr>\n",
              "      <th>MGLU3</th>\n",
              "      <td>40.000000</td>\n",
              "      <td>20.178333</td>\n",
              "    </tr>\n",
              "    <tr>\n",
              "      <th>PETR4</th>\n",
              "      <td>25.833333</td>\n",
              "      <td>25.165000</td>\n",
              "    </tr>\n",
              "    <tr>\n",
              "      <th>SANB11</th>\n",
              "      <td>182.500000</td>\n",
              "      <td>40.310000</td>\n",
              "    </tr>\n",
              "  </tbody>\n",
              "</table>\n",
              "</div>"
            ],
            "text/plain": [
              "            Amount       Price\n",
              "Stock                         \n",
              "BBDC3    44.166667   21.248333\n",
              "BPAC11   40.833333  112.050000\n",
              "ITUB4    14.166667   28.081667\n",
              "MGLU3    40.000000   20.178333\n",
              "PETR4    25.833333   25.165000\n",
              "SANB11  182.500000   40.310000"
            ]
          },
          "metadata": {
            "tags": []
          }
        },
        {
          "output_type": "display_data",
          "data": {
            "application/vnd.google.colaboratory.intrinsic+json": {
              "type": "string"
            },
            "text/plain": [
              "'Client - 3018'"
            ]
          },
          "metadata": {
            "tags": []
          }
        },
        {
          "output_type": "display_data",
          "data": {
            "text/html": [
              "<div>\n",
              "<style scoped>\n",
              "    .dataframe tbody tr th:only-of-type {\n",
              "        vertical-align: middle;\n",
              "    }\n",
              "\n",
              "    .dataframe tbody tr th {\n",
              "        vertical-align: top;\n",
              "    }\n",
              "\n",
              "    .dataframe thead th {\n",
              "        text-align: right;\n",
              "    }\n",
              "</style>\n",
              "<table border=\"1\" class=\"dataframe\">\n",
              "  <thead>\n",
              "    <tr style=\"text-align: right;\">\n",
              "      <th></th>\n",
              "      <th>Amount</th>\n",
              "      <th>Price</th>\n",
              "    </tr>\n",
              "    <tr>\n",
              "      <th>Stock</th>\n",
              "      <th></th>\n",
              "      <th></th>\n",
              "    </tr>\n",
              "  </thead>\n",
              "  <tbody>\n",
              "    <tr>\n",
              "      <th>BBDC3</th>\n",
              "      <td>-25.833333</td>\n",
              "      <td>21.125000</td>\n",
              "    </tr>\n",
              "    <tr>\n",
              "      <th>BPAC11</th>\n",
              "      <td>5.833333</td>\n",
              "      <td>111.996667</td>\n",
              "    </tr>\n",
              "    <tr>\n",
              "      <th>ITUB4</th>\n",
              "      <td>99.166667</td>\n",
              "      <td>27.925000</td>\n",
              "    </tr>\n",
              "    <tr>\n",
              "      <th>MGLU3</th>\n",
              "      <td>-65.000000</td>\n",
              "      <td>19.785000</td>\n",
              "    </tr>\n",
              "    <tr>\n",
              "      <th>PETR4</th>\n",
              "      <td>-94.166667</td>\n",
              "      <td>25.298333</td>\n",
              "    </tr>\n",
              "    <tr>\n",
              "      <th>SANB11</th>\n",
              "      <td>17.500000</td>\n",
              "      <td>39.993333</td>\n",
              "    </tr>\n",
              "  </tbody>\n",
              "</table>\n",
              "</div>"
            ],
            "text/plain": [
              "           Amount       Price\n",
              "Stock                        \n",
              "BBDC3  -25.833333   21.125000\n",
              "BPAC11   5.833333  111.996667\n",
              "ITUB4   99.166667   27.925000\n",
              "MGLU3  -65.000000   19.785000\n",
              "PETR4  -94.166667   25.298333\n",
              "SANB11  17.500000   39.993333"
            ]
          },
          "metadata": {
            "tags": []
          }
        }
      ]
    },
    {
      "cell_type": "markdown",
      "metadata": {
        "id": "WJApCwqnrfj0"
      },
      "source": [
        "# **Desafio Adicional**\n",
        "\n",
        "Desafio adicional:\n",
        "Uma carteira já possui posições prévias, então a macro deve ser capaz de calcular o novo preço médio considerando as posições já detidas pelo cliente.\n",
        "Se o cliente por acaso zerar uma posição que tenha na carteira, exclua a linha deste ativo.\n"
      ]
    },
    {
      "cell_type": "code",
      "metadata": {
        "colab": {
          "base_uri": "https://localhost:8080/",
          "height": 235
        },
        "id": "4mm_h6T0rnOA",
        "outputId": "e4224c8c-f73d-4c5e-8160-eea273246073"
      },
      "source": [
        "#Carregando o arquivo da carteira prévia\n",
        "arquivo_excel_2 = pd.ExcelFile(\"/content/drive/MyDrive/Portfólio/Case da MZR/Desafio VBA.xlsx\") #Carrego o excel\n",
        "\n",
        "Cliente = pd.read_excel(arquivo_excel_2, sheet_name='Client - 1150', header=3)# index_col= 'Date & Time' # coloco em um DataFrame as abas desejadas\n",
        "cliente_1150 = Cliente.copy()\n",
        "cliente_1150.drop(columns='Unnamed: 0', inplace= True)\n",
        "cliente_1150"
      ],
      "execution_count": 21,
      "outputs": [
        {
          "output_type": "execute_result",
          "data": {
            "text/html": [
              "<div>\n",
              "<style scoped>\n",
              "    .dataframe tbody tr th:only-of-type {\n",
              "        vertical-align: middle;\n",
              "    }\n",
              "\n",
              "    .dataframe tbody tr th {\n",
              "        vertical-align: top;\n",
              "    }\n",
              "\n",
              "    .dataframe thead th {\n",
              "        text-align: right;\n",
              "    }\n",
              "</style>\n",
              "<table border=\"1\" class=\"dataframe\">\n",
              "  <thead>\n",
              "    <tr style=\"text-align: right;\">\n",
              "      <th></th>\n",
              "      <th>Ticker</th>\n",
              "      <th>Amount</th>\n",
              "      <th>Price</th>\n",
              "      <th>Sector</th>\n",
              "    </tr>\n",
              "  </thead>\n",
              "  <tbody>\n",
              "    <tr>\n",
              "      <th>0</th>\n",
              "      <td>BBDC3</td>\n",
              "      <td>20</td>\n",
              "      <td>20.82</td>\n",
              "      <td>Banking</td>\n",
              "    </tr>\n",
              "    <tr>\n",
              "      <th>1</th>\n",
              "      <td>PETR4</td>\n",
              "      <td>10</td>\n",
              "      <td>25.19</td>\n",
              "      <td>Oil and Gas</td>\n",
              "    </tr>\n",
              "    <tr>\n",
              "      <th>2</th>\n",
              "      <td>SANB11</td>\n",
              "      <td>5</td>\n",
              "      <td>38.91</td>\n",
              "      <td>Banking</td>\n",
              "    </tr>\n",
              "    <tr>\n",
              "      <th>3</th>\n",
              "      <td>MGLU3</td>\n",
              "      <td>5</td>\n",
              "      <td>18.48</td>\n",
              "      <td>Retail</td>\n",
              "    </tr>\n",
              "    <tr>\n",
              "      <th>4</th>\n",
              "      <td>ITUB4</td>\n",
              "      <td>10</td>\n",
              "      <td>28.07</td>\n",
              "      <td>Banking</td>\n",
              "    </tr>\n",
              "    <tr>\n",
              "      <th>5</th>\n",
              "      <td>BPAC11</td>\n",
              "      <td>5</td>\n",
              "      <td>110.50</td>\n",
              "      <td>Banking</td>\n",
              "    </tr>\n",
              "  </tbody>\n",
              "</table>\n",
              "</div>"
            ],
            "text/plain": [
              "   Ticker  Amount   Price       Sector\n",
              "0   BBDC3      20   20.82      Banking\n",
              "1   PETR4      10   25.19  Oil and Gas\n",
              "2  SANB11       5   38.91      Banking\n",
              "3   MGLU3       5   18.48       Retail\n",
              "4   ITUB4      10   28.07      Banking\n",
              "5  BPAC11       5  110.50      Banking"
            ]
          },
          "metadata": {
            "tags": []
          },
          "execution_count": 21
        }
      ]
    },
    {
      "cell_type": "code",
      "metadata": {
        "id": "nFYZ3NYOI85U"
      },
      "source": [
        "#separando os setores para juntá-los no final\n",
        "# setores = dict(zip(ações,setor))\n",
        "setores = {\"BBDC3\":\"Banking\",'PETR4':'Oil and Gas','SANB11':'Banking','MGLU3':'Retail','ITUB4':'Banking', 'BPAC11':'Banking' }\n",
        "#setores"
      ],
      "execution_count": 22,
      "outputs": []
    },
    {
      "cell_type": "code",
      "metadata": {
        "colab": {
          "base_uri": "https://localhost:8080/",
          "height": 419
        },
        "id": "7DW1bCMPtjCe",
        "outputId": "da49bf97-e46f-4644-fcbc-c1bdc66e52c4"
      },
      "source": [
        "#carregando o arquivo com todas as negociações do cliente do arquivo desafio\n",
        "\n",
        "cliente_1150_2 = desafio[desafio.Client == 1150][['Stock','Amount','Price']] #escolho somente as 3 colunas para juntar com os dados da carteira\n",
        "cliente_1150_2"
      ],
      "execution_count": 23,
      "outputs": [
        {
          "output_type": "execute_result",
          "data": {
            "text/html": [
              "<div>\n",
              "<style scoped>\n",
              "    .dataframe tbody tr th:only-of-type {\n",
              "        vertical-align: middle;\n",
              "    }\n",
              "\n",
              "    .dataframe tbody tr th {\n",
              "        vertical-align: top;\n",
              "    }\n",
              "\n",
              "    .dataframe thead th {\n",
              "        text-align: right;\n",
              "    }\n",
              "</style>\n",
              "<table border=\"1\" class=\"dataframe\">\n",
              "  <thead>\n",
              "    <tr style=\"text-align: right;\">\n",
              "      <th></th>\n",
              "      <th>Stock</th>\n",
              "      <th>Amount</th>\n",
              "      <th>Price</th>\n",
              "    </tr>\n",
              "  </thead>\n",
              "  <tbody>\n",
              "    <tr>\n",
              "      <th>11</th>\n",
              "      <td>SANB11</td>\n",
              "      <td>-5</td>\n",
              "      <td>-40.24</td>\n",
              "    </tr>\n",
              "    <tr>\n",
              "      <th>13</th>\n",
              "      <td>BPAC11</td>\n",
              "      <td>-10</td>\n",
              "      <td>-110.50</td>\n",
              "    </tr>\n",
              "    <tr>\n",
              "      <th>14</th>\n",
              "      <td>ITUB4</td>\n",
              "      <td>-5</td>\n",
              "      <td>-27.33</td>\n",
              "    </tr>\n",
              "    <tr>\n",
              "      <th>19</th>\n",
              "      <td>PETR4</td>\n",
              "      <td>15</td>\n",
              "      <td>24.45</td>\n",
              "    </tr>\n",
              "    <tr>\n",
              "      <th>24</th>\n",
              "      <td>BBDC3</td>\n",
              "      <td>-25</td>\n",
              "      <td>-22.32</td>\n",
              "    </tr>\n",
              "    <tr>\n",
              "      <th>...</th>\n",
              "      <td>...</td>\n",
              "      <td>...</td>\n",
              "      <td>...</td>\n",
              "    </tr>\n",
              "    <tr>\n",
              "      <th>971</th>\n",
              "      <td>BPAC11</td>\n",
              "      <td>-20</td>\n",
              "      <td>-112.29</td>\n",
              "    </tr>\n",
              "    <tr>\n",
              "      <th>974</th>\n",
              "      <td>PETR4</td>\n",
              "      <td>5</td>\n",
              "      <td>26.65</td>\n",
              "    </tr>\n",
              "    <tr>\n",
              "      <th>976</th>\n",
              "      <td>PETR4</td>\n",
              "      <td>-10</td>\n",
              "      <td>-23.05</td>\n",
              "    </tr>\n",
              "    <tr>\n",
              "      <th>984</th>\n",
              "      <td>BPAC11</td>\n",
              "      <td>15</td>\n",
              "      <td>112.08</td>\n",
              "    </tr>\n",
              "    <tr>\n",
              "      <th>996</th>\n",
              "      <td>SANB11</td>\n",
              "      <td>-20</td>\n",
              "      <td>-41.16</td>\n",
              "    </tr>\n",
              "  </tbody>\n",
              "</table>\n",
              "<p>150 rows × 3 columns</p>\n",
              "</div>"
            ],
            "text/plain": [
              "      Stock  Amount   Price\n",
              "11   SANB11      -5  -40.24\n",
              "13   BPAC11     -10 -110.50\n",
              "14    ITUB4      -5  -27.33\n",
              "19    PETR4      15   24.45\n",
              "24    BBDC3     -25  -22.32\n",
              "..      ...     ...     ...\n",
              "971  BPAC11     -20 -112.29\n",
              "974   PETR4       5   26.65\n",
              "976   PETR4     -10  -23.05\n",
              "984  BPAC11      15  112.08\n",
              "996  SANB11     -20  -41.16\n",
              "\n",
              "[150 rows x 3 columns]"
            ]
          },
          "metadata": {
            "tags": []
          },
          "execution_count": 23
        }
      ]
    },
    {
      "cell_type": "code",
      "metadata": {
        "colab": {
          "base_uri": "https://localhost:8080/",
          "height": 419
        },
        "id": "xuebxpk3wk4Q",
        "outputId": "bb68485f-0792-4a13-9067-897b62159368"
      },
      "source": [
        "#renomeando a coluna stock para poder juntar as duas tabelas\n",
        "cliente_1150_2.rename(columns={'Stock':'Ticker'}, inplace=True)\n",
        "\n",
        "#juntando as tabelas\n",
        "cliente_1150_posições = pd.concat([cliente_1150_2,cliente_1150], axis=0)\n",
        "\n",
        "#excluindo a coluna Setor, mas não é obrigatório\n",
        "cliente_1150_posições.drop(columns=['Sector'], inplace=True)\n",
        "                                  \n",
        "cliente_1150_posições"
      ],
      "execution_count": 24,
      "outputs": [
        {
          "output_type": "execute_result",
          "data": {
            "text/html": [
              "<div>\n",
              "<style scoped>\n",
              "    .dataframe tbody tr th:only-of-type {\n",
              "        vertical-align: middle;\n",
              "    }\n",
              "\n",
              "    .dataframe tbody tr th {\n",
              "        vertical-align: top;\n",
              "    }\n",
              "\n",
              "    .dataframe thead th {\n",
              "        text-align: right;\n",
              "    }\n",
              "</style>\n",
              "<table border=\"1\" class=\"dataframe\">\n",
              "  <thead>\n",
              "    <tr style=\"text-align: right;\">\n",
              "      <th></th>\n",
              "      <th>Ticker</th>\n",
              "      <th>Amount</th>\n",
              "      <th>Price</th>\n",
              "    </tr>\n",
              "  </thead>\n",
              "  <tbody>\n",
              "    <tr>\n",
              "      <th>11</th>\n",
              "      <td>SANB11</td>\n",
              "      <td>-5</td>\n",
              "      <td>-40.24</td>\n",
              "    </tr>\n",
              "    <tr>\n",
              "      <th>13</th>\n",
              "      <td>BPAC11</td>\n",
              "      <td>-10</td>\n",
              "      <td>-110.50</td>\n",
              "    </tr>\n",
              "    <tr>\n",
              "      <th>14</th>\n",
              "      <td>ITUB4</td>\n",
              "      <td>-5</td>\n",
              "      <td>-27.33</td>\n",
              "    </tr>\n",
              "    <tr>\n",
              "      <th>19</th>\n",
              "      <td>PETR4</td>\n",
              "      <td>15</td>\n",
              "      <td>24.45</td>\n",
              "    </tr>\n",
              "    <tr>\n",
              "      <th>24</th>\n",
              "      <td>BBDC3</td>\n",
              "      <td>-25</td>\n",
              "      <td>-22.32</td>\n",
              "    </tr>\n",
              "    <tr>\n",
              "      <th>...</th>\n",
              "      <td>...</td>\n",
              "      <td>...</td>\n",
              "      <td>...</td>\n",
              "    </tr>\n",
              "    <tr>\n",
              "      <th>1</th>\n",
              "      <td>PETR4</td>\n",
              "      <td>10</td>\n",
              "      <td>25.19</td>\n",
              "    </tr>\n",
              "    <tr>\n",
              "      <th>2</th>\n",
              "      <td>SANB11</td>\n",
              "      <td>5</td>\n",
              "      <td>38.91</td>\n",
              "    </tr>\n",
              "    <tr>\n",
              "      <th>3</th>\n",
              "      <td>MGLU3</td>\n",
              "      <td>5</td>\n",
              "      <td>18.48</td>\n",
              "    </tr>\n",
              "    <tr>\n",
              "      <th>4</th>\n",
              "      <td>ITUB4</td>\n",
              "      <td>10</td>\n",
              "      <td>28.07</td>\n",
              "    </tr>\n",
              "    <tr>\n",
              "      <th>5</th>\n",
              "      <td>BPAC11</td>\n",
              "      <td>5</td>\n",
              "      <td>110.50</td>\n",
              "    </tr>\n",
              "  </tbody>\n",
              "</table>\n",
              "<p>156 rows × 3 columns</p>\n",
              "</div>"
            ],
            "text/plain": [
              "    Ticker  Amount   Price\n",
              "11  SANB11      -5  -40.24\n",
              "13  BPAC11     -10 -110.50\n",
              "14   ITUB4      -5  -27.33\n",
              "19   PETR4      15   24.45\n",
              "24   BBDC3     -25  -22.32\n",
              "..     ...     ...     ...\n",
              "1    PETR4      10   25.19\n",
              "2   SANB11       5   38.91\n",
              "3    MGLU3       5   18.48\n",
              "4    ITUB4      10   28.07\n",
              "5   BPAC11       5  110.50\n",
              "\n",
              "[156 rows x 3 columns]"
            ]
          },
          "metadata": {
            "tags": []
          },
          "execution_count": 24
        }
      ]
    },
    {
      "cell_type": "code",
      "metadata": {
        "colab": {
          "base_uri": "https://localhost:8080/"
        },
        "id": "2Y-XwESA55Vd",
        "outputId": "8b534cfe-56ac-46d8-9aaf-4cc24563df5e"
      },
      "source": [
        "#ações presentes na carteira\n",
        "stock_client = list(cliente_1150_posições.Ticker.unique())\n",
        "stock_client"
      ],
      "execution_count": 25,
      "outputs": [
        {
          "output_type": "execute_result",
          "data": {
            "text/plain": [
              "['SANB11', 'BPAC11', 'ITUB4', 'PETR4', 'BBDC3', 'MGLU3']"
            ]
          },
          "metadata": {
            "tags": []
          },
          "execution_count": 25
        }
      ]
    },
    {
      "cell_type": "code",
      "metadata": {
        "id": "kVdnIwMSxE0q",
        "colab": {
          "base_uri": "https://localhost:8080/",
          "height": 235
        },
        "outputId": "6944a54a-4fad-4bc5-865a-529bb23bdd77"
      },
      "source": [
        "neg_client = pd.DataFrame(columns=['Ticker','Amount','Price'])  \n",
        "mesa_fracionada = posição_mesa.copy()\n",
        "mesa_fracionada['Amount'] = mesa_fracionada['Amount']/ len(clientes) \n",
        "\n",
        "#ações compradas\n",
        "a_compr = cliente_1150_posições[cliente_1150_posições.Amount > 0]\n",
        "\n",
        "for x in stock_client:\n",
        "    acoes_x = a_compr.loc[a_compr.Ticker == x]\n",
        "    negociadas = acoes_x['Amount'].sum()\n",
        "    preco_medio = (np.average(acoes_x.Price,weights=acoes_x.Amount)).round(2)  #media ponderada arredondando para 2 casas decimais   \n",
        "    neg_client = neg_client.append({\"Ticker\":x,\"Amount\":negociadas,'Price':preco_medio}, ignore_index=True)\n",
        "\n",
        "#ações vendidas\n",
        "a_vend = cliente_1150_posições[cliente_1150_posições.Amount < 0]\n",
        "\n",
        "for x in stock_client:\n",
        "    acoes_x = a_vend.loc[a_vend.Ticker == x]\n",
        "    negociadas = acoes_x['Amount'].sum()\n",
        "    preco_medio = (np.average(acoes_x.Price,weights=acoes_x.Amount)).round(2)  #media ponderada arredondando para 2 casas decimais)\n",
        "    neg_client = neg_client.append({\"Ticker\":x,\"Amount\":negociadas,'Price':preco_medio}, ignore_index=True)\n",
        "\n",
        "mesa_fracionada.reset_index(inplace=True)\n",
        "mesa_fracionada.rename(columns={'Stock':'Ticker'}, inplace=True)\n",
        "neg_client = pd.concat([neg_client,mesa_fracionada], axis=0)\n",
        "\n",
        "# Aqui considerei colocar o preço médio entre as ações vendidas e compradas para calcular o calor final\n",
        "#por isso deixei todos os valores positivos\n",
        "neg_client['Price'] = abs(neg_client.Price)\n",
        "neg_client.sort_values(by='Ticker')\n",
        "\n",
        "# calculando a posição final e média por ação\n",
        "neg_client = neg_client.groupby('Ticker').agg({'Amount':sum, 'Price':'mean'})\n",
        "\n",
        "#Lucro/Prejuízo\n",
        "cliente_1150['Preco inicial'] = cliente_1150.Amount * cliente_1150.Price\n",
        "preco_inicial = cliente_1150[['Ticker','Preco inicial']]\n",
        "\n",
        "neg_client['Preco Final'] = neg_client['Amount'] * neg_client.Price\n",
        "neg_client= pd.merge(neg_client, preco_inicial, how='outer', on='Ticker')\n",
        "neg_client['Lucro/Prejuízo'] = neg_client['Preco Final'] - neg_client['Preco inicial']\n",
        "neg_client.drop(columns=['Preco inicial','Preco Final'],axis=0, inplace=True)\n",
        "\n",
        "#inserindo a coluna sector\n",
        "neg_client['Sector'] = neg_client.Ticker.map(setores)\n",
        "neg_client.sort_values(by='Ticker', inplace=True)\n",
        "\n",
        "#Salvando em arquivo excel\n",
        "#optei por salvar em um diferente mas poderia salvar no mesmo arquivo do tópico antetior \n",
        "posicoes_cliente_1150 = pd.ExcelWriter('posicoes_cliente_1150.xlsx', engine='xlsxwriter') \n",
        "\n",
        "neg_client.to_excel(posicoes_cliente_1150, sheet_name='Client - 1150')\n",
        "\n",
        "posicoes_cliente_1150.save()\n",
        "neg_client"
      ],
      "execution_count": 26,
      "outputs": [
        {
          "output_type": "execute_result",
          "data": {
            "text/html": [
              "<div>\n",
              "<style scoped>\n",
              "    .dataframe tbody tr th:only-of-type {\n",
              "        vertical-align: middle;\n",
              "    }\n",
              "\n",
              "    .dataframe tbody tr th {\n",
              "        vertical-align: top;\n",
              "    }\n",
              "\n",
              "    .dataframe thead th {\n",
              "        text-align: right;\n",
              "    }\n",
              "</style>\n",
              "<table border=\"1\" class=\"dataframe\">\n",
              "  <thead>\n",
              "    <tr style=\"text-align: right;\">\n",
              "      <th></th>\n",
              "      <th>Ticker</th>\n",
              "      <th>Amount</th>\n",
              "      <th>Price</th>\n",
              "      <th>Lucro/Prejuízo</th>\n",
              "      <th>Sector</th>\n",
              "    </tr>\n",
              "  </thead>\n",
              "  <tbody>\n",
              "    <tr>\n",
              "      <th>0</th>\n",
              "      <td>BBDC3</td>\n",
              "      <td>64.166667</td>\n",
              "      <td>21.238333</td>\n",
              "      <td>946.393056</td>\n",
              "      <td>Banking</td>\n",
              "    </tr>\n",
              "    <tr>\n",
              "      <th>1</th>\n",
              "      <td>BPAC11</td>\n",
              "      <td>45.833333</td>\n",
              "      <td>112.033333</td>\n",
              "      <td>4582.361111</td>\n",
              "      <td>Banking</td>\n",
              "    </tr>\n",
              "    <tr>\n",
              "      <th>2</th>\n",
              "      <td>ITUB4</td>\n",
              "      <td>24.166667</td>\n",
              "      <td>28.081667</td>\n",
              "      <td>397.940278</td>\n",
              "      <td>Banking</td>\n",
              "    </tr>\n",
              "    <tr>\n",
              "      <th>3</th>\n",
              "      <td>MGLU3</td>\n",
              "      <td>45.000000</td>\n",
              "      <td>20.161667</td>\n",
              "      <td>814.875000</td>\n",
              "      <td>Retail</td>\n",
              "    </tr>\n",
              "    <tr>\n",
              "      <th>4</th>\n",
              "      <td>PETR4</td>\n",
              "      <td>35.833333</td>\n",
              "      <td>25.161667</td>\n",
              "      <td>649.726389</td>\n",
              "      <td>Oil and Gas</td>\n",
              "    </tr>\n",
              "    <tr>\n",
              "      <th>5</th>\n",
              "      <td>SANB11</td>\n",
              "      <td>187.500000</td>\n",
              "      <td>40.303333</td>\n",
              "      <td>7362.325000</td>\n",
              "      <td>Banking</td>\n",
              "    </tr>\n",
              "  </tbody>\n",
              "</table>\n",
              "</div>"
            ],
            "text/plain": [
              "   Ticker      Amount       Price  Lucro/Prejuízo       Sector\n",
              "0   BBDC3   64.166667   21.238333      946.393056      Banking\n",
              "1  BPAC11   45.833333  112.033333     4582.361111      Banking\n",
              "2   ITUB4   24.166667   28.081667      397.940278      Banking\n",
              "3   MGLU3   45.000000   20.161667      814.875000       Retail\n",
              "4   PETR4   35.833333   25.161667      649.726389  Oil and Gas\n",
              "5  SANB11  187.500000   40.303333     7362.325000      Banking"
            ]
          },
          "metadata": {
            "tags": []
          },
          "execution_count": 26
        }
      ]
    },
    {
      "cell_type": "markdown",
      "metadata": {
        "id": "l0lDc6B52b82"
      },
      "source": [
        "# **Rentabilidade no período por ação**"
      ]
    },
    {
      "cell_type": "code",
      "metadata": {
        "colab": {
          "base_uri": "https://localhost:8080/",
          "height": 204
        },
        "id": "lcQK5Zzr2hCF",
        "outputId": "1471c5d1-bda1-4e8a-fea4-13ad1e2a1740"
      },
      "source": [
        "desafio.head()"
      ],
      "execution_count": 115,
      "outputs": [
        {
          "output_type": "execute_result",
          "data": {
            "text/html": [
              "<div>\n",
              "<style scoped>\n",
              "    .dataframe tbody tr th:only-of-type {\n",
              "        vertical-align: middle;\n",
              "    }\n",
              "\n",
              "    .dataframe tbody tr th {\n",
              "        vertical-align: top;\n",
              "    }\n",
              "\n",
              "    .dataframe thead th {\n",
              "        text-align: right;\n",
              "    }\n",
              "</style>\n",
              "<table border=\"1\" class=\"dataframe\">\n",
              "  <thead>\n",
              "    <tr style=\"text-align: right;\">\n",
              "      <th></th>\n",
              "      <th>Date &amp; Time</th>\n",
              "      <th>Stock</th>\n",
              "      <th>B/S</th>\n",
              "      <th>Amount</th>\n",
              "      <th>Client</th>\n",
              "      <th>Price</th>\n",
              "    </tr>\n",
              "  </thead>\n",
              "  <tbody>\n",
              "    <tr>\n",
              "      <th>0</th>\n",
              "      <td>2021-05-07 13:32:31.350</td>\n",
              "      <td>BBDC3</td>\n",
              "      <td>1</td>\n",
              "      <td>5</td>\n",
              "      <td>1040</td>\n",
              "      <td>20.82</td>\n",
              "    </tr>\n",
              "    <tr>\n",
              "      <th>1</th>\n",
              "      <td>2021-05-07 13:32:32.214</td>\n",
              "      <td>PETR4</td>\n",
              "      <td>-1</td>\n",
              "      <td>-5</td>\n",
              "      <td>1040</td>\n",
              "      <td>-25.19</td>\n",
              "    </tr>\n",
              "    <tr>\n",
              "      <th>2</th>\n",
              "      <td>2021-05-07 13:32:33.078</td>\n",
              "      <td>SANB11</td>\n",
              "      <td>-1</td>\n",
              "      <td>-20</td>\n",
              "      <td>Mesa</td>\n",
              "      <td>-38.91</td>\n",
              "    </tr>\n",
              "    <tr>\n",
              "      <th>3</th>\n",
              "      <td>2021-05-07 13:32:33.942</td>\n",
              "      <td>PETR4</td>\n",
              "      <td>-1</td>\n",
              "      <td>-10</td>\n",
              "      <td>2806</td>\n",
              "      <td>-23.54</td>\n",
              "    </tr>\n",
              "    <tr>\n",
              "      <th>4</th>\n",
              "      <td>2021-05-07 13:32:34.806</td>\n",
              "      <td>BBDC3</td>\n",
              "      <td>1</td>\n",
              "      <td>10</td>\n",
              "      <td>2030</td>\n",
              "      <td>21.11</td>\n",
              "    </tr>\n",
              "  </tbody>\n",
              "</table>\n",
              "</div>"
            ],
            "text/plain": [
              "              Date & Time   Stock  B/S  Amount Client  Price\n",
              "0 2021-05-07 13:32:31.350   BBDC3    1       5   1040  20.82\n",
              "1 2021-05-07 13:32:32.214   PETR4   -1      -5   1040 -25.19\n",
              "2 2021-05-07 13:32:33.078  SANB11   -1     -20   Mesa -38.91\n",
              "3 2021-05-07 13:32:33.942   PETR4   -1     -10   2806 -23.54\n",
              "4 2021-05-07 13:32:34.806   BBDC3    1      10   2030  21.11"
            ]
          },
          "metadata": {
            "tags": []
          },
          "execution_count": 115
        }
      ]
    },
    {
      "cell_type": "code",
      "metadata": {
        "id": "L9fXS3tg21ZA"
      },
      "source": [
        "all_stock = list(desafio.Stock.unique())"
      ],
      "execution_count": 116,
      "outputs": []
    },
    {
      "cell_type": "code",
      "metadata": {
        "colab": {
          "base_uri": "https://localhost:8080/",
          "height": 543
        },
        "id": "ukBe1kQK4MrI",
        "outputId": "e30fb10e-1cdb-4204-826b-530fe30497d7"
      },
      "source": [
        "\n",
        "fig, eixo = plt.subplots(2,3, sharex=False, sharey=True, figsize=(25,10))\n",
        "a =0 \n",
        "for i in range(0,2):\n",
        "  for j in range(0,3):\n",
        "\n",
        "    x = all_stock[a]  \n",
        "\n",
        "    rentabilidade = desafio[desafio.Stock == x][['Date & Time','Amount','Price']]\n",
        "    rentabilidade['Price'] = abs(rentabilidade.Price)\n",
        "    rentabilidade = rentabilidade.groupby('Date & Time').agg({'Amount':sum,\n",
        "                                                              'Price':'mean'})\n",
        "    rentabilidade.reset_index()\n",
        "\n",
        "    \n",
        "    \n",
        "    rentabilidade.sort_values(by='Date & Time')\n",
        "    rentabilidade['Rentabilidade'] = rentabilidade['Price']/ rentabilidade.Price.shift() * 100 -100\n",
        "    \n",
        "    sns.lineplot(x='Date & Time', y='Rentabilidade', data=rentabilidade, ax=eixo[i,j], color='black')\n",
        "    eixo[i,j].set_title(x)\n",
        "\n",
        "    a += 1\n",
        "      \n",
        "\n",
        "    \n",
        "\n",
        "fig.text(0.5,0.04,'Variação da rentabilidade das ações na carteira no período', ha='center', fontsize=20)\n",
        "fig.text(0.04, 0.5, 'Valor em R$', va='center', rotation='vertical')"
      ],
      "execution_count": 132,
      "outputs": [
        {
          "output_type": "execute_result",
          "data": {
            "text/plain": [
              "Text(0.04, 0.5, 'Valor em R$')"
            ]
          },
          "metadata": {
            "tags": []
          },
          "execution_count": 132
        },
        {
          "output_type": "display_data",
          "data": {
            "image/png": "[encoded data removed]",
            "text/plain": [
              "<Figure size 1800x720 with 6 Axes>"
            ]
          },
          "metadata": {
            "tags": [],
            "needs_background": "light"
          }
        }
      ]
    },
    {
      "cell_type": "code",
      "metadata": {
        "id": "KqbVfbsaF6eS"
      },
      "source": [
        "import plotly.graph_objs as go # o gráfico é intereativo dessa biblioteca\n"
      ],
      "execution_count": 133,
      "outputs": []
    },
    {
      "cell_type": "code",
      "metadata": {
        "id": "bpl_lX_HKyTy"
      },
      "source": [
        "#último valor gravado em rentabilidade foi da ação BPAC11\n",
        "def plot_lines(rentabilidade, columns=['Rentabilidade']):\n",
        "\n",
        "  fig = go.Figure()\n",
        "  for c in columns:\n",
        "    fig.add_trace(go.Scatter(x=list(rentabilidade.index),\n",
        "                             y = rentabilidade[c],\n",
        "                             mode = 'markers+lines',\n",
        "                             name=c))\n",
        "  return fig"
      ],
      "execution_count": 134,
      "outputs": []
    },
    {
      "cell_type": "code",
      "metadata": {
        "colab": {
          "base_uri": "https://localhost:8080/",
          "height": 542
        },
        "id": "_Zmuc9fnLGAe",
        "outputId": "df9a13ce-2bcb-4035-aa56-f15d5e1f2be2"
      },
      "source": [
        "plot_lines(rentabilidade)"
      ],
      "execution_count": 135,
      "outputs": [
        {
          "output_type": "display_data",
          "data": {
            "text/html": [
              "<html>\n",
              "<head><meta charset=\"utf-8\" /></head>\n",
              "<body>\n",
              "    <div>\n",
              "            <script src=\"https://cdnjs.cloudflare.com/ajax/libs/mathjax/2.7.5/MathJax.js?config=TeX-AMS-MML_SVG\"></script><script type=\"text/javascript\">if (window.MathJax) {MathJax.Hub.Config({SVG: {font: \"STIX-Web\"}});}</script>\n",
              "                <script type=\"text/javascript\">window.PlotlyConfig = {MathJaxConfig: 'local'};</script>\n",
              "        <script src=\"https://cdn.plot.ly/plotly-latest.min.js\"></script>    \n",
              "            <div id=\"867b4522-90a0-417f-84db-d2e7e14b7d2a\" class=\"plotly-graph-div\" style=\"height:525px; width:100%;\"></div>\n",
              "            <script type=\"text/javascript\">\n",
              "                \n",
              "                    window.PLOTLYENV=window.PLOTLYENV || {};\n",
              "                    \n",
              "                if (document.getElementById(\"867b4522-90a0-417f-84db-d2e7e14b7d2a\")) {\n",
              "                    Plotly.newPlot(\n",
              "                        '867b4522-90a0-417f-84db-d2e7e14b7d2a',\n",
              "                        [{\"mode\": \"markers+lines\", \"name\": \"Rentabilidade\", \"type\": \"scatter\", \"x\": [\"2021-05-07T13:32:42.582000\", \"2021-05-07T13:32:46.902000\", \"2021-05-07T13:32:48.630000\", \"2021-05-07T13:32:52.950000\", \"2021-05-07T13:32:54.678000\", \"2021-05-07T13:32:55.542000\", \"2021-05-07T13:33:01.590000\", \"2021-05-07T13:33:02.454000\", \"2021-05-07T13:33:08.502000\", \"2021-05-07T13:33:18.870000\", \"2021-05-07T13:33:24.918000\", \"2021-05-07T13:33:32.694000\", \"2021-05-07T13:33:34.422000\", \"2021-05-07T13:33:36.150000\", \"2021-05-07T13:34:02.934000\", \"2021-05-07T13:34:14.166000\", \"2021-05-07T13:34:17.622000\", \"2021-05-07T13:34:19.350000\", \"2021-05-07T13:34:29.718000\", \"2021-05-07T13:34:34.038000\", \"2021-05-07T13:34:36.630000\", \"2021-05-07T13:34:37.494000\", \"2021-05-07T13:34:43.542000\", \"2021-05-07T13:34:51.318000\", \"2021-05-07T13:34:53.046000\", \"2021-05-07T13:34:53.910000\", \"2021-05-07T13:34:56.502000\", \"2021-05-07T13:34:59.094000\", \"2021-05-07T13:35:03.414000\", \"2021-05-07T13:35:06.006000\", \"2021-05-07T13:35:15.510000\", \"2021-05-07T13:35:21.558000\", \"2021-05-07T13:35:25.878000\", \"2021-05-07T13:35:28.470000\", \"2021-05-07T13:35:38.838000\", \"2021-05-07T13:35:45.750000\", \"2021-05-07T13:35:50.934000\", \"2021-05-07T13:36:01.302000\", \"2021-05-07T13:36:03.030000\", \"2021-05-07T13:36:05.622000\", \"2021-05-07T13:36:14.262000\", \"2021-05-07T13:36:21.174000\", \"2021-05-07T13:36:23.766000\", \"2021-05-07T13:36:26.358000\", \"2021-05-07T13:36:37.590000\", \"2021-05-07T13:36:41.046000\", \"2021-05-07T13:36:47.094000\", \"2021-05-07T13:36:48.822000\", \"2021-05-07T13:36:50.550000\", \"2021-05-07T13:36:54.006000\", \"2021-05-07T13:36:55.734000\", \"2021-05-07T13:37:00.918000\", \"2021-05-07T13:37:01.782000\", \"2021-05-07T13:37:27.702000\", \"2021-05-07T13:37:32.022000\", \"2021-05-07T13:37:45.846000\", \"2021-05-07T13:37:47.574000\", \"2021-05-07T13:37:54.486000\", \"2021-05-07T13:37:57.078000\", \"2021-05-07T13:37:58.806000\", \"2021-05-07T13:38:03.126000\", \"2021-05-07T13:38:09.174000\", \"2021-05-07T13:38:10.038000\", \"2021-05-07T13:38:16.950000\", \"2021-05-07T13:38:18.678000\", \"2021-05-07T13:38:22.998000\", \"2021-05-07T13:38:26.454000\", \"2021-05-07T13:38:27.318000\", \"2021-05-07T13:38:29.910000\", \"2021-05-07T13:38:34.230000\", \"2021-05-07T13:38:36.822000\", \"2021-05-07T13:38:43.734000\", \"2021-05-07T13:38:47.190000\", \"2021-05-07T13:39:07.062000\", \"2021-05-07T13:39:09.654000\", \"2021-05-07T13:39:25.206000\", \"2021-05-07T13:39:26.934000\", \"2021-05-07T13:39:27.798000\", \"2021-05-07T13:39:31.254000\", \"2021-05-07T13:39:32.118000\", \"2021-05-07T13:39:32.982000\", \"2021-05-07T13:39:35.574000\", \"2021-05-07T13:39:36.438000\", \"2021-05-07T13:39:45.942000\", \"2021-05-07T13:39:48.534000\", \"2021-05-07T13:39:53.718000\", \"2021-05-07T13:39:54.582000\", \"2021-05-07T13:40:15.318000\", \"2021-05-07T13:40:17.046000\", \"2021-05-07T13:40:20.502000\", \"2021-05-07T13:40:21.366000\", \"2021-05-07T13:40:31.734000\", \"2021-05-07T13:40:32.598000\", \"2021-05-07T13:40:35.190000\", \"2021-05-07T13:40:49.878000\", \"2021-05-07T13:40:58.518000\", \"2021-05-07T13:41:02.838000\", \"2021-05-07T13:41:08.022000\", \"2021-05-07T13:41:09.750000\", \"2021-05-07T13:41:14.934000\", \"2021-05-07T13:41:20.118000\", \"2021-05-07T13:41:31.350000\", \"2021-05-07T13:41:39.126000\", \"2021-05-07T13:41:46.902000\", \"2021-05-07T13:41:49.494000\", \"2021-05-07T13:42:00.726000\", \"2021-05-07T13:42:04.182000\", \"2021-05-07T13:42:15.414000\", \"2021-05-07T13:42:17.142000\", \"2021-05-07T13:42:27.510000\", \"2021-05-07T13:42:32.694000\", \"2021-05-07T13:42:40.470000\", \"2021-05-07T13:42:43.926000\", \"2021-05-07T13:42:49.974000\", \"2021-05-07T13:43:05.526000\", \"2021-05-07T13:43:08.118000\", \"2021-05-07T13:43:08.982000\", \"2021-05-07T13:43:21.942000\", \"2021-05-07T13:43:23.670000\", \"2021-05-07T13:43:24.534000\", \"2021-05-07T13:43:25.398000\", \"2021-05-07T13:43:35.766000\", \"2021-05-07T13:43:38.358000\", \"2021-05-07T13:43:49.590000\", \"2021-05-07T13:43:53.910000\", \"2021-05-07T13:44:02.550000\", \"2021-05-07T13:44:03.414000\", \"2021-05-07T13:44:06.006000\", \"2021-05-07T13:44:08.598000\", \"2021-05-07T13:44:21.558000\", \"2021-05-07T13:44:30.198000\", \"2021-05-07T13:44:31.926000\", \"2021-05-07T13:44:40.566000\", \"2021-05-07T13:44:44.022000\", \"2021-05-07T13:44:47.478000\", \"2021-05-07T13:44:56.982000\", \"2021-05-07T13:44:57.846000\", \"2021-05-07T13:45:00.438000\", \"2021-05-07T13:45:03.030000\", \"2021-05-07T13:45:06.486000\", \"2021-05-07T13:45:13.398000\", \"2021-05-07T13:45:22.038000\", \"2021-05-07T13:45:23.766000\", \"2021-05-07T13:45:38.454000\", \"2021-05-07T13:45:52.278000\", \"2021-05-07T13:45:55.734000\", \"2021-05-07T13:46:13.014000\", \"2021-05-07T13:46:19.062000\", \"2021-05-07T13:46:21.654000\", \"2021-05-07T13:46:22.518000\", \"2021-05-07T13:46:30.294000\", \"2021-05-07T13:46:39.798000\", \"2021-05-07T13:46:41.526000\", \"2021-05-07T13:46:44.118000\", \"2021-05-07T13:46:48.438000\", \"2021-05-07T13:46:49.302000\", \"2021-05-07T13:46:53.622000\"], \"y\": [null, -0.33484162895928193, 0.690093525833106, 0.9829560826043888, -1.6520807287015629, 1.4528284754381247, 0.9218652107759766, 0.620787513302588, -1.2691697514542568, -0.24995536511337946, 1.1276176839090795, -1.1327433628318602, 0.3222341568206275, 0.24982155603142076, 0.4894980420078241, 0.5225400761668482, -0.616740088105729, 0.39893617021276384, -2.092715231788077, -0.6673881673881681, 0.8443798801525304, -0.2430899432790028, 1.6064981949458428, -1.661041037484452, 1.4271520187878224, -0.8727402262000226, 0.40427634534184165, -1.3332140300644397, 2.2580937698376715, -1.7648102163887955, 0.956937799043061, -1.260842349995528, 0.9328020286180134, -0.2602063705697759, -0.4857862540482216, 0.5966371361417515, 0.026959022286135337, 2.1741083460605495, -1.802514727864235, 1.1819484240687643, -1.5929203539822936, 0.3597122302158198, 2.0967741935483843, -2.308232403019133, -1.0870541730302818, 0.926430517711168, 1.6738660907127354, -2.088865285891302, 2.802386548544561, -0.17587055926837536, -1.6384778012685075, -0.5373455131649507, 1.9809112191608165, -1.0153628818647462, -0.9811791990009766, 1.5223853706873172, -1.925465838509325, 2.0175517958925155, 0.629655906349754, -0.8636644046884641, -0.6756156102764521, -1.4678242190996116, 1.5351076392042842, 1.1719448917516502, -1.5120700327173182, -0.05386963548214396, -0.5659360402443383, 1.5267865209142713, -1.2724684107492408, 0.38756196484901295, -0.834979349973068, 0.7152557718424646, -0.026968716289104577, 2.1041273266792615, -2.2545134302069556, 2.450671231642488, -2.6207017852431562, 1.8603811071976821, -1.427431509885622, 1.8528512322359916, -2.8523489932885724, 1.490773566039465, 0.13434841021047816, 1.6905187835420463, -1.5304776145659105, -0.9647163912460854, 1.181563993866689, 1.0162239258334722, 0.308859865866566, -1.8562505498372417, -1.3804230907135207, 3.326667878567548, -2.0496129486277255, 0.9250112258643952, 0.32034169781098853, -0.26609898882384186, -1.8054073283528993, 0.8423150076985735, 1.58972516615772, -0.9282998850676307, 0.8834552918079623, -0.14153029632905145, -1.9576578970679321, 0.14456089627753954, 0.07217610970768362, -0.27948070681573256, -0.38875327728052866, 0.045380286803407444, 1.9232513834709124, 1.2550066755674436, -1.775668073136444, 1.181313764095222, 0.6191402794976142, -0.307665260196913, 0.3174323251917883, -2.636899006768047, 0.9659655141283707, 0.295064377682408, 0.9004190068645954, -1.8554514931966821, 2.2506301764493912, -0.9156541644655647, 1.1640305669095312, -3.0215195432586768, 0.6611719952902746, 1.6735648731329889, 0.3628318584070911, -1.8781412573846978, 1.8781452192667274, 0.335185675222732, -2.567032967032972, 1.6421546512677168, 0.31957390146470743, -1.2565259711529961, 0.9499059055470838, 1.1628939192188028, -0.4387504387504322, -2.141723955579053, 1.6482031883274857, -2.1353889774942303, 1.8288818469895887, -2.178358673424029, 2.272314124704593, -1.6619267685744603, 1.1025756891098126, 1.5106820416554996, -0.8453680873547142, 0.27531083481349583, -1.443627668054205, 0.026959022286135337, 0.880424040966659, 1.0241339389081645, -1.198871650211558, -0.8476088508208477, 1.2147934851075348, -1.5291607396870575, 0.16251354279521024]}],\n",
              "                        {\"template\": {\"data\": {\"bar\": [{\"error_x\": {\"color\": \"#2a3f5f\"}, \"error_y\": {\"color\": \"#2a3f5f\"}, \"marker\": {\"line\": {\"color\": \"#E5ECF6\", \"width\": 0.5}}, \"type\": \"bar\"}], \"barpolar\": [{\"marker\": {\"line\": {\"color\": \"#E5ECF6\", \"width\": 0.5}}, \"type\": \"barpolar\"}], \"carpet\": [{\"aaxis\": {\"endlinecolor\": \"#2a3f5f\", \"gridcolor\": \"white\", \"linecolor\": \"white\", \"minorgridcolor\": \"white\", \"startlinecolor\": \"#2a3f5f\"}, \"baxis\": {\"endlinecolor\": \"#2a3f5f\", \"gridcolor\": \"white\", \"linecolor\": \"white\", \"minorgridcolor\": \"white\", \"startlinecolor\": \"#2a3f5f\"}, \"type\": \"carpet\"}], \"choropleth\": [{\"colorbar\": {\"outlinewidth\": 0, \"ticks\": \"\"}, \"type\": \"choropleth\"}], \"contour\": [{\"colorbar\": {\"outlinewidth\": 0, \"ticks\": \"\"}, \"colorscale\": [[0.0, \"#0d0887\"], [0.1111111111111111, \"#46039f\"], [0.2222222222222222, \"#7201a8\"], [0.3333333333333333, \"#9c179e\"], [0.4444444444444444, \"#bd3786\"], [0.5555555555555556, \"#d8576b\"], [0.6666666666666666, \"#ed7953\"], [0.7777777777777778, \"#fb9f3a\"], [0.8888888888888888, \"#fdca26\"], [1.0, \"#f0f921\"]], \"type\": \"contour\"}], \"contourcarpet\": [{\"colorbar\": {\"outlinewidth\": 0, \"ticks\": \"\"}, \"type\": \"contourcarpet\"}], \"heatmap\": [{\"colorbar\": {\"outlinewidth\": 0, \"ticks\": \"\"}, \"colorscale\": [[0.0, \"#0d0887\"], [0.1111111111111111, \"#46039f\"], [0.2222222222222222, \"#7201a8\"], [0.3333333333333333, \"#9c179e\"], [0.4444444444444444, \"#bd3786\"], [0.5555555555555556, \"#d8576b\"], [0.6666666666666666, \"#ed7953\"], [0.7777777777777778, \"#fb9f3a\"], [0.8888888888888888, \"#fdca26\"], [1.0, \"#f0f921\"]], \"type\": \"heatmap\"}], \"heatmapgl\": [{\"colorbar\": {\"outlinewidth\": 0, \"ticks\": \"\"}, \"colorscale\": [[0.0, \"#0d0887\"], [0.1111111111111111, \"#46039f\"], [0.2222222222222222, \"#7201a8\"], [0.3333333333333333, \"#9c179e\"], [0.4444444444444444, \"#bd3786\"], [0.5555555555555556, \"#d8576b\"], [0.6666666666666666, \"#ed7953\"], [0.7777777777777778, \"#fb9f3a\"], [0.8888888888888888, \"#fdca26\"], [1.0, \"#f0f921\"]], \"type\": \"heatmapgl\"}], \"histogram\": [{\"marker\": {\"colorbar\": {\"outlinewidth\": 0, \"ticks\": \"\"}}, \"type\": \"histogram\"}], \"histogram2d\": [{\"colorbar\": {\"outlinewidth\": 0, \"ticks\": \"\"}, \"colorscale\": [[0.0, \"#0d0887\"], [0.1111111111111111, \"#46039f\"], [0.2222222222222222, \"#7201a8\"], [0.3333333333333333, \"#9c179e\"], [0.4444444444444444, \"#bd3786\"], [0.5555555555555556, \"#d8576b\"], [0.6666666666666666, \"#ed7953\"], [0.7777777777777778, \"#fb9f3a\"], [0.8888888888888888, \"#fdca26\"], [1.0, \"#f0f921\"]], \"type\": \"histogram2d\"}], \"histogram2dcontour\": [{\"colorbar\": {\"outlinewidth\": 0, \"ticks\": \"\"}, \"colorscale\": [[0.0, \"#0d0887\"], [0.1111111111111111, \"#46039f\"], [0.2222222222222222, \"#7201a8\"], [0.3333333333333333, \"#9c179e\"], [0.4444444444444444, \"#bd3786\"], [0.5555555555555556, \"#d8576b\"], [0.6666666666666666, \"#ed7953\"], [0.7777777777777778, \"#fb9f3a\"], [0.8888888888888888, \"#fdca26\"], [1.0, \"#f0f921\"]], \"type\": \"histogram2dcontour\"}], \"mesh3d\": [{\"colorbar\": {\"outlinewidth\": 0, \"ticks\": \"\"}, \"type\": \"mesh3d\"}], \"parcoords\": [{\"line\": {\"colorbar\": {\"outlinewidth\": 0, \"ticks\": \"\"}}, \"type\": \"parcoords\"}], \"pie\": [{\"automargin\": true, \"type\": \"pie\"}], \"scatter\": [{\"marker\": {\"colorbar\": {\"outlinewidth\": 0, \"ticks\": \"\"}}, \"type\": \"scatter\"}], \"scatter3d\": [{\"line\": {\"colorbar\": {\"outlinewidth\": 0, \"ticks\": \"\"}}, \"marker\": {\"colorbar\": {\"outlinewidth\": 0, \"ticks\": \"\"}}, \"type\": \"scatter3d\"}], \"scattercarpet\": [{\"marker\": {\"colorbar\": {\"outlinewidth\": 0, \"ticks\": \"\"}}, \"type\": \"scattercarpet\"}], \"scattergeo\": [{\"marker\": {\"colorbar\": {\"outlinewidth\": 0, \"ticks\": \"\"}}, \"type\": \"scattergeo\"}], \"scattergl\": [{\"marker\": {\"colorbar\": {\"outlinewidth\": 0, \"ticks\": \"\"}}, \"type\": \"scattergl\"}], \"scattermapbox\": [{\"marker\": {\"colorbar\": {\"outlinewidth\": 0, \"ticks\": \"\"}}, \"type\": \"scattermapbox\"}], \"scatterpolar\": [{\"marker\": {\"colorbar\": {\"outlinewidth\": 0, \"ticks\": \"\"}}, \"type\": \"scatterpolar\"}], \"scatterpolargl\": [{\"marker\": {\"colorbar\": {\"outlinewidth\": 0, \"ticks\": \"\"}}, \"type\": \"scatterpolargl\"}], \"scatterternary\": [{\"marker\": {\"colorbar\": {\"outlinewidth\": 0, \"ticks\": \"\"}}, \"type\": \"scatterternary\"}], \"surface\": [{\"colorbar\": {\"outlinewidth\": 0, \"ticks\": \"\"}, \"colorscale\": [[0.0, \"#0d0887\"], [0.1111111111111111, \"#46039f\"], [0.2222222222222222, \"#7201a8\"], [0.3333333333333333, \"#9c179e\"], [0.4444444444444444, \"#bd3786\"], [0.5555555555555556, \"#d8576b\"], [0.6666666666666666, \"#ed7953\"], [0.7777777777777778, \"#fb9f3a\"], [0.8888888888888888, \"#fdca26\"], [1.0, \"#f0f921\"]], \"type\": \"surface\"}], \"table\": [{\"cells\": {\"fill\": {\"color\": \"#EBF0F8\"}, \"line\": {\"color\": \"white\"}}, \"header\": {\"fill\": {\"color\": \"#C8D4E3\"}, \"line\": {\"color\": \"white\"}}, \"type\": \"table\"}]}, \"layout\": {\"annotationdefaults\": {\"arrowcolor\": \"#2a3f5f\", \"arrowhead\": 0, \"arrowwidth\": 1}, \"coloraxis\": {\"colorbar\": {\"outlinewidth\": 0, \"ticks\": \"\"}}, \"colorscale\": {\"diverging\": [[0, \"#8e0152\"], [0.1, \"#c51b7d\"], [0.2, \"#de77ae\"], [0.3, \"#f1b6da\"], [0.4, \"#fde0ef\"], [0.5, \"#f7f7f7\"], [0.6, \"#e6f5d0\"], [0.7, \"#b8e186\"], [0.8, \"#7fbc41\"], [0.9, \"#4d9221\"], [1, \"#276419\"]], \"sequential\": [[0.0, \"#0d0887\"], [0.1111111111111111, \"#46039f\"], [0.2222222222222222, \"#7201a8\"], [0.3333333333333333, \"#9c179e\"], [0.4444444444444444, \"#bd3786\"], [0.5555555555555556, \"#d8576b\"], [0.6666666666666666, \"#ed7953\"], [0.7777777777777778, \"#fb9f3a\"], [0.8888888888888888, \"#fdca26\"], [1.0, \"#f0f921\"]], \"sequentialminus\": [[0.0, \"#0d0887\"], [0.1111111111111111, \"#46039f\"], [0.2222222222222222, \"#7201a8\"], [0.3333333333333333, \"#9c179e\"], [0.4444444444444444, \"#bd3786\"], [0.5555555555555556, \"#d8576b\"], [0.6666666666666666, \"#ed7953\"], [0.7777777777777778, \"#fb9f3a\"], [0.8888888888888888, \"#fdca26\"], [1.0, \"#f0f921\"]]}, \"colorway\": [\"#636efa\", \"#EF553B\", \"#00cc96\", \"#ab63fa\", \"#FFA15A\", \"#19d3f3\", \"#FF6692\", \"#B6E880\", \"#FF97FF\", \"#FECB52\"], \"font\": {\"color\": \"#2a3f5f\"}, \"geo\": {\"bgcolor\": \"white\", \"lakecolor\": \"white\", \"landcolor\": \"#E5ECF6\", \"showlakes\": true, \"showland\": true, \"subunitcolor\": \"white\"}, \"hoverlabel\": {\"align\": \"left\"}, \"hovermode\": \"closest\", \"mapbox\": {\"style\": \"light\"}, \"paper_bgcolor\": \"white\", \"plot_bgcolor\": \"#E5ECF6\", \"polar\": {\"angularaxis\": {\"gridcolor\": \"white\", \"linecolor\": \"white\", \"ticks\": \"\"}, \"bgcolor\": \"#E5ECF6\", \"radialaxis\": {\"gridcolor\": \"white\", \"linecolor\": \"white\", \"ticks\": \"\"}}, \"scene\": {\"xaxis\": {\"backgroundcolor\": \"#E5ECF6\", \"gridcolor\": \"white\", \"gridwidth\": 2, \"linecolor\": \"white\", \"showbackground\": true, \"ticks\": \"\", \"zerolinecolor\": \"white\"}, \"yaxis\": {\"backgroundcolor\": \"#E5ECF6\", \"gridcolor\": \"white\", \"gridwidth\": 2, \"linecolor\": \"white\", \"showbackground\": true, \"ticks\": \"\", \"zerolinecolor\": \"white\"}, \"zaxis\": {\"backgroundcolor\": \"#E5ECF6\", \"gridcolor\": \"white\", \"gridwidth\": 2, \"linecolor\": \"white\", \"showbackground\": true, \"ticks\": \"\", \"zerolinecolor\": \"white\"}}, \"shapedefaults\": {\"line\": {\"color\": \"#2a3f5f\"}}, \"ternary\": {\"aaxis\": {\"gridcolor\": \"white\", \"linecolor\": \"white\", \"ticks\": \"\"}, \"baxis\": {\"gridcolor\": \"white\", \"linecolor\": \"white\", \"ticks\": \"\"}, \"bgcolor\": \"#E5ECF6\", \"caxis\": {\"gridcolor\": \"white\", \"linecolor\": \"white\", \"ticks\": \"\"}}, \"title\": {\"x\": 0.05}, \"xaxis\": {\"automargin\": true, \"gridcolor\": \"white\", \"linecolor\": \"white\", \"ticks\": \"\", \"title\": {\"standoff\": 15}, \"zerolinecolor\": \"white\", \"zerolinewidth\": 2}, \"yaxis\": {\"automargin\": true, \"gridcolor\": \"white\", \"linecolor\": \"white\", \"ticks\": \"\", \"title\": {\"standoff\": 15}, \"zerolinecolor\": \"white\", \"zerolinewidth\": 2}}}},\n",
              "                        {\"responsive\": true}\n",
              "                    ).then(function(){\n",
              "                            \n",
              "var gd = document.getElementById('867b4522-90a0-417f-84db-d2e7e14b7d2a');\n",
              "var x = new MutationObserver(function (mutations, observer) {{\n",
              "        var display = window.getComputedStyle(gd).display;\n",
              "        if (!display || display === 'none') {{\n",
              "            console.log([gd, 'removed!']);\n",
              "            Plotly.purge(gd);\n",
              "            observer.disconnect();\n",
              "        }}\n",
              "}});\n",
              "\n",
              "// Listen for the removal of the full notebook cells\n",
              "var notebookContainer = gd.closest('#notebook-container');\n",
              "if (notebookContainer) {{\n",
              "    x.observe(notebookContainer, {childList: true});\n",
              "}}\n",
              "\n",
              "// Listen for the clearing of the current output cell\n",
              "var outputEl = gd.closest('.output');\n",
              "if (outputEl) {{\n",
              "    x.observe(outputEl, {childList: true});\n",
              "}}\n",
              "\n",
              "                        })\n",
              "                };\n",
              "                \n",
              "            </script>\n",
              "        </div>\n",
              "</body>\n",
              "</html>"
            ]
          },
          "metadata": {
            "tags": []
          }
        }
      ]
    },
    {
      "cell_type": "code",
      "metadata": {
        "id": "RlUsfK1mLJTc"
      },
      "source": [
        ""
      ],
      "execution_count": null,
      "outputs": []
    }
  ]
}