{
  "nbformat": 4,
  "nbformat_minor": 0,
  "metadata": {
    "colab": {
      "name": "Case - MZR",
      "provenance": [],
      "collapsed_sections": [
        "3RLH2M_zZNdW",
        "lMKx0-ExbhhJ",
        "KUezi118c393"
      ],
      "include_colab_link": true
    },
    "kernelspec": {
      "name": "python3",
      "display_name": "Python 3"
    },
    "language_info": {
      "name": "python"
    }
  },
  "cells": [
    {
      "cell_type": "markdown",
      "metadata": {
        "id": "view-in-github",
        "colab_type": "text"
      },
      "source": [
        "<a href=\"https://colab.research.google.com/github/SamuelSousaFerreira/Mercado-Financeiro/blob/main/Case_MZR.ipynb\" target=\"_parent\"><img src=\"https://colab.research.google.com/assets/colab-badge.svg\" alt=\"Open In Colab\"/></a>"
      ]
    },
    {
      "cell_type": "markdown",
      "metadata": {
        "id": "CmWhXYki4Wd-"
      },
      "source": [
        "# **Carregando os dados**"
      ]
    },
    {
      "cell_type": "code",
      "metadata": {
        "id": "v0CQk0FV5Jn8",
        "colab": {
          "base_uri": "https://localhost:8080/"
        },
        "outputId": "41022967-67f1-4d14-e0e7-538db64a9b01"
      },
      "source": [
        "import pandas as pd #operações com tabelas\n",
        "import numpy as np #operações matemáticas\n",
        "!pip install xlsxwriter #gerar o excel com várias abas de clientes\n",
        "import calendar # operações com data\n",
        "import datetime #operações com data"
      ],
      "execution_count": null,
      "outputs": [
        {
          "output_type": "stream",
          "text": [
            "Requirement already satisfied: xlsxwriter in /usr/local/lib/python3.7/dist-packages (1.4.3)\n"
          ],
          "name": "stdout"
        }
      ]
    },
    {
      "cell_type": "code",
      "metadata": {
        "colab": {
          "base_uri": "https://localhost:8080/",
          "height": 204
        },
        "id": "B5PnrqJG5Wqm",
        "outputId": "c6cc0a48-03b4-4217-dd1b-e597874b622d"
      },
      "source": [
        "arquivo_excel = pd.ExcelFile(\"/content/drive/MyDrive/Portfólio/Case da MZR/Desafio VBA.xlsx\") #Carrego o excel\n",
        "\n",
        "operações = pd.read_excel(arquivo_excel, sheet_name='Trade Output', header=1)# index_col= 'Date & Time' # coloco em um DataFrame as abas desejadas\n",
        "desafio = operações.copy()\n",
        "desafio.head()"
      ],
      "execution_count": null,
      "outputs": [
        {
          "output_type": "execute_result",
          "data": {
            "text/html": [
              "<div>\n",
              "<style scoped>\n",
              "    .dataframe tbody tr th:only-of-type {\n",
              "        vertical-align: middle;\n",
              "    }\n",
              "\n",
              "    .dataframe tbody tr th {\n",
              "        vertical-align: top;\n",
              "    }\n",
              "\n",
              "    .dataframe thead th {\n",
              "        text-align: right;\n",
              "    }\n",
              "</style>\n",
              "<table border=\"1\" class=\"dataframe\">\n",
              "  <thead>\n",
              "    <tr style=\"text-align: right;\">\n",
              "      <th></th>\n",
              "      <th>Unnamed: 0</th>\n",
              "      <th>Date &amp; Time</th>\n",
              "      <th>Stock</th>\n",
              "      <th>B/S</th>\n",
              "      <th>Amount</th>\n",
              "      <th>Client</th>\n",
              "      <th>Price</th>\n",
              "    </tr>\n",
              "  </thead>\n",
              "  <tbody>\n",
              "    <tr>\n",
              "      <th>0</th>\n",
              "      <td>NaN</td>\n",
              "      <td>2021-05-07 13:32:31.350</td>\n",
              "      <td>BBDC3</td>\n",
              "      <td>B</td>\n",
              "      <td>5</td>\n",
              "      <td>1040</td>\n",
              "      <td>20.82</td>\n",
              "    </tr>\n",
              "    <tr>\n",
              "      <th>1</th>\n",
              "      <td>NaN</td>\n",
              "      <td>2021-05-07 13:32:32.214</td>\n",
              "      <td>PETR4</td>\n",
              "      <td>S</td>\n",
              "      <td>5</td>\n",
              "      <td>1040</td>\n",
              "      <td>25.19</td>\n",
              "    </tr>\n",
              "    <tr>\n",
              "      <th>2</th>\n",
              "      <td>NaN</td>\n",
              "      <td>2021-05-07 13:32:33.078</td>\n",
              "      <td>SANB11</td>\n",
              "      <td>S</td>\n",
              "      <td>20</td>\n",
              "      <td>Mesa</td>\n",
              "      <td>38.91</td>\n",
              "    </tr>\n",
              "    <tr>\n",
              "      <th>3</th>\n",
              "      <td>NaN</td>\n",
              "      <td>2021-05-07 13:32:33.942</td>\n",
              "      <td>PETR4</td>\n",
              "      <td>S</td>\n",
              "      <td>10</td>\n",
              "      <td>2806</td>\n",
              "      <td>23.54</td>\n",
              "    </tr>\n",
              "    <tr>\n",
              "      <th>4</th>\n",
              "      <td>NaN</td>\n",
              "      <td>2021-05-07 13:32:34.806</td>\n",
              "      <td>BBDC3</td>\n",
              "      <td>B</td>\n",
              "      <td>10</td>\n",
              "      <td>2030</td>\n",
              "      <td>21.11</td>\n",
              "    </tr>\n",
              "  </tbody>\n",
              "</table>\n",
              "</div>"
            ],
            "text/plain": [
              "   Unnamed: 0             Date & Time   Stock B/S  Amount Client  Price\n",
              "0         NaN 2021-05-07 13:32:31.350   BBDC3   B       5   1040  20.82\n",
              "1         NaN 2021-05-07 13:32:32.214   PETR4   S       5   1040  25.19\n",
              "2         NaN 2021-05-07 13:32:33.078  SANB11   S      20   Mesa  38.91\n",
              "3         NaN 2021-05-07 13:32:33.942   PETR4   S      10   2806  23.54\n",
              "4         NaN 2021-05-07 13:32:34.806   BBDC3   B      10   2030  21.11"
            ]
          },
          "metadata": {
            "tags": []
          },
          "execution_count": 17
        }
      ]
    },
    {
      "cell_type": "code",
      "metadata": {
        "colab": {
          "base_uri": "https://localhost:8080/"
        },
        "id": "q9ivefQF6sCh",
        "outputId": "6e507658-7be3-45bd-da5c-9a48d4faa05b"
      },
      "source": [
        "desafio.drop(columns='Unnamed: 0', inplace=True)\n",
        "desafio.info()\n",
        "#Verificando os dados e a tipagem\n",
        "#não há dados faltantes e nem nulos nas 1000 linhas\n",
        "#tipagem feita corretamente, portanto não é necessário alterar nada."
      ],
      "execution_count": null,
      "outputs": [
        {
          "output_type": "stream",
          "text": [
            "<class 'pandas.core.frame.DataFrame'>\n",
            "RangeIndex: 1000 entries, 0 to 999\n",
            "Data columns (total 6 columns):\n",
            " #   Column       Non-Null Count  Dtype         \n",
            "---  ------       --------------  -----         \n",
            " 0   Date & Time  1000 non-null   datetime64[ns]\n",
            " 1   Stock        1000 non-null   object        \n",
            " 2   B/S          1000 non-null   object        \n",
            " 3   Amount       1000 non-null   int64         \n",
            " 4   Client       1000 non-null   object        \n",
            " 5   Price        1000 non-null   float64       \n",
            "dtypes: datetime64[ns](1), float64(1), int64(1), object(3)\n",
            "memory usage: 47.0+ KB\n"
          ],
          "name": "stdout"
        }
      ]
    },
    {
      "cell_type": "code",
      "metadata": {
        "colab": {
          "base_uri": "https://localhost:8080/",
          "height": 204
        },
        "id": "fIOqPmeVD2r1",
        "outputId": "0233e250-86ea-4f5d-a136-f1ac6d85e564"
      },
      "source": [
        "#A coluna B/S, significa B=Buy e S=Sell, então substituiremos B por 1 e S por -1.\n",
        "compra_venda = {'B':1,'S':-1}\n",
        "desafio['B/S'] = desafio['B/S'].map(compra_venda)\n",
        "#esafio['Compra/Venda'] = desafio['B/S'].map(compra_venda) ou criar uma nova coluna\n",
        "desafio.head()"
      ],
      "execution_count": null,
      "outputs": [
        {
          "output_type": "execute_result",
          "data": {
            "text/html": [
              "<div>\n",
              "<style scoped>\n",
              "    .dataframe tbody tr th:only-of-type {\n",
              "        vertical-align: middle;\n",
              "    }\n",
              "\n",
              "    .dataframe tbody tr th {\n",
              "        vertical-align: top;\n",
              "    }\n",
              "\n",
              "    .dataframe thead th {\n",
              "        text-align: right;\n",
              "    }\n",
              "</style>\n",
              "<table border=\"1\" class=\"dataframe\">\n",
              "  <thead>\n",
              "    <tr style=\"text-align: right;\">\n",
              "      <th></th>\n",
              "      <th>Date &amp; Time</th>\n",
              "      <th>Stock</th>\n",
              "      <th>B/S</th>\n",
              "      <th>Amount</th>\n",
              "      <th>Client</th>\n",
              "      <th>Price</th>\n",
              "    </tr>\n",
              "  </thead>\n",
              "  <tbody>\n",
              "    <tr>\n",
              "      <th>0</th>\n",
              "      <td>2021-05-07 13:32:31.350</td>\n",
              "      <td>BBDC3</td>\n",
              "      <td>1</td>\n",
              "      <td>5</td>\n",
              "      <td>1040</td>\n",
              "      <td>20.82</td>\n",
              "    </tr>\n",
              "    <tr>\n",
              "      <th>1</th>\n",
              "      <td>2021-05-07 13:32:32.214</td>\n",
              "      <td>PETR4</td>\n",
              "      <td>-1</td>\n",
              "      <td>5</td>\n",
              "      <td>1040</td>\n",
              "      <td>25.19</td>\n",
              "    </tr>\n",
              "    <tr>\n",
              "      <th>2</th>\n",
              "      <td>2021-05-07 13:32:33.078</td>\n",
              "      <td>SANB11</td>\n",
              "      <td>-1</td>\n",
              "      <td>20</td>\n",
              "      <td>Mesa</td>\n",
              "      <td>38.91</td>\n",
              "    </tr>\n",
              "    <tr>\n",
              "      <th>3</th>\n",
              "      <td>2021-05-07 13:32:33.942</td>\n",
              "      <td>PETR4</td>\n",
              "      <td>-1</td>\n",
              "      <td>10</td>\n",
              "      <td>2806</td>\n",
              "      <td>23.54</td>\n",
              "    </tr>\n",
              "    <tr>\n",
              "      <th>4</th>\n",
              "      <td>2021-05-07 13:32:34.806</td>\n",
              "      <td>BBDC3</td>\n",
              "      <td>1</td>\n",
              "      <td>10</td>\n",
              "      <td>2030</td>\n",
              "      <td>21.11</td>\n",
              "    </tr>\n",
              "  </tbody>\n",
              "</table>\n",
              "</div>"
            ],
            "text/plain": [
              "              Date & Time   Stock  B/S  Amount Client  Price\n",
              "0 2021-05-07 13:32:31.350   BBDC3    1       5   1040  20.82\n",
              "1 2021-05-07 13:32:32.214   PETR4   -1       5   1040  25.19\n",
              "2 2021-05-07 13:32:33.078  SANB11   -1      20   Mesa  38.91\n",
              "3 2021-05-07 13:32:33.942   PETR4   -1      10   2806  23.54\n",
              "4 2021-05-07 13:32:34.806   BBDC3    1      10   2030  21.11"
            ]
          },
          "metadata": {
            "tags": []
          },
          "execution_count": 19
        }
      ]
    },
    {
      "cell_type": "code",
      "metadata": {
        "id": "xpVCrM60HUEm",
        "colab": {
          "base_uri": "https://localhost:8080/",
          "height": 204
        },
        "outputId": "bcb5d7e9-219f-40fd-b124-b37c0981d76d"
      },
      "source": [
        "#Regra:Posições vendidas devem entrar com sinal negativo nas carteiras.\n",
        "#Tanto as quantidades quanto o preço receberão o sinal negativo quando a operaçõe for de venda\n",
        "desafio['Amount'] = desafio['B/S'] * desafio.Amount\n",
        "desafio['Price'] = desafio['B/S'] * desafio.Price\n",
        "desafio.head()"
      ],
      "execution_count": null,
      "outputs": [
        {
          "output_type": "execute_result",
          "data": {
            "text/html": [
              "<div>\n",
              "<style scoped>\n",
              "    .dataframe tbody tr th:only-of-type {\n",
              "        vertical-align: middle;\n",
              "    }\n",
              "\n",
              "    .dataframe tbody tr th {\n",
              "        vertical-align: top;\n",
              "    }\n",
              "\n",
              "    .dataframe thead th {\n",
              "        text-align: right;\n",
              "    }\n",
              "</style>\n",
              "<table border=\"1\" class=\"dataframe\">\n",
              "  <thead>\n",
              "    <tr style=\"text-align: right;\">\n",
              "      <th></th>\n",
              "      <th>Date &amp; Time</th>\n",
              "      <th>Stock</th>\n",
              "      <th>B/S</th>\n",
              "      <th>Amount</th>\n",
              "      <th>Client</th>\n",
              "      <th>Price</th>\n",
              "    </tr>\n",
              "  </thead>\n",
              "  <tbody>\n",
              "    <tr>\n",
              "      <th>0</th>\n",
              "      <td>2021-05-07 13:32:31.350</td>\n",
              "      <td>BBDC3</td>\n",
              "      <td>1</td>\n",
              "      <td>5</td>\n",
              "      <td>1040</td>\n",
              "      <td>20.82</td>\n",
              "    </tr>\n",
              "    <tr>\n",
              "      <th>1</th>\n",
              "      <td>2021-05-07 13:32:32.214</td>\n",
              "      <td>PETR4</td>\n",
              "      <td>-1</td>\n",
              "      <td>-5</td>\n",
              "      <td>1040</td>\n",
              "      <td>-25.19</td>\n",
              "    </tr>\n",
              "    <tr>\n",
              "      <th>2</th>\n",
              "      <td>2021-05-07 13:32:33.078</td>\n",
              "      <td>SANB11</td>\n",
              "      <td>-1</td>\n",
              "      <td>-20</td>\n",
              "      <td>Mesa</td>\n",
              "      <td>-38.91</td>\n",
              "    </tr>\n",
              "    <tr>\n",
              "      <th>3</th>\n",
              "      <td>2021-05-07 13:32:33.942</td>\n",
              "      <td>PETR4</td>\n",
              "      <td>-1</td>\n",
              "      <td>-10</td>\n",
              "      <td>2806</td>\n",
              "      <td>-23.54</td>\n",
              "    </tr>\n",
              "    <tr>\n",
              "      <th>4</th>\n",
              "      <td>2021-05-07 13:32:34.806</td>\n",
              "      <td>BBDC3</td>\n",
              "      <td>1</td>\n",
              "      <td>10</td>\n",
              "      <td>2030</td>\n",
              "      <td>21.11</td>\n",
              "    </tr>\n",
              "  </tbody>\n",
              "</table>\n",
              "</div>"
            ],
            "text/plain": [
              "              Date & Time   Stock  B/S  Amount Client  Price\n",
              "0 2021-05-07 13:32:31.350   BBDC3    1       5   1040  20.82\n",
              "1 2021-05-07 13:32:32.214   PETR4   -1      -5   1040 -25.19\n",
              "2 2021-05-07 13:32:33.078  SANB11   -1     -20   Mesa -38.91\n",
              "3 2021-05-07 13:32:33.942   PETR4   -1     -10   2806 -23.54\n",
              "4 2021-05-07 13:32:34.806   BBDC3    1      10   2030  21.11"
            ]
          },
          "metadata": {
            "tags": []
          },
          "execution_count": 20
        }
      ]
    },
    {
      "cell_type": "code",
      "metadata": {
        "colab": {
          "base_uri": "https://localhost:8080/"
        },
        "id": "G2MQIkYK7Vx9",
        "outputId": "b4c7ffcc-9804-4442-ac54-0b6e1535e9f3"
      },
      "source": [
        "# Criando uma lista de Clientes da base para posterior agrupamento\n",
        "clientes = list(desafio.Client.unique()) \n",
        "clientes.remove('Mesa') #removendo a Mesa que não é uma cliente.\n",
        "clientes"
      ],
      "execution_count": null,
      "outputs": [
        {
          "output_type": "execute_result",
          "data": {
            "text/plain": [
              "[1040, 2806, 2030, 1917, 1150, 3018]"
            ]
          },
          "metadata": {
            "tags": []
          },
          "execution_count": 43
        }
      ]
    },
    {
      "cell_type": "markdown",
      "metadata": {
        "id": "0vjkUejM-IZe"
      },
      "source": [
        "# **Mesa**\n",
        "As boletas registradas sob o operador “Mesa” devem ser especificadas para TODOS os clientes de forma equânime, ou seja, com o mesmo preço médio de forma que não haja seleção de preço por cliente (Fair Dealing).  "
      ]
    },
    {
      "cell_type": "code",
      "metadata": {
        "colab": {
          "base_uri": "https://localhost:8080/",
          "height": 204
        },
        "id": "8GL9YCuW-ll4",
        "outputId": "0f29ca92-3a68-45d7-8195-8ed171facfed"
      },
      "source": [
        "#filtrando as operações da Mesa\n",
        "mesa = desafio.loc[desafio.Client == 'Mesa']\n",
        "mesa.head()"
      ],
      "execution_count": null,
      "outputs": [
        {
          "output_type": "execute_result",
          "data": {
            "text/html": [
              "<div>\n",
              "<style scoped>\n",
              "    .dataframe tbody tr th:only-of-type {\n",
              "        vertical-align: middle;\n",
              "    }\n",
              "\n",
              "    .dataframe tbody tr th {\n",
              "        vertical-align: top;\n",
              "    }\n",
              "\n",
              "    .dataframe thead th {\n",
              "        text-align: right;\n",
              "    }\n",
              "</style>\n",
              "<table border=\"1\" class=\"dataframe\">\n",
              "  <thead>\n",
              "    <tr style=\"text-align: right;\">\n",
              "      <th></th>\n",
              "      <th>Date &amp; Time</th>\n",
              "      <th>Stock</th>\n",
              "      <th>B/S</th>\n",
              "      <th>Amount</th>\n",
              "      <th>Client</th>\n",
              "      <th>Price</th>\n",
              "    </tr>\n",
              "  </thead>\n",
              "  <tbody>\n",
              "    <tr>\n",
              "      <th>2</th>\n",
              "      <td>2021-05-07 13:32:33.078</td>\n",
              "      <td>SANB11</td>\n",
              "      <td>-1</td>\n",
              "      <td>-20</td>\n",
              "      <td>Mesa</td>\n",
              "      <td>-38.91</td>\n",
              "    </tr>\n",
              "    <tr>\n",
              "      <th>8</th>\n",
              "      <td>2021-05-07 13:32:38.262</td>\n",
              "      <td>ITUB4</td>\n",
              "      <td>1</td>\n",
              "      <td>15</td>\n",
              "      <td>Mesa</td>\n",
              "      <td>29.43</td>\n",
              "    </tr>\n",
              "    <tr>\n",
              "      <th>41</th>\n",
              "      <td>2021-05-07 13:33:06.774</td>\n",
              "      <td>BBDC3</td>\n",
              "      <td>1</td>\n",
              "      <td>5</td>\n",
              "      <td>Mesa</td>\n",
              "      <td>22.97</td>\n",
              "    </tr>\n",
              "    <tr>\n",
              "      <th>43</th>\n",
              "      <td>2021-05-07 13:33:08.502</td>\n",
              "      <td>BPAC11</td>\n",
              "      <td>1</td>\n",
              "      <td>5</td>\n",
              "      <td>Mesa</td>\n",
              "      <td>112.02</td>\n",
              "    </tr>\n",
              "    <tr>\n",
              "      <th>49</th>\n",
              "      <td>2021-05-07 13:33:13.686</td>\n",
              "      <td>MGLU3</td>\n",
              "      <td>1</td>\n",
              "      <td>15</td>\n",
              "      <td>Mesa</td>\n",
              "      <td>20.80</td>\n",
              "    </tr>\n",
              "  </tbody>\n",
              "</table>\n",
              "</div>"
            ],
            "text/plain": [
              "               Date & Time   Stock  B/S  Amount Client   Price\n",
              "2  2021-05-07 13:32:33.078  SANB11   -1     -20   Mesa  -38.91\n",
              "8  2021-05-07 13:32:38.262   ITUB4    1      15   Mesa   29.43\n",
              "41 2021-05-07 13:33:06.774   BBDC3    1       5   Mesa   22.97\n",
              "43 2021-05-07 13:33:08.502  BPAC11    1       5   Mesa  112.02\n",
              "49 2021-05-07 13:33:13.686   MGLU3    1      15   Mesa   20.80"
            ]
          },
          "metadata": {
            "tags": []
          },
          "execution_count": 22
        }
      ]
    },
    {
      "cell_type": "markdown",
      "metadata": {
        "id": "kumhiwGAOXhR"
      },
      "source": [
        "## Compra Mesa"
      ]
    },
    {
      "cell_type": "code",
      "metadata": {
        "colab": {
          "base_uri": "https://localhost:8080/",
          "height": 204
        },
        "id": "tYry-_XIAs85",
        "outputId": "83c7741a-7ee6-4512-da60-2a0f83bf0600"
      },
      "source": [
        "#Quantidade de Ações compradas\n",
        "mesa_compr = mesa.loc[mesa['B/S'] == 1]\n",
        "mesa_compr.head()"
      ],
      "execution_count": null,
      "outputs": [
        {
          "output_type": "execute_result",
          "data": {
            "text/html": [
              "<div>\n",
              "<style scoped>\n",
              "    .dataframe tbody tr th:only-of-type {\n",
              "        vertical-align: middle;\n",
              "    }\n",
              "\n",
              "    .dataframe tbody tr th {\n",
              "        vertical-align: top;\n",
              "    }\n",
              "\n",
              "    .dataframe thead th {\n",
              "        text-align: right;\n",
              "    }\n",
              "</style>\n",
              "<table border=\"1\" class=\"dataframe\">\n",
              "  <thead>\n",
              "    <tr style=\"text-align: right;\">\n",
              "      <th></th>\n",
              "      <th>Date &amp; Time</th>\n",
              "      <th>Stock</th>\n",
              "      <th>B/S</th>\n",
              "      <th>Amount</th>\n",
              "      <th>Client</th>\n",
              "      <th>Price</th>\n",
              "    </tr>\n",
              "  </thead>\n",
              "  <tbody>\n",
              "    <tr>\n",
              "      <th>8</th>\n",
              "      <td>2021-05-07 13:32:38.262</td>\n",
              "      <td>ITUB4</td>\n",
              "      <td>1</td>\n",
              "      <td>15</td>\n",
              "      <td>Mesa</td>\n",
              "      <td>29.43</td>\n",
              "    </tr>\n",
              "    <tr>\n",
              "      <th>41</th>\n",
              "      <td>2021-05-07 13:33:06.774</td>\n",
              "      <td>BBDC3</td>\n",
              "      <td>1</td>\n",
              "      <td>5</td>\n",
              "      <td>Mesa</td>\n",
              "      <td>22.97</td>\n",
              "    </tr>\n",
              "    <tr>\n",
              "      <th>43</th>\n",
              "      <td>2021-05-07 13:33:08.502</td>\n",
              "      <td>BPAC11</td>\n",
              "      <td>1</td>\n",
              "      <td>5</td>\n",
              "      <td>Mesa</td>\n",
              "      <td>112.02</td>\n",
              "    </tr>\n",
              "    <tr>\n",
              "      <th>49</th>\n",
              "      <td>2021-05-07 13:33:13.686</td>\n",
              "      <td>MGLU3</td>\n",
              "      <td>1</td>\n",
              "      <td>15</td>\n",
              "      <td>Mesa</td>\n",
              "      <td>20.80</td>\n",
              "    </tr>\n",
              "    <tr>\n",
              "      <th>52</th>\n",
              "      <td>2021-05-07 13:33:16.278</td>\n",
              "      <td>ITUB4</td>\n",
              "      <td>1</td>\n",
              "      <td>10</td>\n",
              "      <td>Mesa</td>\n",
              "      <td>28.68</td>\n",
              "    </tr>\n",
              "  </tbody>\n",
              "</table>\n",
              "</div>"
            ],
            "text/plain": [
              "               Date & Time   Stock  B/S  Amount Client   Price\n",
              "8  2021-05-07 13:32:38.262   ITUB4    1      15   Mesa   29.43\n",
              "41 2021-05-07 13:33:06.774   BBDC3    1       5   Mesa   22.97\n",
              "43 2021-05-07 13:33:08.502  BPAC11    1       5   Mesa  112.02\n",
              "49 2021-05-07 13:33:13.686   MGLU3    1      15   Mesa   20.80\n",
              "52 2021-05-07 13:33:16.278   ITUB4    1      10   Mesa   28.68"
            ]
          },
          "metadata": {
            "tags": []
          },
          "execution_count": 23
        }
      ]
    },
    {
      "cell_type": "code",
      "metadata": {
        "colab": {
          "base_uri": "https://localhost:8080/"
        },
        "id": "1oonH-JzBT2z",
        "outputId": "b6181321-bfbc-4976-b931-83eb2caed0cb"
      },
      "source": [
        "#lista de ações mesa\n",
        "stock_mesa = list(mesa.Stock.unique())\n",
        "stock_mesa"
      ],
      "execution_count": null,
      "outputs": [
        {
          "output_type": "execute_result",
          "data": {
            "text/plain": [
              "['SANB11', 'ITUB4', 'BBDC3', 'BPAC11', 'MGLU3', 'PETR4']"
            ]
          },
          "metadata": {
            "tags": []
          },
          "execution_count": 24
        }
      ]
    },
    {
      "cell_type": "code",
      "metadata": {
        "colab": {
          "base_uri": "https://localhost:8080/",
          "height": 49
        },
        "id": "a2fE-KGaXD6U",
        "outputId": "f5675036-456b-4824-c052-49a67ac93222"
      },
      "source": [
        "#Criando um Data Frame para armazenar os Resultados\n",
        "neg_mesa = pd.DataFrame(columns=['Stock','Amount','Price'])\n",
        "neg_mesa"
      ],
      "execution_count": null,
      "outputs": [
        {
          "output_type": "execute_result",
          "data": {
            "text/html": [
              "<div>\n",
              "<style scoped>\n",
              "    .dataframe tbody tr th:only-of-type {\n",
              "        vertical-align: middle;\n",
              "    }\n",
              "\n",
              "    .dataframe tbody tr th {\n",
              "        vertical-align: top;\n",
              "    }\n",
              "\n",
              "    .dataframe thead th {\n",
              "        text-align: right;\n",
              "    }\n",
              "</style>\n",
              "<table border=\"1\" class=\"dataframe\">\n",
              "  <thead>\n",
              "    <tr style=\"text-align: right;\">\n",
              "      <th></th>\n",
              "      <th>Stock</th>\n",
              "      <th>Amount</th>\n",
              "      <th>Price</th>\n",
              "    </tr>\n",
              "  </thead>\n",
              "  <tbody>\n",
              "  </tbody>\n",
              "</table>\n",
              "</div>"
            ],
            "text/plain": [
              "Empty DataFrame\n",
              "Columns: [Stock, Amount, Price]\n",
              "Index: []"
            ]
          },
          "metadata": {
            "tags": []
          },
          "execution_count": 25
        }
      ]
    },
    {
      "cell_type": "code",
      "metadata": {
        "id": "dbLQrhn_SBGK"
      },
      "source": [
        "#Calculando a média por ação e armazeando no DF\n",
        "for x in stock_mesa:\n",
        "  acoes_x = mesa_compr.loc[mesa_compr.Stock == x]\n",
        "  negociadas = acoes_x.Amount.sum()\n",
        "  preco_medio = (np.average(acoes_x.Price,weights=acoes_x.Amount)).round(2) #media ponderada arredondando para 2 casas decimais\n",
        "  neg_mesa = neg_mesa.append({\"Stock\":x,\"Amount\":negociadas,'Price':preco_medio}, ignore_index=True)\n"
      ],
      "execution_count": null,
      "outputs": []
    },
    {
      "cell_type": "code",
      "metadata": {
        "colab": {
          "base_uri": "https://localhost:8080/",
          "height": 235
        },
        "id": "oi-PU9Z_YJPd",
        "outputId": "9b0bb129-5734-49ea-9643-3d075e67517b"
      },
      "source": [
        "neg_mesa"
      ],
      "execution_count": null,
      "outputs": [
        {
          "output_type": "execute_result",
          "data": {
            "text/html": [
              "<div>\n",
              "<style scoped>\n",
              "    .dataframe tbody tr th:only-of-type {\n",
              "        vertical-align: middle;\n",
              "    }\n",
              "\n",
              "    .dataframe tbody tr th {\n",
              "        vertical-align: top;\n",
              "    }\n",
              "\n",
              "    .dataframe thead th {\n",
              "        text-align: right;\n",
              "    }\n",
              "</style>\n",
              "<table border=\"1\" class=\"dataframe\">\n",
              "  <thead>\n",
              "    <tr style=\"text-align: right;\">\n",
              "      <th></th>\n",
              "      <th>Stock</th>\n",
              "      <th>Amount</th>\n",
              "      <th>Price</th>\n",
              "    </tr>\n",
              "  </thead>\n",
              "  <tbody>\n",
              "    <tr>\n",
              "      <th>0</th>\n",
              "      <td>SANB11</td>\n",
              "      <td>170</td>\n",
              "      <td>39.91</td>\n",
              "    </tr>\n",
              "    <tr>\n",
              "      <th>1</th>\n",
              "      <td>ITUB4</td>\n",
              "      <td>150</td>\n",
              "      <td>27.99</td>\n",
              "    </tr>\n",
              "    <tr>\n",
              "      <th>2</th>\n",
              "      <td>BBDC3</td>\n",
              "      <td>130</td>\n",
              "      <td>21.34</td>\n",
              "    </tr>\n",
              "    <tr>\n",
              "      <th>3</th>\n",
              "      <td>BPAC11</td>\n",
              "      <td>195</td>\n",
              "      <td>111.75</td>\n",
              "    </tr>\n",
              "    <tr>\n",
              "      <th>4</th>\n",
              "      <td>MGLU3</td>\n",
              "      <td>205</td>\n",
              "      <td>20.20</td>\n",
              "    </tr>\n",
              "    <tr>\n",
              "      <th>5</th>\n",
              "      <td>PETR4</td>\n",
              "      <td>220</td>\n",
              "      <td>24.93</td>\n",
              "    </tr>\n",
              "  </tbody>\n",
              "</table>\n",
              "</div>"
            ],
            "text/plain": [
              "    Stock Amount   Price\n",
              "0  SANB11    170   39.91\n",
              "1   ITUB4    150   27.99\n",
              "2   BBDC3    130   21.34\n",
              "3  BPAC11    195  111.75\n",
              "4   MGLU3    205   20.20\n",
              "5   PETR4    220   24.93"
            ]
          },
          "metadata": {
            "tags": []
          },
          "execution_count": 27
        }
      ]
    },
    {
      "cell_type": "markdown",
      "metadata": {
        "id": "3RLH2M_zZNdW"
      },
      "source": [
        "## Venda Mesa"
      ]
    },
    {
      "cell_type": "code",
      "metadata": {
        "id": "sf3cK-roZPxk"
      },
      "source": [
        "#Ações Vendidas\n",
        "mesa_vend = mesa.loc[mesa['B/S'] == -1]\n",
        "mesa_vend.head()\n",
        "\n",
        "for x in stock_mesa:\n",
        "  acoes_x = mesa_vend.loc[mesa_vend.Stock == x]\n",
        "  negociadas = acoes_x.Amount.sum()\n",
        "  preco_medio = (np.average(acoes_x.Price,weights=acoes_x.Amount)).round(2)  #media ponderada arredondando para 2 casas decimais\n",
        "  neg_mesa = neg_mesa.append({\"Stock\":x,\"Amount\":negociadas,'Price':preco_medio}, ignore_index=True)\n",
        "\n",
        "#Criando uma planilha xlsx para armazenar nas abas as posições de cada cliente\n",
        "operacoes_mesa = pd.ExcelWriter('operacoes_mesa.xlsx', engine='xlsxwriter') \n",
        "\n",
        "#adicionando as operações em abas do xlsx\n",
        "neg_mesa.to_excel(operacoes_mesa, sheet_name= 'Operações Mesa') "
      ],
      "execution_count": null,
      "outputs": []
    },
    {
      "cell_type": "markdown",
      "metadata": {
        "id": "lMKx0-ExbhhJ"
      },
      "source": [
        "## Resultado da Carteira Mesa"
      ]
    },
    {
      "cell_type": "code",
      "metadata": {
        "colab": {
          "base_uri": "https://localhost:8080/",
          "height": 421
        },
        "id": "RopK9iULZ1Dw",
        "outputId": "1eefad30-f5af-41c1-cb32-a0aa1cc37e2d"
      },
      "source": [
        "#tirar o sinal negativo de price e nao alterar o registro principal\n",
        "neg_mesa_1 =neg_mesa.copy()\n",
        "neg_mesa_1['Price'] = abs(neg_mesa_1['Price'])\n",
        "neg_mesa_1"
      ],
      "execution_count": null,
      "outputs": [
        {
          "output_type": "execute_result",
          "data": {
            "text/html": [
              "<div>\n",
              "<style scoped>\n",
              "    .dataframe tbody tr th:only-of-type {\n",
              "        vertical-align: middle;\n",
              "    }\n",
              "\n",
              "    .dataframe tbody tr th {\n",
              "        vertical-align: top;\n",
              "    }\n",
              "\n",
              "    .dataframe thead th {\n",
              "        text-align: right;\n",
              "    }\n",
              "</style>\n",
              "<table border=\"1\" class=\"dataframe\">\n",
              "  <thead>\n",
              "    <tr style=\"text-align: right;\">\n",
              "      <th></th>\n",
              "      <th>Stock</th>\n",
              "      <th>Amount</th>\n",
              "      <th>Price</th>\n",
              "    </tr>\n",
              "  </thead>\n",
              "  <tbody>\n",
              "    <tr>\n",
              "      <th>0</th>\n",
              "      <td>SANB11</td>\n",
              "      <td>170</td>\n",
              "      <td>39.91</td>\n",
              "    </tr>\n",
              "    <tr>\n",
              "      <th>1</th>\n",
              "      <td>ITUB4</td>\n",
              "      <td>150</td>\n",
              "      <td>27.99</td>\n",
              "    </tr>\n",
              "    <tr>\n",
              "      <th>2</th>\n",
              "      <td>BBDC3</td>\n",
              "      <td>130</td>\n",
              "      <td>21.34</td>\n",
              "    </tr>\n",
              "    <tr>\n",
              "      <th>3</th>\n",
              "      <td>BPAC11</td>\n",
              "      <td>195</td>\n",
              "      <td>111.75</td>\n",
              "    </tr>\n",
              "    <tr>\n",
              "      <th>4</th>\n",
              "      <td>MGLU3</td>\n",
              "      <td>205</td>\n",
              "      <td>20.20</td>\n",
              "    </tr>\n",
              "    <tr>\n",
              "      <th>5</th>\n",
              "      <td>PETR4</td>\n",
              "      <td>220</td>\n",
              "      <td>24.93</td>\n",
              "    </tr>\n",
              "    <tr>\n",
              "      <th>6</th>\n",
              "      <td>SANB11</td>\n",
              "      <td>-185</td>\n",
              "      <td>39.71</td>\n",
              "    </tr>\n",
              "    <tr>\n",
              "      <th>7</th>\n",
              "      <td>ITUB4</td>\n",
              "      <td>-125</td>\n",
              "      <td>28.36</td>\n",
              "    </tr>\n",
              "    <tr>\n",
              "      <th>8</th>\n",
              "      <td>BBDC3</td>\n",
              "      <td>-75</td>\n",
              "      <td>20.51</td>\n",
              "    </tr>\n",
              "    <tr>\n",
              "      <th>9</th>\n",
              "      <td>BPAC11</td>\n",
              "      <td>-190</td>\n",
              "      <td>111.97</td>\n",
              "    </tr>\n",
              "    <tr>\n",
              "      <th>10</th>\n",
              "      <td>MGLU3</td>\n",
              "      <td>-115</td>\n",
              "      <td>19.41</td>\n",
              "    </tr>\n",
              "    <tr>\n",
              "      <th>11</th>\n",
              "      <td>PETR4</td>\n",
              "      <td>-245</td>\n",
              "      <td>25.34</td>\n",
              "    </tr>\n",
              "  </tbody>\n",
              "</table>\n",
              "</div>"
            ],
            "text/plain": [
              "     Stock Amount   Price\n",
              "0   SANB11    170   39.91\n",
              "1    ITUB4    150   27.99\n",
              "2    BBDC3    130   21.34\n",
              "3   BPAC11    195  111.75\n",
              "4    MGLU3    205   20.20\n",
              "5    PETR4    220   24.93\n",
              "6   SANB11   -185   39.71\n",
              "7    ITUB4   -125   28.36\n",
              "8    BBDC3    -75   20.51\n",
              "9   BPAC11   -190  111.97\n",
              "10   MGLU3   -115   19.41\n",
              "11   PETR4   -245   25.34"
            ]
          },
          "metadata": {
            "tags": []
          },
          "execution_count": 44
        }
      ]
    },
    {
      "cell_type": "code",
      "metadata": {
        "colab": {
          "base_uri": "https://localhost:8080/",
          "height": 300
        },
        "id": "xQeBqNF-bkEn",
        "outputId": "6b8318e0-85b4-49fc-fb39-cfb64b3cc199"
      },
      "source": [
        "#agrupando por ação e calculando a média. Considerei para a média aritmética dos preços de venda e compra.\n",
        "posição_mesa = neg_mesa_1.groupby('Stock').agg({'Amount':'sum',\n",
        "                               'Price': 'mean'})\n",
        "\n",
        "posição_mesa.to_excel(operacoes_mesa, sheet_name= 'Posição Mesa')\n",
        "\n",
        "operacoes_mesa.save()\n",
        "\n",
        "posição_mesa"
      ],
      "execution_count": null,
      "outputs": [
        {
          "output_type": "stream",
          "text": [
            "/usr/local/lib/python3.7/dist-packages/xlsxwriter/workbook.py:338: UserWarning: Calling close() on already closed file.\n",
            "  warn(\"Calling close() on already closed file.\")\n"
          ],
          "name": "stderr"
        },
        {
          "output_type": "execute_result",
          "data": {
            "text/html": [
              "<div>\n",
              "<style scoped>\n",
              "    .dataframe tbody tr th:only-of-type {\n",
              "        vertical-align: middle;\n",
              "    }\n",
              "\n",
              "    .dataframe tbody tr th {\n",
              "        vertical-align: top;\n",
              "    }\n",
              "\n",
              "    .dataframe thead th {\n",
              "        text-align: right;\n",
              "    }\n",
              "</style>\n",
              "<table border=\"1\" class=\"dataframe\">\n",
              "  <thead>\n",
              "    <tr style=\"text-align: right;\">\n",
              "      <th></th>\n",
              "      <th>Amount</th>\n",
              "      <th>Price</th>\n",
              "    </tr>\n",
              "    <tr>\n",
              "      <th>Stock</th>\n",
              "      <th></th>\n",
              "      <th></th>\n",
              "    </tr>\n",
              "  </thead>\n",
              "  <tbody>\n",
              "    <tr>\n",
              "      <th>BBDC3</th>\n",
              "      <td>55</td>\n",
              "      <td>20.925</td>\n",
              "    </tr>\n",
              "    <tr>\n",
              "      <th>BPAC11</th>\n",
              "      <td>5</td>\n",
              "      <td>111.860</td>\n",
              "    </tr>\n",
              "    <tr>\n",
              "      <th>ITUB4</th>\n",
              "      <td>25</td>\n",
              "      <td>28.175</td>\n",
              "    </tr>\n",
              "    <tr>\n",
              "      <th>MGLU3</th>\n",
              "      <td>90</td>\n",
              "      <td>19.805</td>\n",
              "    </tr>\n",
              "    <tr>\n",
              "      <th>PETR4</th>\n",
              "      <td>-25</td>\n",
              "      <td>25.135</td>\n",
              "    </tr>\n",
              "    <tr>\n",
              "      <th>SANB11</th>\n",
              "      <td>-15</td>\n",
              "      <td>39.810</td>\n",
              "    </tr>\n",
              "  </tbody>\n",
              "</table>\n",
              "</div>"
            ],
            "text/plain": [
              "        Amount    Price\n",
              "Stock                  \n",
              "BBDC3       55   20.925\n",
              "BPAC11       5  111.860\n",
              "ITUB4       25   28.175\n",
              "MGLU3       90   19.805\n",
              "PETR4      -25   25.135\n",
              "SANB11     -15   39.810"
            ]
          },
          "metadata": {
            "tags": []
          },
          "execution_count": 45
        }
      ]
    },
    {
      "cell_type": "markdown",
      "metadata": {
        "id": "IfuCFJve4LGk"
      },
      "source": [
        "Não entendi como seria a divisão equânime, se seria por peso ponderado de ações ou se divide igualmente entre os clientes ou outro critério.\n",
        "O que adotarei será dividir a carteira Mesa pelo número de clientes, mesa_fracionada, e adicionar a carteira de cada cliente para consolidar  a posição deste."
      ]
    },
    {
      "cell_type": "code",
      "metadata": {
        "id": "OTySXsYx46ev"
      },
      "source": [
        "mesa_fracionada = posição_mesa.copy()\n",
        "mesa_fracionada['Amount'] = mesa_fracionada['Amount']/ len(clientes) "
      ],
      "execution_count": null,
      "outputs": []
    },
    {
      "cell_type": "markdown",
      "metadata": {
        "id": "KUezi118c393"
      },
      "source": [
        "## Tudo Junto"
      ]
    },
    {
      "cell_type": "markdown",
      "metadata": {
        "id": "Uiq1Xrupc6xC"
      },
      "source": [
        "#filtrando as operações da Mesa\n",
        "mesa = desafio.loc[desafio.Client == 'Mesa']\n",
        "\n",
        "#lista de ações mesa\n",
        "stock_mesa = list(mesa.Stock.unique())\n",
        "\n",
        "#Criando um Data Frame para armazenar os Resultados\n",
        "neg_mesa = pd.DataFrame(columns=['Stock','Amount','Price'])\n",
        "neg_mesa\n",
        "\n",
        "#Ações compradas\n",
        "mesa_compr = mesa.loc[mesa['B/S'] == 1]\n",
        "mesa_compr.head()\n",
        "\n",
        "#Ações Vendidas\n",
        "mesa_vend = mesa.loc[mesa['B/S'] == -1]\n",
        "mesa_vend.head()\n",
        "\n",
        "#Calculando a média por ação e armazeando no DF\n",
        "for x in stock_mesa:\n",
        "  acoes_x = mesa_compr.loc[mesa_compr.Stock == x]\n",
        "  negociadas = acoes_x.Amount.sum()\n",
        "  preco_medio = (np.average(acoes_x.Price,weights=acoes_x.Amount)).round(2) #media ponderada arredondando para 2 casas decimais\n",
        "  neg_mesa = neg_mesa.append({\"Stock\":x,\"Amount\":negociadas,'Price':preco_medio}, ignore_index=True)\n",
        "\n",
        "\n",
        "for x in stock_mesa:\n",
        "  acoes_x = mesa_vend.loc[mesa_vend.Stock == x]\n",
        "  negociadas = acoes_x.Amount.sum()\n",
        "  preco_medio = (np.average(acoes_x.Price,weights=acoes_x.Amount)).round(2)  #media ponderada arredondando para 2 casas decimais\n",
        "  neg_mesa = neg_mesa.append({\"Stock\":x,\"Amount\":negociadas,'Price':preco_medio}, ignore_index=True)\n",
        "\n",
        "#Criando uma planilha xlsx para armazenar nas abas as posições de cada cliente\n",
        "operacoes_mesa = pd.ExcelWriter('operacoes_mesa.xlsx', engine='xlsxwriter') \n",
        "\n",
        "#adicionando as operações em abas do xlsx\n",
        "neg_mesa.to_excel(operacoes_mesa, sheet_name= 'Operações Mesa') \n",
        "\n",
        "#tirar o sinal negativo de price e nao alterar o registro principal\n",
        "neg_mesa_1 =neg_mesa.copy()\n",
        "neg_mesa_1['Price'] = abs(neg_mesa_1['Price'])\n",
        "neg_mesa_1\n",
        "\n",
        "#agrupando por ação e calculando a média. Considerei para a média aritmética dos preços de venda e compra.\n",
        "posição_mesa = neg_mesa_1.groupby('Stock').agg({'Amount':'sum',\n",
        "                               'Price': 'mean'})\n",
        "\n",
        "posição_mesa.to_excel(operacoes_mesa, sheet_name= 'Posição Mesa')\n",
        "\n",
        "operacoes_mesa.save()\n",
        "\n",
        "posição_mesa\n"
      ]
    },
    {
      "cell_type": "markdown",
      "metadata": {
        "id": "878ahOETCODu"
      },
      "source": [
        "# **Para Qualquer Cliente**"
      ]
    },
    {
      "cell_type": "code",
      "metadata": {
        "colab": {
          "base_uri": "https://localhost:8080/"
        },
        "id": "hc5snefdCRd2",
        "outputId": "36b8e420-c378-42fe-e50a-1776400ff3bc"
      },
      "source": [
        "clientes"
      ],
      "execution_count": null,
      "outputs": [
        {
          "output_type": "execute_result",
          "data": {
            "text/plain": [
              "[1040, 2806, 2030, 1917, 1150, 3018]"
            ]
          },
          "metadata": {
            "tags": []
          },
          "execution_count": 73
        }
      ]
    },
    {
      "cell_type": "code",
      "metadata": {
        "id": "x65PStQKG4p4",
        "colab": {
          "base_uri": "https://localhost:8080/",
          "height": 1000
        },
        "outputId": "839b87da-a0e0-4584-a742-a045ad1a233c"
      },
      "source": [
        "#Criando uma planilha xlsx para armazenar nas abas as posições de cada cliente\n",
        "posicoes_clientes = pd.ExcelWriter('posicoes_clientes.xlsx', engine='xlsxwriter') \n",
        "\n",
        "for y in clientes:\n",
        "  a = desafio.loc[desafio.Client == y] #armazena todas as posições do cliente y\n",
        "  nome_cliente = 'Client - '+ str(y) \n",
        " \n",
        "  #lista de ações do cliente y\n",
        "  stock_client = list(a.Stock.unique()) \n",
        "\n",
        "  #Criando um Data Frame vazio para armazenar os Resultados, ele é limpado a cada iteração\n",
        "  neg_client = pd.DataFrame(columns=['Stock','Amount','Price'])  \n",
        "\n",
        "  #Ações compradas do cliente y\n",
        "  a_compr = a.loc[a['B/S'] == 1]  \n",
        "\n",
        "  #Ações Vendidas do cliente y\n",
        "  a_vend = a.loc[a['B/S'] == -1]\n",
        "  \n",
        "  #Calculando a média ponderada por ação comprada e armazeando no DataFrame\n",
        "  for x in stock_client:\n",
        "    acoes_x = a_compr.loc[a_compr.Stock == x]\n",
        "    negociadas = acoes_x['Amount'].sum()\n",
        "    preco_medio = (np.average(acoes_x.Price,weights=acoes_x.Amount)).round(2)  #media ponderada arredondando para 2 casas decimais\n",
        "    #print(volume_x, negociadas, preco_medio)\n",
        "    neg_client = neg_client.append({\"Stock\":x,\"Amount\":negociadas,'Price':preco_medio}, ignore_index=True)\n",
        "     \n",
        "  #Calculando a média ponderada por ação vendida e armazeando no DataFrame\n",
        "  for x in stock_client:\n",
        "    acoes_x = a_vend.loc[a.Stock == x]\n",
        "    negociadas = acoes_x['Amount'].sum()\n",
        "    preco_medio = (np.average(acoes_x.Price,weights=acoes_x.Amount)).round(2)  #media ponderada arredondando para 2 casas decimais  \n",
        "    neg_client = neg_client.append({\"Stock\":x,\"Amount\":negociadas,'Price':preco_medio}, ignore_index=True)\n",
        "\n",
        "  #acrescentando a posiçaõ de Mesa à carteira do cliente\n",
        "  neg_client.set_index('Stock', inplace=True)\n",
        "  neg_client = pd.concat([neg_client,mesa_fracionada], axis=0)\n",
        "     \n",
        "  #posição final do cliente\n",
        "  neg_client['Price'] = abs(neg_client['Price']) #deixando todos os valores positivos para calcular a média\n",
        "  neg_client = neg_client.groupby('Stock').agg({'Amount':'sum','Price':'mean'})\n",
        "  \n",
        "  #Regra para eliminar, caso tenha, linhas com posições igual a zero\n",
        "  neg_client.drop(list(neg_client[neg_client.Amount == 0].index), inplace=True)\n",
        "\n",
        "  #organizando em ordem alfabética\n",
        "  neg_client.sort_values(by='Stock', ascending=True, inplace=True) \n",
        "\n",
        "  # colocando a coluna Stock como índice\n",
        "  #neg_client.set_index('Stock', inplace=True) \n",
        "\n",
        "  neg_client.to_excel(posicoes_clientes, sheet_name= nome_cliente) #adiciona as operações em abas do xlsx\n",
        "\n",
        "  display(nome_cliente, neg_client) #exibindo as posições de cada cliente no período\n",
        "\n",
        "posicoes_clientes.save()  #salvando o xlsx \n",
        "  "
      ],
      "execution_count": null,
      "outputs": [
        {
          "output_type": "display_data",
          "data": {
            "application/vnd.google.colaboratory.intrinsic+json": {
              "type": "string"
            },
            "text/plain": [
              "'Client - 1040'"
            ]
          },
          "metadata": {
            "tags": []
          }
        },
        {
          "output_type": "display_data",
          "data": {
            "text/html": [
              "<div>\n",
              "<style scoped>\n",
              "    .dataframe tbody tr th:only-of-type {\n",
              "        vertical-align: middle;\n",
              "    }\n",
              "\n",
              "    .dataframe tbody tr th {\n",
              "        vertical-align: top;\n",
              "    }\n",
              "\n",
              "    .dataframe thead th {\n",
              "        text-align: right;\n",
              "    }\n",
              "</style>\n",
              "<table border=\"1\" class=\"dataframe\">\n",
              "  <thead>\n",
              "    <tr style=\"text-align: right;\">\n",
              "      <th></th>\n",
              "      <th>Amount</th>\n",
              "      <th>Price</th>\n",
              "    </tr>\n",
              "    <tr>\n",
              "      <th>Stock</th>\n",
              "      <th></th>\n",
              "      <th></th>\n",
              "    </tr>\n",
              "  </thead>\n",
              "  <tbody>\n",
              "    <tr>\n",
              "      <th>BBDC3</th>\n",
              "      <td>-105.833333</td>\n",
              "      <td>20.571667</td>\n",
              "    </tr>\n",
              "    <tr>\n",
              "      <th>BPAC11</th>\n",
              "      <td>60.833333</td>\n",
              "      <td>111.923333</td>\n",
              "    </tr>\n",
              "    <tr>\n",
              "      <th>ITUB4</th>\n",
              "      <td>209.166667</td>\n",
              "      <td>27.918333</td>\n",
              "    </tr>\n",
              "    <tr>\n",
              "      <th>MGLU3</th>\n",
              "      <td>-25.000000</td>\n",
              "      <td>19.725000</td>\n",
              "    </tr>\n",
              "    <tr>\n",
              "      <th>PETR4</th>\n",
              "      <td>165.833333</td>\n",
              "      <td>25.271667</td>\n",
              "    </tr>\n",
              "    <tr>\n",
              "      <th>SANB11</th>\n",
              "      <td>52.500000</td>\n",
              "      <td>39.730000</td>\n",
              "    </tr>\n",
              "  </tbody>\n",
              "</table>\n",
              "</div>"
            ],
            "text/plain": [
              "            Amount       Price\n",
              "Stock                         \n",
              "BBDC3  -105.833333   20.571667\n",
              "BPAC11   60.833333  111.923333\n",
              "ITUB4   209.166667   27.918333\n",
              "MGLU3   -25.000000   19.725000\n",
              "PETR4   165.833333   25.271667\n",
              "SANB11   52.500000   39.730000"
            ]
          },
          "metadata": {
            "tags": []
          }
        },
        {
          "output_type": "display_data",
          "data": {
            "application/vnd.google.colaboratory.intrinsic+json": {
              "type": "string"
            },
            "text/plain": [
              "'Client - 2806'"
            ]
          },
          "metadata": {
            "tags": []
          }
        },
        {
          "output_type": "display_data",
          "data": {
            "text/html": [
              "<div>\n",
              "<style scoped>\n",
              "    .dataframe tbody tr th:only-of-type {\n",
              "        vertical-align: middle;\n",
              "    }\n",
              "\n",
              "    .dataframe tbody tr th {\n",
              "        vertical-align: top;\n",
              "    }\n",
              "\n",
              "    .dataframe thead th {\n",
              "        text-align: right;\n",
              "    }\n",
              "</style>\n",
              "<table border=\"1\" class=\"dataframe\">\n",
              "  <thead>\n",
              "    <tr style=\"text-align: right;\">\n",
              "      <th></th>\n",
              "      <th>Amount</th>\n",
              "      <th>Price</th>\n",
              "    </tr>\n",
              "    <tr>\n",
              "      <th>Stock</th>\n",
              "      <th></th>\n",
              "      <th></th>\n",
              "    </tr>\n",
              "  </thead>\n",
              "  <tbody>\n",
              "    <tr>\n",
              "      <th>BBDC3</th>\n",
              "      <td>19.166667</td>\n",
              "      <td>20.995000</td>\n",
              "    </tr>\n",
              "    <tr>\n",
              "      <th>BPAC11</th>\n",
              "      <td>25.833333</td>\n",
              "      <td>112.370000</td>\n",
              "    </tr>\n",
              "    <tr>\n",
              "      <th>ITUB4</th>\n",
              "      <td>4.166667</td>\n",
              "      <td>28.225000</td>\n",
              "    </tr>\n",
              "    <tr>\n",
              "      <th>MGLU3</th>\n",
              "      <td>-30.000000</td>\n",
              "      <td>19.881667</td>\n",
              "    </tr>\n",
              "    <tr>\n",
              "      <th>PETR4</th>\n",
              "      <td>-114.166667</td>\n",
              "      <td>24.905000</td>\n",
              "    </tr>\n",
              "    <tr>\n",
              "      <th>SANB11</th>\n",
              "      <td>-137.500000</td>\n",
              "      <td>39.690000</td>\n",
              "    </tr>\n",
              "  </tbody>\n",
              "</table>\n",
              "</div>"
            ],
            "text/plain": [
              "            Amount       Price\n",
              "Stock                         \n",
              "BBDC3    19.166667   20.995000\n",
              "BPAC11   25.833333  112.370000\n",
              "ITUB4     4.166667   28.225000\n",
              "MGLU3   -30.000000   19.881667\n",
              "PETR4  -114.166667   24.905000\n",
              "SANB11 -137.500000   39.690000"
            ]
          },
          "metadata": {
            "tags": []
          }
        },
        {
          "output_type": "display_data",
          "data": {
            "application/vnd.google.colaboratory.intrinsic+json": {
              "type": "string"
            },
            "text/plain": [
              "'Client - 2030'"
            ]
          },
          "metadata": {
            "tags": []
          }
        },
        {
          "output_type": "display_data",
          "data": {
            "text/html": [
              "<div>\n",
              "<style scoped>\n",
              "    .dataframe tbody tr th:only-of-type {\n",
              "        vertical-align: middle;\n",
              "    }\n",
              "\n",
              "    .dataframe tbody tr th {\n",
              "        vertical-align: top;\n",
              "    }\n",
              "\n",
              "    .dataframe thead th {\n",
              "        text-align: right;\n",
              "    }\n",
              "</style>\n",
              "<table border=\"1\" class=\"dataframe\">\n",
              "  <thead>\n",
              "    <tr style=\"text-align: right;\">\n",
              "      <th></th>\n",
              "      <th>Amount</th>\n",
              "      <th>Price</th>\n",
              "    </tr>\n",
              "    <tr>\n",
              "      <th>Stock</th>\n",
              "      <th></th>\n",
              "      <th></th>\n",
              "    </tr>\n",
              "  </thead>\n",
              "  <tbody>\n",
              "    <tr>\n",
              "      <th>BBDC3</th>\n",
              "      <td>239.166667</td>\n",
              "      <td>21.241667</td>\n",
              "    </tr>\n",
              "    <tr>\n",
              "      <th>BPAC11</th>\n",
              "      <td>130.833333</td>\n",
              "      <td>111.793333</td>\n",
              "    </tr>\n",
              "    <tr>\n",
              "      <th>ITUB4</th>\n",
              "      <td>-25.833333</td>\n",
              "      <td>27.848333</td>\n",
              "    </tr>\n",
              "    <tr>\n",
              "      <th>MGLU3</th>\n",
              "      <td>150.000000</td>\n",
              "      <td>20.065000</td>\n",
              "    </tr>\n",
              "    <tr>\n",
              "      <th>PETR4</th>\n",
              "      <td>-49.166667</td>\n",
              "      <td>25.125000</td>\n",
              "    </tr>\n",
              "    <tr>\n",
              "      <th>SANB11</th>\n",
              "      <td>157.500000</td>\n",
              "      <td>39.800000</td>\n",
              "    </tr>\n",
              "  </tbody>\n",
              "</table>\n",
              "</div>"
            ],
            "text/plain": [
              "            Amount       Price\n",
              "Stock                         \n",
              "BBDC3   239.166667   21.241667\n",
              "BPAC11  130.833333  111.793333\n",
              "ITUB4   -25.833333   27.848333\n",
              "MGLU3   150.000000   20.065000\n",
              "PETR4   -49.166667   25.125000\n",
              "SANB11  157.500000   39.800000"
            ]
          },
          "metadata": {
            "tags": []
          }
        },
        {
          "output_type": "display_data",
          "data": {
            "application/vnd.google.colaboratory.intrinsic+json": {
              "type": "string"
            },
            "text/plain": [
              "'Client - 1917'"
            ]
          },
          "metadata": {
            "tags": []
          }
        },
        {
          "output_type": "display_data",
          "data": {
            "text/html": [
              "<div>\n",
              "<style scoped>\n",
              "    .dataframe tbody tr th:only-of-type {\n",
              "        vertical-align: middle;\n",
              "    }\n",
              "\n",
              "    .dataframe tbody tr th {\n",
              "        vertical-align: top;\n",
              "    }\n",
              "\n",
              "    .dataframe thead th {\n",
              "        text-align: right;\n",
              "    }\n",
              "</style>\n",
              "<table border=\"1\" class=\"dataframe\">\n",
              "  <thead>\n",
              "    <tr style=\"text-align: right;\">\n",
              "      <th></th>\n",
              "      <th>Amount</th>\n",
              "      <th>Price</th>\n",
              "    </tr>\n",
              "    <tr>\n",
              "      <th>Stock</th>\n",
              "      <th></th>\n",
              "      <th></th>\n",
              "    </tr>\n",
              "  </thead>\n",
              "  <tbody>\n",
              "    <tr>\n",
              "      <th>BBDC3</th>\n",
              "      <td>29.166667</td>\n",
              "      <td>20.718333</td>\n",
              "    </tr>\n",
              "    <tr>\n",
              "      <th>BPAC11</th>\n",
              "      <td>30.833333</td>\n",
              "      <td>111.610000</td>\n",
              "    </tr>\n",
              "    <tr>\n",
              "      <th>ITUB4</th>\n",
              "      <td>-65.833333</td>\n",
              "      <td>28.091667</td>\n",
              "    </tr>\n",
              "    <tr>\n",
              "      <th>MGLU3</th>\n",
              "      <td>-130.000000</td>\n",
              "      <td>20.341667</td>\n",
              "    </tr>\n",
              "    <tr>\n",
              "      <th>PETR4</th>\n",
              "      <td>135.833333</td>\n",
              "      <td>25.231667</td>\n",
              "    </tr>\n",
              "    <tr>\n",
              "      <th>SANB11</th>\n",
              "      <td>-27.500000</td>\n",
              "      <td>39.976667</td>\n",
              "    </tr>\n",
              "  </tbody>\n",
              "</table>\n",
              "</div>"
            ],
            "text/plain": [
              "            Amount       Price\n",
              "Stock                         \n",
              "BBDC3    29.166667   20.718333\n",
              "BPAC11   30.833333  111.610000\n",
              "ITUB4   -65.833333   28.091667\n",
              "MGLU3  -130.000000   20.341667\n",
              "PETR4   135.833333   25.231667\n",
              "SANB11  -27.500000   39.976667"
            ]
          },
          "metadata": {
            "tags": []
          }
        },
        {
          "output_type": "display_data",
          "data": {
            "application/vnd.google.colaboratory.intrinsic+json": {
              "type": "string"
            },
            "text/plain": [
              "'Client - 1150'"
            ]
          },
          "metadata": {
            "tags": []
          }
        },
        {
          "output_type": "display_data",
          "data": {
            "text/html": [
              "<div>\n",
              "<style scoped>\n",
              "    .dataframe tbody tr th:only-of-type {\n",
              "        vertical-align: middle;\n",
              "    }\n",
              "\n",
              "    .dataframe tbody tr th {\n",
              "        vertical-align: top;\n",
              "    }\n",
              "\n",
              "    .dataframe thead th {\n",
              "        text-align: right;\n",
              "    }\n",
              "</style>\n",
              "<table border=\"1\" class=\"dataframe\">\n",
              "  <thead>\n",
              "    <tr style=\"text-align: right;\">\n",
              "      <th></th>\n",
              "      <th>Amount</th>\n",
              "      <th>Price</th>\n",
              "    </tr>\n",
              "    <tr>\n",
              "      <th>Stock</th>\n",
              "      <th></th>\n",
              "      <th></th>\n",
              "    </tr>\n",
              "  </thead>\n",
              "  <tbody>\n",
              "    <tr>\n",
              "      <th>BBDC3</th>\n",
              "      <td>44.166667</td>\n",
              "      <td>21.248333</td>\n",
              "    </tr>\n",
              "    <tr>\n",
              "      <th>BPAC11</th>\n",
              "      <td>40.833333</td>\n",
              "      <td>112.050000</td>\n",
              "    </tr>\n",
              "    <tr>\n",
              "      <th>ITUB4</th>\n",
              "      <td>14.166667</td>\n",
              "      <td>28.081667</td>\n",
              "    </tr>\n",
              "    <tr>\n",
              "      <th>MGLU3</th>\n",
              "      <td>40.000000</td>\n",
              "      <td>20.178333</td>\n",
              "    </tr>\n",
              "    <tr>\n",
              "      <th>PETR4</th>\n",
              "      <td>25.833333</td>\n",
              "      <td>25.165000</td>\n",
              "    </tr>\n",
              "    <tr>\n",
              "      <th>SANB11</th>\n",
              "      <td>182.500000</td>\n",
              "      <td>40.310000</td>\n",
              "    </tr>\n",
              "  </tbody>\n",
              "</table>\n",
              "</div>"
            ],
            "text/plain": [
              "            Amount       Price\n",
              "Stock                         \n",
              "BBDC3    44.166667   21.248333\n",
              "BPAC11   40.833333  112.050000\n",
              "ITUB4    14.166667   28.081667\n",
              "MGLU3    40.000000   20.178333\n",
              "PETR4    25.833333   25.165000\n",
              "SANB11  182.500000   40.310000"
            ]
          },
          "metadata": {
            "tags": []
          }
        },
        {
          "output_type": "display_data",
          "data": {
            "application/vnd.google.colaboratory.intrinsic+json": {
              "type": "string"
            },
            "text/plain": [
              "'Client - 3018'"
            ]
          },
          "metadata": {
            "tags": []
          }
        },
        {
          "output_type": "display_data",
          "data": {
            "text/html": [
              "<div>\n",
              "<style scoped>\n",
              "    .dataframe tbody tr th:only-of-type {\n",
              "        vertical-align: middle;\n",
              "    }\n",
              "\n",
              "    .dataframe tbody tr th {\n",
              "        vertical-align: top;\n",
              "    }\n",
              "\n",
              "    .dataframe thead th {\n",
              "        text-align: right;\n",
              "    }\n",
              "</style>\n",
              "<table border=\"1\" class=\"dataframe\">\n",
              "  <thead>\n",
              "    <tr style=\"text-align: right;\">\n",
              "      <th></th>\n",
              "      <th>Amount</th>\n",
              "      <th>Price</th>\n",
              "    </tr>\n",
              "    <tr>\n",
              "      <th>Stock</th>\n",
              "      <th></th>\n",
              "      <th></th>\n",
              "    </tr>\n",
              "  </thead>\n",
              "  <tbody>\n",
              "    <tr>\n",
              "      <th>BBDC3</th>\n",
              "      <td>-25.833333</td>\n",
              "      <td>21.125000</td>\n",
              "    </tr>\n",
              "    <tr>\n",
              "      <th>BPAC11</th>\n",
              "      <td>5.833333</td>\n",
              "      <td>111.996667</td>\n",
              "    </tr>\n",
              "    <tr>\n",
              "      <th>ITUB4</th>\n",
              "      <td>99.166667</td>\n",
              "      <td>27.925000</td>\n",
              "    </tr>\n",
              "    <tr>\n",
              "      <th>MGLU3</th>\n",
              "      <td>-65.000000</td>\n",
              "      <td>19.785000</td>\n",
              "    </tr>\n",
              "    <tr>\n",
              "      <th>PETR4</th>\n",
              "      <td>-94.166667</td>\n",
              "      <td>25.298333</td>\n",
              "    </tr>\n",
              "    <tr>\n",
              "      <th>SANB11</th>\n",
              "      <td>17.500000</td>\n",
              "      <td>39.993333</td>\n",
              "    </tr>\n",
              "  </tbody>\n",
              "</table>\n",
              "</div>"
            ],
            "text/plain": [
              "           Amount       Price\n",
              "Stock                        \n",
              "BBDC3  -25.833333   21.125000\n",
              "BPAC11   5.833333  111.996667\n",
              "ITUB4   99.166667   27.925000\n",
              "MGLU3  -65.000000   19.785000\n",
              "PETR4  -94.166667   25.298333\n",
              "SANB11  17.500000   39.993333"
            ]
          },
          "metadata": {
            "tags": []
          }
        }
      ]
    },
    {
      "cell_type": "markdown",
      "metadata": {
        "id": "WJApCwqnrfj0"
      },
      "source": [
        "# **Desafio Adicional**\n",
        "\n",
        "Desafio adicional:\n",
        "Uma carteira já possui posições prévias, então a macro deve ser capaz de calcular o novo preço médio considerando as posições já detidas pelo cliente.\n",
        "Se o cliente por acaso zerar uma posição que tenha na carteira, exclua a linha deste ativo.\n"
      ]
    },
    {
      "cell_type": "code",
      "metadata": {
        "colab": {
          "base_uri": "https://localhost:8080/",
          "height": 235
        },
        "id": "4mm_h6T0rnOA",
        "outputId": "01e33ead-a562-4328-ce07-e1d42661cfbf"
      },
      "source": [
        "#Carregando o arquivo da carteira prévia\n",
        "arquivo_excel_2 = pd.ExcelFile(\"/content/drive/MyDrive/Portfólio/Case da MZR/Desafio VBA.xlsx\") #Carrego o excel\n",
        "\n",
        "Cliente = pd.read_excel(arquivo_excel_2, sheet_name='Client - 1150', header=3)# index_col= 'Date & Time' # coloco em um DataFrame as abas desejadas\n",
        "cliente_1150 = Cliente.copy()\n",
        "cliente_1150.drop(columns='Unnamed: 0', inplace= True)\n",
        "cliente_1150"
      ],
      "execution_count": null,
      "outputs": [
        {
          "output_type": "execute_result",
          "data": {
            "text/html": [
              "<div>\n",
              "<style scoped>\n",
              "    .dataframe tbody tr th:only-of-type {\n",
              "        vertical-align: middle;\n",
              "    }\n",
              "\n",
              "    .dataframe tbody tr th {\n",
              "        vertical-align: top;\n",
              "    }\n",
              "\n",
              "    .dataframe thead th {\n",
              "        text-align: right;\n",
              "    }\n",
              "</style>\n",
              "<table border=\"1\" class=\"dataframe\">\n",
              "  <thead>\n",
              "    <tr style=\"text-align: right;\">\n",
              "      <th></th>\n",
              "      <th>Ticker</th>\n",
              "      <th>Amount</th>\n",
              "      <th>Price</th>\n",
              "      <th>Sector</th>\n",
              "    </tr>\n",
              "  </thead>\n",
              "  <tbody>\n",
              "    <tr>\n",
              "      <th>0</th>\n",
              "      <td>BBDC3</td>\n",
              "      <td>20</td>\n",
              "      <td>20.82</td>\n",
              "      <td>Banking</td>\n",
              "    </tr>\n",
              "    <tr>\n",
              "      <th>1</th>\n",
              "      <td>PETR4</td>\n",
              "      <td>10</td>\n",
              "      <td>25.19</td>\n",
              "      <td>Oil and Gas</td>\n",
              "    </tr>\n",
              "    <tr>\n",
              "      <th>2</th>\n",
              "      <td>SANB11</td>\n",
              "      <td>5</td>\n",
              "      <td>38.91</td>\n",
              "      <td>Banking</td>\n",
              "    </tr>\n",
              "    <tr>\n",
              "      <th>3</th>\n",
              "      <td>MGLU3</td>\n",
              "      <td>5</td>\n",
              "      <td>18.48</td>\n",
              "      <td>Retail</td>\n",
              "    </tr>\n",
              "    <tr>\n",
              "      <th>4</th>\n",
              "      <td>ITUB4</td>\n",
              "      <td>10</td>\n",
              "      <td>28.07</td>\n",
              "      <td>Banking</td>\n",
              "    </tr>\n",
              "    <tr>\n",
              "      <th>5</th>\n",
              "      <td>BPAC11</td>\n",
              "      <td>5</td>\n",
              "      <td>110.50</td>\n",
              "      <td>Banking</td>\n",
              "    </tr>\n",
              "  </tbody>\n",
              "</table>\n",
              "</div>"
            ],
            "text/plain": [
              "   Ticker  Amount   Price       Sector\n",
              "0   BBDC3      20   20.82      Banking\n",
              "1   PETR4      10   25.19  Oil and Gas\n",
              "2  SANB11       5   38.91      Banking\n",
              "3   MGLU3       5   18.48       Retail\n",
              "4   ITUB4      10   28.07      Banking\n",
              "5  BPAC11       5  110.50      Banking"
            ]
          },
          "metadata": {
            "tags": []
          },
          "execution_count": 191
        }
      ]
    },
    {
      "cell_type": "code",
      "metadata": {
        "id": "nFYZ3NYOI85U"
      },
      "source": [
        "#separando os setores para juntá-los no final\n",
        "# setores = dict(zip(ações,setor))\n",
        "setores = {\"BBDC3\":\"Banking\",'PETR4':'Oil and Gas','SANB11':'Banking','MGLU3':'Retail','ITUB4':'Banking', 'BPAC11':'Banking' }\n",
        "#setores"
      ],
      "execution_count": null,
      "outputs": []
    },
    {
      "cell_type": "code",
      "metadata": {
        "colab": {
          "base_uri": "https://localhost:8080/",
          "height": 419
        },
        "id": "7DW1bCMPtjCe",
        "outputId": "9a8fad71-64c4-4ad3-eed3-a300f6b980cb"
      },
      "source": [
        "#carregando o arquivo com todas as negociações do cliente do arquivo desafio\n",
        "\n",
        "cliente_1150_2 = desafio[desafio.Client == 1150][['Stock','Amount','Price']] #escolho somente as 3 colunas para juntar com os dados da carteira\n",
        "cliente_1150_2"
      ],
      "execution_count": null,
      "outputs": [
        {
          "output_type": "execute_result",
          "data": {
            "text/html": [
              "<div>\n",
              "<style scoped>\n",
              "    .dataframe tbody tr th:only-of-type {\n",
              "        vertical-align: middle;\n",
              "    }\n",
              "\n",
              "    .dataframe tbody tr th {\n",
              "        vertical-align: top;\n",
              "    }\n",
              "\n",
              "    .dataframe thead th {\n",
              "        text-align: right;\n",
              "    }\n",
              "</style>\n",
              "<table border=\"1\" class=\"dataframe\">\n",
              "  <thead>\n",
              "    <tr style=\"text-align: right;\">\n",
              "      <th></th>\n",
              "      <th>Stock</th>\n",
              "      <th>Amount</th>\n",
              "      <th>Price</th>\n",
              "    </tr>\n",
              "  </thead>\n",
              "  <tbody>\n",
              "    <tr>\n",
              "      <th>11</th>\n",
              "      <td>SANB11</td>\n",
              "      <td>-5</td>\n",
              "      <td>-40.24</td>\n",
              "    </tr>\n",
              "    <tr>\n",
              "      <th>13</th>\n",
              "      <td>BPAC11</td>\n",
              "      <td>-10</td>\n",
              "      <td>-110.50</td>\n",
              "    </tr>\n",
              "    <tr>\n",
              "      <th>14</th>\n",
              "      <td>ITUB4</td>\n",
              "      <td>-5</td>\n",
              "      <td>-27.33</td>\n",
              "    </tr>\n",
              "    <tr>\n",
              "      <th>19</th>\n",
              "      <td>PETR4</td>\n",
              "      <td>15</td>\n",
              "      <td>24.45</td>\n",
              "    </tr>\n",
              "    <tr>\n",
              "      <th>24</th>\n",
              "      <td>BBDC3</td>\n",
              "      <td>-25</td>\n",
              "      <td>-22.32</td>\n",
              "    </tr>\n",
              "    <tr>\n",
              "      <th>...</th>\n",
              "      <td>...</td>\n",
              "      <td>...</td>\n",
              "      <td>...</td>\n",
              "    </tr>\n",
              "    <tr>\n",
              "      <th>971</th>\n",
              "      <td>BPAC11</td>\n",
              "      <td>-20</td>\n",
              "      <td>-112.29</td>\n",
              "    </tr>\n",
              "    <tr>\n",
              "      <th>974</th>\n",
              "      <td>PETR4</td>\n",
              "      <td>5</td>\n",
              "      <td>26.65</td>\n",
              "    </tr>\n",
              "    <tr>\n",
              "      <th>976</th>\n",
              "      <td>PETR4</td>\n",
              "      <td>-10</td>\n",
              "      <td>-23.05</td>\n",
              "    </tr>\n",
              "    <tr>\n",
              "      <th>984</th>\n",
              "      <td>BPAC11</td>\n",
              "      <td>15</td>\n",
              "      <td>112.08</td>\n",
              "    </tr>\n",
              "    <tr>\n",
              "      <th>996</th>\n",
              "      <td>SANB11</td>\n",
              "      <td>-20</td>\n",
              "      <td>-41.16</td>\n",
              "    </tr>\n",
              "  </tbody>\n",
              "</table>\n",
              "<p>150 rows × 3 columns</p>\n",
              "</div>"
            ],
            "text/plain": [
              "      Stock  Amount   Price\n",
              "11   SANB11      -5  -40.24\n",
              "13   BPAC11     -10 -110.50\n",
              "14    ITUB4      -5  -27.33\n",
              "19    PETR4      15   24.45\n",
              "24    BBDC3     -25  -22.32\n",
              "..      ...     ...     ...\n",
              "971  BPAC11     -20 -112.29\n",
              "974   PETR4       5   26.65\n",
              "976   PETR4     -10  -23.05\n",
              "984  BPAC11      15  112.08\n",
              "996  SANB11     -20  -41.16\n",
              "\n",
              "[150 rows x 3 columns]"
            ]
          },
          "metadata": {
            "tags": []
          },
          "execution_count": 174
        }
      ]
    },
    {
      "cell_type": "code",
      "metadata": {
        "colab": {
          "base_uri": "https://localhost:8080/",
          "height": 419
        },
        "id": "xuebxpk3wk4Q",
        "outputId": "19265753-add6-40c0-b689-158a7f80224b"
      },
      "source": [
        "#renomeando a coluna stock para poder juntar as duas tabelas\n",
        "cliente_1150_2.rename(columns={'Stock':'Ticker'}, inplace=True)\n",
        "\n",
        "#juntando as tabelas\n",
        "cliente_1150_posições = pd.concat([cliente_1150_2,cliente_1150], axis=0)\n",
        "\n",
        "#excluindo a coluna Setor, mas não é obrigatório\n",
        "cliente_1150_posições.drop(columns=['Sector'], inplace=True)\n",
        "                                  \n",
        "cliente_1150_posições"
      ],
      "execution_count": null,
      "outputs": [
        {
          "output_type": "execute_result",
          "data": {
            "text/html": [
              "<div>\n",
              "<style scoped>\n",
              "    .dataframe tbody tr th:only-of-type {\n",
              "        vertical-align: middle;\n",
              "    }\n",
              "\n",
              "    .dataframe tbody tr th {\n",
              "        vertical-align: top;\n",
              "    }\n",
              "\n",
              "    .dataframe thead th {\n",
              "        text-align: right;\n",
              "    }\n",
              "</style>\n",
              "<table border=\"1\" class=\"dataframe\">\n",
              "  <thead>\n",
              "    <tr style=\"text-align: right;\">\n",
              "      <th></th>\n",
              "      <th>Ticker</th>\n",
              "      <th>Amount</th>\n",
              "      <th>Price</th>\n",
              "    </tr>\n",
              "  </thead>\n",
              "  <tbody>\n",
              "    <tr>\n",
              "      <th>11</th>\n",
              "      <td>SANB11</td>\n",
              "      <td>-5</td>\n",
              "      <td>-40.24</td>\n",
              "    </tr>\n",
              "    <tr>\n",
              "      <th>13</th>\n",
              "      <td>BPAC11</td>\n",
              "      <td>-10</td>\n",
              "      <td>-110.50</td>\n",
              "    </tr>\n",
              "    <tr>\n",
              "      <th>14</th>\n",
              "      <td>ITUB4</td>\n",
              "      <td>-5</td>\n",
              "      <td>-27.33</td>\n",
              "    </tr>\n",
              "    <tr>\n",
              "      <th>19</th>\n",
              "      <td>PETR4</td>\n",
              "      <td>15</td>\n",
              "      <td>24.45</td>\n",
              "    </tr>\n",
              "    <tr>\n",
              "      <th>24</th>\n",
              "      <td>BBDC3</td>\n",
              "      <td>-25</td>\n",
              "      <td>-22.32</td>\n",
              "    </tr>\n",
              "    <tr>\n",
              "      <th>...</th>\n",
              "      <td>...</td>\n",
              "      <td>...</td>\n",
              "      <td>...</td>\n",
              "    </tr>\n",
              "    <tr>\n",
              "      <th>1</th>\n",
              "      <td>PETR4</td>\n",
              "      <td>10</td>\n",
              "      <td>25.19</td>\n",
              "    </tr>\n",
              "    <tr>\n",
              "      <th>2</th>\n",
              "      <td>SANB11</td>\n",
              "      <td>5</td>\n",
              "      <td>38.91</td>\n",
              "    </tr>\n",
              "    <tr>\n",
              "      <th>3</th>\n",
              "      <td>MGLU3</td>\n",
              "      <td>5</td>\n",
              "      <td>18.48</td>\n",
              "    </tr>\n",
              "    <tr>\n",
              "      <th>4</th>\n",
              "      <td>ITUB4</td>\n",
              "      <td>10</td>\n",
              "      <td>28.07</td>\n",
              "    </tr>\n",
              "    <tr>\n",
              "      <th>5</th>\n",
              "      <td>BPAC11</td>\n",
              "      <td>5</td>\n",
              "      <td>110.50</td>\n",
              "    </tr>\n",
              "  </tbody>\n",
              "</table>\n",
              "<p>156 rows × 3 columns</p>\n",
              "</div>"
            ],
            "text/plain": [
              "    Ticker  Amount   Price\n",
              "11  SANB11      -5  -40.24\n",
              "13  BPAC11     -10 -110.50\n",
              "14   ITUB4      -5  -27.33\n",
              "19   PETR4      15   24.45\n",
              "24   BBDC3     -25  -22.32\n",
              "..     ...     ...     ...\n",
              "1    PETR4      10   25.19\n",
              "2   SANB11       5   38.91\n",
              "3    MGLU3       5   18.48\n",
              "4    ITUB4      10   28.07\n",
              "5   BPAC11       5  110.50\n",
              "\n",
              "[156 rows x 3 columns]"
            ]
          },
          "metadata": {
            "tags": []
          },
          "execution_count": 175
        }
      ]
    },
    {
      "cell_type": "code",
      "metadata": {
        "colab": {
          "base_uri": "https://localhost:8080/"
        },
        "id": "2Y-XwESA55Vd",
        "outputId": "b1ae0f81-f6e7-4fbd-cf2d-b2c1d28f1304"
      },
      "source": [
        "#ações presentes na carteira\n",
        "stock_client = list(cliente_1150_posições.Ticker.unique())\n",
        "stock_client"
      ],
      "execution_count": null,
      "outputs": [
        {
          "output_type": "execute_result",
          "data": {
            "text/plain": [
              "['SANB11', 'BPAC11', 'ITUB4', 'PETR4', 'BBDC3', 'MGLU3']"
            ]
          },
          "metadata": {
            "tags": []
          },
          "execution_count": 176
        }
      ]
    },
    {
      "cell_type": "code",
      "metadata": {
        "id": "kVdnIwMSxE0q",
        "colab": {
          "base_uri": "https://localhost:8080/",
          "height": 235
        },
        "outputId": "dd9de756-8964-4e52-b8e2-619c2bcf758d"
      },
      "source": [
        "neg_client = pd.DataFrame(columns=['Ticker','Amount','Price'])  \n",
        "mesa_fracionada = posição_mesa.copy()\n",
        "mesa_fracionada['Amount'] = mesa_fracionada['Amount']/ len(clientes) \n",
        "\n",
        "#ações compradas\n",
        "a_compr = cliente_1150_posições[cliente_1150_posições.Amount > 0]\n",
        "\n",
        "for x in stock_client:\n",
        "    acoes_x = a_compr.loc[a_compr.Ticker == x]\n",
        "    negociadas = acoes_x['Amount'].sum()\n",
        "    preco_medio = (np.average(acoes_x.Price,weights=acoes_x.Amount)).round(2)  #media ponderada arredondando para 2 casas decimais   \n",
        "    neg_client = neg_client.append({\"Ticker\":x,\"Amount\":negociadas,'Price':preco_medio}, ignore_index=True)\n",
        "\n",
        "#ações vendidas\n",
        "a_vend = cliente_1150_posições[cliente_1150_posições.Amount < 0]\n",
        "\n",
        "for x in stock_client:\n",
        "    acoes_x = a_vend.loc[a_vend.Ticker == x]\n",
        "    negociadas = acoes_x['Amount'].sum()\n",
        "    preco_medio = (np.average(acoes_x.Price,weights=acoes_x.Amount)).round(2)  #media ponderada arredondando para 2 casas decimais)\n",
        "    neg_client = neg_client.append({\"Ticker\":x,\"Amount\":negociadas,'Price':preco_medio}, ignore_index=True)\n",
        "\n",
        "mesa_fracionada.reset_index(inplace=True)\n",
        "mesa_fracionada.rename(columns={'Stock':'Ticker'}, inplace=True)\n",
        "neg_client = pd.concat([neg_client,mesa_fracionada], axis=0)\n",
        "\n",
        "# Aqui considerei colocar o preço médio entre as ações vendidas e compradas para calcular o calor final\n",
        "#por isso deixei todos os valores positivos\n",
        "neg_client['Price'] = abs(neg_client.Price)\n",
        "neg_client.sort_values(by='Ticker')\n",
        "\n",
        "# calculando a posição final e média por ação\n",
        "neg_client = neg_client.groupby('Ticker').agg({'Amount':sum, 'Price':'mean'})\n",
        "\n",
        "#Lucro/Prejuízo\n",
        "cliente_1150['Preco inicial'] = cliente_1150.Amount * cliente_1150.Price\n",
        "preco_inicial = cliente_1150[['Ticker','Preco inicial']]\n",
        "\n",
        "neg_client['Preco Final'] = neg_client['Amount'] * neg_client.Price\n",
        "neg_client= pd.merge(neg_client, preco_inicial, how='outer', on='Ticker')\n",
        "neg_client['Lucro/Prejuízo'] = neg_client['Preco Final'] - neg_client['Preco inicial']\n",
        "neg_client.drop(columns=['Preco inicial','Preco Final'],axis=0, inplace=True)\n",
        "\n",
        "#inserindo a coluna sector\n",
        "neg_client['Sector'] = neg_client.Ticker.map(setores)\n",
        "neg_client.sort_values(by='Ticker', inplace=True)\n",
        "\n",
        "#Salvando em arquivo excel\n",
        "#optei por salvar em um diferente mas poderia salvar no mesmo arquivo do tópico antetior \n",
        "posicoes_cliente_1150 = pd.ExcelWriter('posicoes_cliente_1150.xlsx', engine='xlsxwriter') \n",
        "\n",
        "neg_client.to_excel(posicoes_cliente_1150, sheet_name='Client - 1150')\n",
        "\n",
        "posicoes_cliente_1150.save()\n",
        "neg_client"
      ],
      "execution_count": null,
      "outputs": [
        {
          "output_type": "execute_result",
          "data": {
            "text/html": [
              "<div>\n",
              "<style scoped>\n",
              "    .dataframe tbody tr th:only-of-type {\n",
              "        vertical-align: middle;\n",
              "    }\n",
              "\n",
              "    .dataframe tbody tr th {\n",
              "        vertical-align: top;\n",
              "    }\n",
              "\n",
              "    .dataframe thead th {\n",
              "        text-align: right;\n",
              "    }\n",
              "</style>\n",
              "<table border=\"1\" class=\"dataframe\">\n",
              "  <thead>\n",
              "    <tr style=\"text-align: right;\">\n",
              "      <th></th>\n",
              "      <th>Ticker</th>\n",
              "      <th>Amount</th>\n",
              "      <th>Price</th>\n",
              "      <th>Lucro/Prejuízo</th>\n",
              "      <th>Sector</th>\n",
              "    </tr>\n",
              "  </thead>\n",
              "  <tbody>\n",
              "    <tr>\n",
              "      <th>0</th>\n",
              "      <td>BBDC3</td>\n",
              "      <td>64.166667</td>\n",
              "      <td>21.238333</td>\n",
              "      <td>946.393056</td>\n",
              "      <td>Banking</td>\n",
              "    </tr>\n",
              "    <tr>\n",
              "      <th>1</th>\n",
              "      <td>BPAC11</td>\n",
              "      <td>45.833333</td>\n",
              "      <td>112.033333</td>\n",
              "      <td>4582.361111</td>\n",
              "      <td>Banking</td>\n",
              "    </tr>\n",
              "    <tr>\n",
              "      <th>2</th>\n",
              "      <td>ITUB4</td>\n",
              "      <td>24.166667</td>\n",
              "      <td>28.081667</td>\n",
              "      <td>397.940278</td>\n",
              "      <td>Banking</td>\n",
              "    </tr>\n",
              "    <tr>\n",
              "      <th>3</th>\n",
              "      <td>MGLU3</td>\n",
              "      <td>45.000000</td>\n",
              "      <td>20.161667</td>\n",
              "      <td>814.875000</td>\n",
              "      <td>Retail</td>\n",
              "    </tr>\n",
              "    <tr>\n",
              "      <th>4</th>\n",
              "      <td>PETR4</td>\n",
              "      <td>35.833333</td>\n",
              "      <td>25.161667</td>\n",
              "      <td>649.726389</td>\n",
              "      <td>Oil and Gas</td>\n",
              "    </tr>\n",
              "    <tr>\n",
              "      <th>5</th>\n",
              "      <td>SANB11</td>\n",
              "      <td>187.500000</td>\n",
              "      <td>40.303333</td>\n",
              "      <td>7362.325000</td>\n",
              "      <td>Banking</td>\n",
              "    </tr>\n",
              "  </tbody>\n",
              "</table>\n",
              "</div>"
            ],
            "text/plain": [
              "   Ticker      Amount       Price  Lucro/Prejuízo       Sector\n",
              "0   BBDC3   64.166667   21.238333      946.393056      Banking\n",
              "1  BPAC11   45.833333  112.033333     4582.361111      Banking\n",
              "2   ITUB4   24.166667   28.081667      397.940278      Banking\n",
              "3   MGLU3   45.000000   20.161667      814.875000       Retail\n",
              "4   PETR4   35.833333   25.161667      649.726389  Oil and Gas\n",
              "5  SANB11  187.500000   40.303333     7362.325000      Banking"
            ]
          },
          "metadata": {
            "tags": []
          },
          "execution_count": 190
        }
      ]
    }
  ]
}