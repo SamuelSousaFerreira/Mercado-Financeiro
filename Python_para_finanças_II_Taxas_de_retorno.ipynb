{
  "nbformat": 4,
  "nbformat_minor": 0,
  "metadata": {
    "colab": {
      "provenance": [],
      "authorship_tag": "ABX9TyP46RCiSwYtU+9/qI5o2ZPh",
      "include_colab_link": true
    },
    "kernelspec": {
      "name": "python3",
      "display_name": "Python 3"
    },
    "language_info": {
      "name": "python"
    }
  },
  "cells": [
    {
      "cell_type": "markdown",
      "metadata": {
        "id": "view-in-github",
        "colab_type": "text"
      },
      "source": [
        "<a href=\"https://colab.research.google.com/github/SamuelSousaFerreira/Mercado-Financeiro/blob/main/Python_para_finan%C3%A7as_II_Taxas_de_retorno.ipynb\" target=\"_parent\"><img src=\"https://colab.research.google.com/assets/colab-badge.svg\" alt=\"Open In Colab\"/></a>"
      ]
    },
    {
      "cell_type": "code",
      "execution_count": null,
      "metadata": {
        "id": "usTfAnWhHc2-"
      },
      "outputs": [],
      "source": []
    }
  ]
}